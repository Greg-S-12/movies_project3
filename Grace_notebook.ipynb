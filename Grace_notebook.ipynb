{
 "cells": [
  {
   "cell_type": "code",
   "execution_count": 1,
   "metadata": {},
   "outputs": [],
   "source": [
    "import math\n",
    "import pandas as pd\n",
    "import numpy as np\n",
    "\n",
    "from CleaningFunctions import Clean\n",
    "\n",
    "from pandasql import sqldf\n",
    "pysqldf = lambda q: sqldf(q, globals())\n",
    "\n",
    "import matplotlib.pyplot as plt\n",
    "import seaborn as sns\n",
    "%matplotlib inline\n",
    "sns.set_style('darkgrid')\n",
    "\n",
    "from CleaningFunctions import Clean\n",
    "\n",
    "import scipy\n",
    "import scipy.stats as stats"
   ]
  },
  {
   "cell_type": "code",
   "execution_count": 2,
   "metadata": {},
   "outputs": [],
   "source": [
    "%load_ext autoreload\n",
    "%autoreload 2"
   ]
  },
  {
   "cell_type": "code",
   "execution_count": 3,
   "metadata": {
    "scrolled": true
   },
   "outputs": [
    {
     "data": {
      "text/html": [
       "<div>\n",
       "<style scoped>\n",
       "    .dataframe tbody tr th:only-of-type {\n",
       "        vertical-align: middle;\n",
       "    }\n",
       "\n",
       "    .dataframe tbody tr th {\n",
       "        vertical-align: top;\n",
       "    }\n",
       "\n",
       "    .dataframe thead th {\n",
       "        text-align: right;\n",
       "    }\n",
       "</style>\n",
       "<table border=\"1\" class=\"dataframe\">\n",
       "  <thead>\n",
       "    <tr style=\"text-align: right;\">\n",
       "      <th></th>\n",
       "      <th>Title_ID</th>\n",
       "      <th>Release_Year</th>\n",
       "      <th>Runtime(Minutes)</th>\n",
       "      <th>Genre</th>\n",
       "      <th>Title</th>\n",
       "      <th>Rating</th>\n",
       "      <th>Number_of_Votes</th>\n",
       "      <th>Budget(LCY)</th>\n",
       "      <th>USA_Gross($)</th>\n",
       "      <th>Worldwide_Gross($)</th>\n",
       "      <th>Released_Date</th>\n",
       "      <th>Released_Month</th>\n",
       "      <th>Rotten_Tomatoes</th>\n",
       "      <th>Metascore</th>\n",
       "      <th>Actors</th>\n",
       "      <th>Production</th>\n",
       "    </tr>\n",
       "  </thead>\n",
       "  <tbody>\n",
       "    <tr>\n",
       "      <td>0</td>\n",
       "      <td>tt0069049</td>\n",
       "      <td>2018</td>\n",
       "      <td>122</td>\n",
       "      <td>Drama</td>\n",
       "      <td>The Other Side of the Wind</td>\n",
       "      <td>6.9</td>\n",
       "      <td>4989</td>\n",
       "      <td>NaN</td>\n",
       "      <td>NaN</td>\n",
       "      <td>NaN</td>\n",
       "      <td>02 Nov 2018</td>\n",
       "      <td>11.0</td>\n",
       "      <td>83.0</td>\n",
       "      <td>78.0</td>\n",
       "      <td>John Huston, Oja Kodar, Peter Bogdanovich, Sus...</td>\n",
       "      <td>Netflix</td>\n",
       "    </tr>\n",
       "    <tr>\n",
       "      <td>1</td>\n",
       "      <td>tt0339736</td>\n",
       "      <td>2017</td>\n",
       "      <td>98</td>\n",
       "      <td>Horror</td>\n",
       "      <td>The Evil Within</td>\n",
       "      <td>5.5</td>\n",
       "      <td>2572</td>\n",
       "      <td>$6000000</td>\n",
       "      <td>NaN</td>\n",
       "      <td>NaN</td>\n",
       "      <td>30 Aug 2017</td>\n",
       "      <td>8.0</td>\n",
       "      <td>100.0</td>\n",
       "      <td>NaN</td>\n",
       "      <td>Sean Patrick Flanery, Dina Meyer, Frederick Ko...</td>\n",
       "      <td>NaN</td>\n",
       "    </tr>\n",
       "    <tr>\n",
       "      <td>2</td>\n",
       "      <td>tt0360556</td>\n",
       "      <td>2018</td>\n",
       "      <td>100</td>\n",
       "      <td>Drama,Sci-Fi,Thriller</td>\n",
       "      <td>Fahrenheit 451</td>\n",
       "      <td>4.9</td>\n",
       "      <td>15295</td>\n",
       "      <td>NaN</td>\n",
       "      <td>NaN</td>\n",
       "      <td>NaN</td>\n",
       "      <td>20 May 2018</td>\n",
       "      <td>5.0</td>\n",
       "      <td>32.0</td>\n",
       "      <td>NaN</td>\n",
       "      <td>Michael B. Jordan, Aaron Davis, Cindy Katz, Mi...</td>\n",
       "      <td>HBO Films</td>\n",
       "    </tr>\n",
       "    <tr>\n",
       "      <td>3</td>\n",
       "      <td>tt0365545</td>\n",
       "      <td>2018</td>\n",
       "      <td>98</td>\n",
       "      <td>Comedy,Drama,Romance</td>\n",
       "      <td>Nappily Ever After</td>\n",
       "      <td>6.4</td>\n",
       "      <td>6718</td>\n",
       "      <td>NaN</td>\n",
       "      <td>NaN</td>\n",
       "      <td>NaN</td>\n",
       "      <td>21 Sep 2018</td>\n",
       "      <td>9.0</td>\n",
       "      <td>71.0</td>\n",
       "      <td>63.0</td>\n",
       "      <td>Sanaa Lathan, Ricky Whittle, Lyriq Bent, Lynn ...</td>\n",
       "      <td>Netflix</td>\n",
       "    </tr>\n",
       "    <tr>\n",
       "      <td>4</td>\n",
       "      <td>tt0369610</td>\n",
       "      <td>2015</td>\n",
       "      <td>124</td>\n",
       "      <td>Action,Adventure,Sci-Fi</td>\n",
       "      <td>Jurassic World</td>\n",
       "      <td>7.0</td>\n",
       "      <td>549806</td>\n",
       "      <td>$150000000</td>\n",
       "      <td>652.27</td>\n",
       "      <td>1670.4</td>\n",
       "      <td>12 Jun 2015</td>\n",
       "      <td>6.0</td>\n",
       "      <td>72.0</td>\n",
       "      <td>59.0</td>\n",
       "      <td>Chris Pratt, Bryce Dallas Howard, Irrfan Khan,...</td>\n",
       "      <td>Universal Pictures</td>\n",
       "    </tr>\n",
       "  </tbody>\n",
       "</table>\n",
       "</div>"
      ],
      "text/plain": [
       "    Title_ID  Release_Year  Runtime(Minutes)                    Genre  \\\n",
       "0  tt0069049          2018               122                    Drama   \n",
       "1  tt0339736          2017                98                   Horror   \n",
       "2  tt0360556          2018               100    Drama,Sci-Fi,Thriller   \n",
       "3  tt0365545          2018                98     Comedy,Drama,Romance   \n",
       "4  tt0369610          2015               124  Action,Adventure,Sci-Fi   \n",
       "\n",
       "                        Title  Rating  Number_of_Votes Budget(LCY)  \\\n",
       "0  The Other Side of the Wind     6.9             4989         NaN   \n",
       "1             The Evil Within     5.5             2572    $6000000   \n",
       "2              Fahrenheit 451     4.9            15295         NaN   \n",
       "3          Nappily Ever After     6.4             6718         NaN   \n",
       "4              Jurassic World     7.0           549806  $150000000   \n",
       "\n",
       "   USA_Gross($)  Worldwide_Gross($) Released_Date  Released_Month  \\\n",
       "0           NaN                 NaN   02 Nov 2018            11.0   \n",
       "1           NaN                 NaN   30 Aug 2017             8.0   \n",
       "2           NaN                 NaN   20 May 2018             5.0   \n",
       "3           NaN                 NaN   21 Sep 2018             9.0   \n",
       "4        652.27              1670.4   12 Jun 2015             6.0   \n",
       "\n",
       "   Rotten_Tomatoes  Metascore  \\\n",
       "0             83.0       78.0   \n",
       "1            100.0        NaN   \n",
       "2             32.0        NaN   \n",
       "3             71.0       63.0   \n",
       "4             72.0       59.0   \n",
       "\n",
       "                                              Actors          Production  \n",
       "0  John Huston, Oja Kodar, Peter Bogdanovich, Sus...             Netflix  \n",
       "1  Sean Patrick Flanery, Dina Meyer, Frederick Ko...                 NaN  \n",
       "2  Michael B. Jordan, Aaron Davis, Cindy Katz, Mi...           HBO Films  \n",
       "3  Sanaa Lathan, Ricky Whittle, Lyriq Bent, Lynn ...             Netflix  \n",
       "4  Chris Pratt, Bryce Dallas Howard, Irrfan Khan,...  Universal Pictures  "
      ]
     },
     "execution_count": 3,
     "metadata": {},
     "output_type": "execute_result"
    }
   ],
   "source": [
    "#Full_OMDB_Table.csv contains a list English movies (country USA) from November 2014 to October 2019 taken from IMDB. \n",
    "#Budget and revenue info are from IMDB as well.  Ratings (IMDB, Rotten Tomatoes and Metascore), released date, actors\n",
    "#and production info are from OMDB, unoffical IMDB API.\n",
    "#Convert csv to dataframe\n",
    "df = pd.read_csv(\"Full_OMDB_Table.csv\")\n",
    "df.head()"
   ]
  },
  {
   "cell_type": "code",
   "execution_count": 4,
   "metadata": {
    "scrolled": true
   },
   "outputs": [
    {
     "data": {
      "text/plain": [
       "Index(['Title_ID', 'Release_Year', 'Runtime(Minutes)', 'Genre', 'Title',\n",
       "       'Rating', 'Number_of_Votes', 'Budget(LCY)', 'USA_Gross($)',\n",
       "       'Worldwide_Gross($)', 'Released_Date', 'Released_Month',\n",
       "       'Rotten_Tomatoes', 'Metascore', 'Actors', 'Production'],\n",
       "      dtype='object')"
      ]
     },
     "execution_count": 4,
     "metadata": {},
     "output_type": "execute_result"
    }
   ],
   "source": [
    "df.columns"
   ]
  },
  {
   "cell_type": "markdown",
   "metadata": {},
   "source": [
    "### Is it more profitable to release movies during the winter months in the US?\n",
    "\n",
    "Test is focused on last 5 years English movies released in the US taken from IMDB.  Profitability will be measured using the budget (converted into USD) and gross US revenue (both in millions) scraped from each of the movie IMDB webpages. t-test will be performed on the mean profits of winter (Dec, Jan, Feb) and summer (Jun, Jul, Aug) movies.\n",
    "\n",
    "#### Perform EDA on  the data taken from IMDB.  Check for null values and outliers."
   ]
  },
  {
   "cell_type": "code",
   "execution_count": 5,
   "metadata": {},
   "outputs": [
    {
     "data": {
      "text/html": [
       "<div>\n",
       "<style scoped>\n",
       "    .dataframe tbody tr th:only-of-type {\n",
       "        vertical-align: middle;\n",
       "    }\n",
       "\n",
       "    .dataframe tbody tr th {\n",
       "        vertical-align: top;\n",
       "    }\n",
       "\n",
       "    .dataframe thead th {\n",
       "        text-align: right;\n",
       "    }\n",
       "</style>\n",
       "<table border=\"1\" class=\"dataframe\">\n",
       "  <thead>\n",
       "    <tr style=\"text-align: right;\">\n",
       "      <th></th>\n",
       "      <th>Title_ID</th>\n",
       "      <th>Release_Year</th>\n",
       "      <th>Released_Month</th>\n",
       "      <th>Title</th>\n",
       "      <th>Genre</th>\n",
       "      <th>Budget(LCY)</th>\n",
       "      <th>USA_Gross($)</th>\n",
       "    </tr>\n",
       "  </thead>\n",
       "  <tbody>\n",
       "    <tr>\n",
       "      <td>0</td>\n",
       "      <td>tt0069049</td>\n",
       "      <td>2018</td>\n",
       "      <td>11.0</td>\n",
       "      <td>The Other Side of the Wind</td>\n",
       "      <td>Drama</td>\n",
       "      <td>NaN</td>\n",
       "      <td>NaN</td>\n",
       "    </tr>\n",
       "    <tr>\n",
       "      <td>1</td>\n",
       "      <td>tt0339736</td>\n",
       "      <td>2017</td>\n",
       "      <td>8.0</td>\n",
       "      <td>The Evil Within</td>\n",
       "      <td>Horror</td>\n",
       "      <td>$6000000</td>\n",
       "      <td>NaN</td>\n",
       "    </tr>\n",
       "    <tr>\n",
       "      <td>2</td>\n",
       "      <td>tt0360556</td>\n",
       "      <td>2018</td>\n",
       "      <td>5.0</td>\n",
       "      <td>Fahrenheit 451</td>\n",
       "      <td>Drama,Sci-Fi,Thriller</td>\n",
       "      <td>NaN</td>\n",
       "      <td>NaN</td>\n",
       "    </tr>\n",
       "    <tr>\n",
       "      <td>3</td>\n",
       "      <td>tt0365545</td>\n",
       "      <td>2018</td>\n",
       "      <td>9.0</td>\n",
       "      <td>Nappily Ever After</td>\n",
       "      <td>Comedy,Drama,Romance</td>\n",
       "      <td>NaN</td>\n",
       "      <td>NaN</td>\n",
       "    </tr>\n",
       "    <tr>\n",
       "      <td>4</td>\n",
       "      <td>tt0369610</td>\n",
       "      <td>2015</td>\n",
       "      <td>6.0</td>\n",
       "      <td>Jurassic World</td>\n",
       "      <td>Action,Adventure,Sci-Fi</td>\n",
       "      <td>$150000000</td>\n",
       "      <td>652.27</td>\n",
       "    </tr>\n",
       "  </tbody>\n",
       "</table>\n",
       "</div>"
      ],
      "text/plain": [
       "    Title_ID  Release_Year  Released_Month                       Title  \\\n",
       "0  tt0069049          2018            11.0  The Other Side of the Wind   \n",
       "1  tt0339736          2017             8.0             The Evil Within   \n",
       "2  tt0360556          2018             5.0              Fahrenheit 451   \n",
       "3  tt0365545          2018             9.0          Nappily Ever After   \n",
       "4  tt0369610          2015             6.0              Jurassic World   \n",
       "\n",
       "                     Genre Budget(LCY)  USA_Gross($)  \n",
       "0                    Drama         NaN           NaN  \n",
       "1                   Horror    $6000000           NaN  \n",
       "2    Drama,Sci-Fi,Thriller         NaN           NaN  \n",
       "3     Comedy,Drama,Romance         NaN           NaN  \n",
       "4  Action,Adventure,Sci-Fi  $150000000        652.27  "
      ]
     },
     "execution_count": 5,
     "metadata": {},
     "output_type": "execute_result"
    }
   ],
   "source": [
    "#Get the columns needed for the test:  movies released during the winter months more profitable\n",
    "df_season_revenue = df[[\"Title_ID\",\"Release_Year\",\"Released_Month\",\"Title\",\"Genre\",\"Budget(LCY)\", \"USA_Gross($)\"]]\n",
    "df_season_revenue.head()"
   ]
  },
  {
   "cell_type": "code",
   "execution_count": 6,
   "metadata": {
    "scrolled": true
   },
   "outputs": [
    {
     "name": "stdout",
     "output_type": "stream",
     "text": [
      "<class 'pandas.core.frame.DataFrame'>\n",
      "RangeIndex: 2015 entries, 0 to 2014\n",
      "Data columns (total 7 columns):\n",
      "Title_ID          2015 non-null object\n",
      "Release_Year      2015 non-null int64\n",
      "Released_Month    2005 non-null float64\n",
      "Title             2015 non-null object\n",
      "Genre             2015 non-null object\n",
      "Budget(LCY)       1004 non-null object\n",
      "USA_Gross($)      1085 non-null float64\n",
      "dtypes: float64(2), int64(1), object(4)\n",
      "memory usage: 110.3+ KB\n"
     ]
    },
    {
     "data": {
      "text/plain": [
       "None"
      ]
     },
     "metadata": {},
     "output_type": "display_data"
    }
   ],
   "source": [
    "#Check dtype and for null values\n",
    "display(df_season_revenue.info())"
   ]
  },
  {
   "cell_type": "code",
   "execution_count": 7,
   "metadata": {},
   "outputs": [
    {
     "name": "stdout",
     "output_type": "stream",
     "text": [
      "<class 'pandas.core.frame.DataFrame'>\n",
      "Int64Index: 771 entries, 4 to 2004\n",
      "Data columns (total 7 columns):\n",
      "Title_ID          771 non-null object\n",
      "Release_Year      771 non-null int64\n",
      "Released_Month    771 non-null float64\n",
      "Title             771 non-null object\n",
      "Genre             771 non-null object\n",
      "Budget(LCY)       771 non-null object\n",
      "USA_Gross($)      771 non-null float64\n",
      "dtypes: float64(2), int64(1), object(4)\n",
      "memory usage: 48.2+ KB\n"
     ]
    },
    {
     "name": "stderr",
     "output_type": "stream",
     "text": [
      "/Applications/anaconda3/envs/learn-env/lib/python3.6/site-packages/ipykernel_launcher.py:2: SettingWithCopyWarning: \n",
      "A value is trying to be set on a copy of a slice from a DataFrame\n",
      "\n",
      "See the caveats in the documentation: http://pandas.pydata.org/pandas-docs/stable/user_guide/indexing.html#returning-a-view-versus-a-copy\n",
      "  \n"
     ]
    }
   ],
   "source": [
    "#Drop null values under the money columns\n",
    "df_season_revenue.dropna(subset = [\"Budget(LCY)\", \"USA_Gross($)\"], inplace = True)\n",
    "df_season_revenue.info()"
   ]
  },
  {
   "cell_type": "code",
   "execution_count": 8,
   "metadata": {},
   "outputs": [
    {
     "name": "stderr",
     "output_type": "stream",
     "text": [
      "/Applications/anaconda3/envs/learn-env/lib/python3.6/site-packages/ipykernel_launcher.py:2: SettingWithCopyWarning: \n",
      "A value is trying to be set on a copy of a slice from a DataFrame.\n",
      "Try using .loc[row_indexer,col_indexer] = value instead\n",
      "\n",
      "See the caveats in the documentation: http://pandas.pydata.org/pandas-docs/stable/user_guide/indexing.html#returning-a-view-versus-a-copy\n",
      "  \n",
      "/Applications/anaconda3/envs/learn-env/lib/python3.6/site-packages/pandas/core/indexing.py:205: SettingWithCopyWarning: \n",
      "A value is trying to be set on a copy of a slice from a DataFrame\n",
      "\n",
      "See the caveats in the documentation: http://pandas.pydata.org/pandas-docs/stable/user_guide/indexing.html#returning-a-view-versus-a-copy\n",
      "  self._setitem_with_indexer(indexer, value)\n",
      "/Applications/anaconda3/envs/learn-env/lib/python3.6/site-packages/ipykernel_launcher.py:6: SettingWithCopyWarning: \n",
      "A value is trying to be set on a copy of a slice from a DataFrame\n",
      "\n",
      "See the caveats in the documentation: http://pandas.pydata.org/pandas-docs/stable/user_guide/indexing.html#returning-a-view-versus-a-copy\n",
      "  \n",
      "/Applications/anaconda3/envs/learn-env/lib/python3.6/site-packages/ipykernel_launcher.py:8: SettingWithCopyWarning: \n",
      "A value is trying to be set on a copy of a slice from a DataFrame\n",
      "\n",
      "See the caveats in the documentation: http://pandas.pydata.org/pandas-docs/stable/user_guide/indexing.html#returning-a-view-versus-a-copy\n",
      "  \n",
      "/Applications/anaconda3/envs/learn-env/lib/python3.6/site-packages/ipykernel_launcher.py:10: SettingWithCopyWarning: \n",
      "A value is trying to be set on a copy of a slice from a DataFrame\n",
      "\n",
      "See the caveats in the documentation: http://pandas.pydata.org/pandas-docs/stable/user_guide/indexing.html#returning-a-view-versus-a-copy\n",
      "  # Remove the CWD from sys.path while we load stuff.\n",
      "/Applications/anaconda3/envs/learn-env/lib/python3.6/site-packages/ipykernel_launcher.py:12: SettingWithCopyWarning: \n",
      "A value is trying to be set on a copy of a slice from a DataFrame\n",
      "\n",
      "See the caveats in the documentation: http://pandas.pydata.org/pandas-docs/stable/user_guide/indexing.html#returning-a-view-versus-a-copy\n",
      "  if sys.path[0] == '':\n",
      "/Applications/anaconda3/envs/learn-env/lib/python3.6/site-packages/pandas/core/frame.py:4102: SettingWithCopyWarning: \n",
      "A value is trying to be set on a copy of a slice from a DataFrame\n",
      "\n",
      "See the caveats in the documentation: http://pandas.pydata.org/pandas-docs/stable/user_guide/indexing.html#returning-a-view-versus-a-copy\n",
      "  errors=errors,\n"
     ]
    }
   ],
   "source": [
    "#Convert budget column to USD, use current exchange rate\n",
    "df_season_revenue[\"Budget($)\"] = pd.Series([])\n",
    "\n",
    "for i in range(len(df_season_revenue)):\n",
    "    if str(df_season_revenue[\"Budget(LCY)\"].iloc[i])[0] == \"$\":\n",
    "        df_season_revenue[\"Budget($)\"].iloc[i] = int(str(df_season_revenue[\"Budget(LCY)\"].iloc[i]).replace(\"$\",\"\"))/1000000\n",
    "    elif str(df_season_revenue[\"Budget(LCY)\"].iloc[i])[0:3] == \"EUR\":\n",
    "        df_season_revenue[\"Budget($)\"].iloc[i] = int(str(df_season_revenue[\"Budget(LCY)\"].iloc[i]).replace(\"EUR\",\"\"))/1000000 * 1.1\n",
    "    elif str(df_season_revenue[\"Budget(LCY)\"].iloc[i])[0:3] == \"GBP\":\n",
    "        df_season_revenue[\"Budget($)\"].iloc[i] = int(str(df_season_revenue[\"Budget(LCY)\"].iloc[i]).replace(\"GBP\",\"\"))/1000000 * 1.28\n",
    "    elif str(df_season_revenue[\"Budget(LCY)\"].iloc[i])[0:3] == \"CAD\":\n",
    "        df_season_revenue[\"Budget($)\"].iloc[i] = int(str(df_season_revenue[\"Budget(LCY)\"].iloc[i]).replace(\"CAD\",\"\"))/1000000 * 0.75\n",
    "    else:\n",
    "        continue\n",
    "        \n",
    "df_season_revenue.drop(columns = [\"Budget(LCY)\"], axis = 1, inplace = True)"
   ]
  },
  {
   "cell_type": "code",
   "execution_count": 9,
   "metadata": {
    "scrolled": false
   },
   "outputs": [
    {
     "name": "stdout",
     "output_type": "stream",
     "text": [
      "<class 'pandas.core.frame.DataFrame'>\n",
      "Int64Index: 771 entries, 4 to 2004\n",
      "Data columns (total 7 columns):\n",
      "Title_ID          771 non-null object\n",
      "Release_Year      771 non-null int64\n",
      "Released_Month    771 non-null float64\n",
      "Title             771 non-null object\n",
      "Genre             771 non-null object\n",
      "USA_Gross($)      771 non-null float64\n",
      "Budget($)         771 non-null float64\n",
      "dtypes: float64(3), int64(1), object(3)\n",
      "memory usage: 48.2+ KB\n"
     ]
    }
   ],
   "source": [
    "df_season_revenue.info()"
   ]
  },
  {
   "cell_type": "code",
   "execution_count": 10,
   "metadata": {},
   "outputs": [
    {
     "data": {
      "text/html": [
       "<div>\n",
       "<style scoped>\n",
       "    .dataframe tbody tr th:only-of-type {\n",
       "        vertical-align: middle;\n",
       "    }\n",
       "\n",
       "    .dataframe tbody tr th {\n",
       "        vertical-align: top;\n",
       "    }\n",
       "\n",
       "    .dataframe thead th {\n",
       "        text-align: right;\n",
       "    }\n",
       "</style>\n",
       "<table border=\"1\" class=\"dataframe\">\n",
       "  <thead>\n",
       "    <tr style=\"text-align: right;\">\n",
       "      <th></th>\n",
       "      <th>Title_ID</th>\n",
       "      <th>Release_Year</th>\n",
       "      <th>Released_Month</th>\n",
       "      <th>Title</th>\n",
       "      <th>Genre</th>\n",
       "      <th>USA_Gross($)</th>\n",
       "      <th>Budget($)</th>\n",
       "      <th>Season</th>\n",
       "      <th>Season_</th>\n",
       "    </tr>\n",
       "  </thead>\n",
       "  <tbody>\n",
       "    <tr>\n",
       "      <td>0</td>\n",
       "      <td>tt0369610</td>\n",
       "      <td>2015</td>\n",
       "      <td>6.0</td>\n",
       "      <td>Jurassic World</td>\n",
       "      <td>Action,Adventure,Sci-Fi</td>\n",
       "      <td>652.27</td>\n",
       "      <td>150.00</td>\n",
       "      <td>3</td>\n",
       "      <td>2</td>\n",
       "    </tr>\n",
       "    <tr>\n",
       "      <td>1</td>\n",
       "      <td>tt0451279</td>\n",
       "      <td>2017</td>\n",
       "      <td>6.0</td>\n",
       "      <td>Wonder Woman</td>\n",
       "      <td>Action,Adventure,Fantasy</td>\n",
       "      <td>412.56</td>\n",
       "      <td>149.00</td>\n",
       "      <td>3</td>\n",
       "      <td>2</td>\n",
       "    </tr>\n",
       "    <tr>\n",
       "      <td>2</td>\n",
       "      <td>tt1124037</td>\n",
       "      <td>2016</td>\n",
       "      <td>6.0</td>\n",
       "      <td>Free State of Jones</td>\n",
       "      <td>Action,Biography,Drama</td>\n",
       "      <td>20.81</td>\n",
       "      <td>50.00</td>\n",
       "      <td>3</td>\n",
       "      <td>2</td>\n",
       "    </tr>\n",
       "    <tr>\n",
       "      <td>3</td>\n",
       "      <td>tt1489889</td>\n",
       "      <td>2016</td>\n",
       "      <td>6.0</td>\n",
       "      <td>Central Intelligence</td>\n",
       "      <td>Action,Comedy,Crime</td>\n",
       "      <td>127.44</td>\n",
       "      <td>50.00</td>\n",
       "      <td>3</td>\n",
       "      <td>2</td>\n",
       "    </tr>\n",
       "    <tr>\n",
       "      <td>4</td>\n",
       "      <td>tt1628841</td>\n",
       "      <td>2016</td>\n",
       "      <td>6.0</td>\n",
       "      <td>Independence Day: Resurgence</td>\n",
       "      <td>Action,Adventure,Sci-Fi</td>\n",
       "      <td>103.14</td>\n",
       "      <td>165.00</td>\n",
       "      <td>3</td>\n",
       "      <td>2</td>\n",
       "    </tr>\n",
       "    <tr>\n",
       "      <td>...</td>\n",
       "      <td>...</td>\n",
       "      <td>...</td>\n",
       "      <td>...</td>\n",
       "      <td>...</td>\n",
       "      <td>...</td>\n",
       "      <td>...</td>\n",
       "      <td>...</td>\n",
       "      <td>...</td>\n",
       "      <td>...</td>\n",
       "    </tr>\n",
       "    <tr>\n",
       "      <td>766</td>\n",
       "      <td>tt7547410</td>\n",
       "      <td>2019</td>\n",
       "      <td>8.0</td>\n",
       "      <td>Dora and the Lost City of Gold</td>\n",
       "      <td>Adventure,Family</td>\n",
       "      <td>60.48</td>\n",
       "      <td>49.00</td>\n",
       "      <td>3</td>\n",
       "      <td>2</td>\n",
       "    </tr>\n",
       "    <tr>\n",
       "      <td>767</td>\n",
       "      <td>tt7668870</td>\n",
       "      <td>2018</td>\n",
       "      <td>8.0</td>\n",
       "      <td>Searching</td>\n",
       "      <td>Drama,Mystery,Thriller</td>\n",
       "      <td>26.02</td>\n",
       "      <td>0.88</td>\n",
       "      <td>3</td>\n",
       "      <td>2</td>\n",
       "    </tr>\n",
       "    <tr>\n",
       "      <td>768</td>\n",
       "      <td>tt7798634</td>\n",
       "      <td>2019</td>\n",
       "      <td>8.0</td>\n",
       "      <td>Ready or Not</td>\n",
       "      <td>Comedy,Horror,Mystery</td>\n",
       "      <td>28.71</td>\n",
       "      <td>6.00</td>\n",
       "      <td>3</td>\n",
       "      <td>2</td>\n",
       "    </tr>\n",
       "    <tr>\n",
       "      <td>769</td>\n",
       "      <td>tt8186318</td>\n",
       "      <td>2019</td>\n",
       "      <td>8.0</td>\n",
       "      <td>Overcomer</td>\n",
       "      <td>Drama,Sport</td>\n",
       "      <td>34.70</td>\n",
       "      <td>5.00</td>\n",
       "      <td>3</td>\n",
       "      <td>2</td>\n",
       "    </tr>\n",
       "    <tr>\n",
       "      <td>770</td>\n",
       "      <td>tt8266310</td>\n",
       "      <td>2019</td>\n",
       "      <td>8.0</td>\n",
       "      <td>Blinded by the Light</td>\n",
       "      <td>Comedy,Drama,Music</td>\n",
       "      <td>11.90</td>\n",
       "      <td>15.00</td>\n",
       "      <td>3</td>\n",
       "      <td>2</td>\n",
       "    </tr>\n",
       "  </tbody>\n",
       "</table>\n",
       "<p>771 rows × 9 columns</p>\n",
       "</div>"
      ],
      "text/plain": [
       "      Title_ID  Release_Year  Released_Month                           Title  \\\n",
       "0    tt0369610          2015             6.0                  Jurassic World   \n",
       "1    tt0451279          2017             6.0                    Wonder Woman   \n",
       "2    tt1124037          2016             6.0             Free State of Jones   \n",
       "3    tt1489889          2016             6.0            Central Intelligence   \n",
       "4    tt1628841          2016             6.0    Independence Day: Resurgence   \n",
       "..         ...           ...             ...                             ...   \n",
       "766  tt7547410          2019             8.0  Dora and the Lost City of Gold   \n",
       "767  tt7668870          2018             8.0                       Searching   \n",
       "768  tt7798634          2019             8.0                    Ready or Not   \n",
       "769  tt8186318          2019             8.0                       Overcomer   \n",
       "770  tt8266310          2019             8.0            Blinded by the Light   \n",
       "\n",
       "                        Genre  USA_Gross($)  Budget($)  Season  Season_  \n",
       "0     Action,Adventure,Sci-Fi        652.27     150.00       3        2  \n",
       "1    Action,Adventure,Fantasy        412.56     149.00       3        2  \n",
       "2      Action,Biography,Drama         20.81      50.00       3        2  \n",
       "3         Action,Comedy,Crime        127.44      50.00       3        2  \n",
       "4     Action,Adventure,Sci-Fi        103.14     165.00       3        2  \n",
       "..                        ...           ...        ...     ...      ...  \n",
       "766          Adventure,Family         60.48      49.00       3        2  \n",
       "767    Drama,Mystery,Thriller         26.02       0.88       3        2  \n",
       "768     Comedy,Horror,Mystery         28.71       6.00       3        2  \n",
       "769               Drama,Sport         34.70       5.00       3        2  \n",
       "770        Comedy,Drama,Music         11.90      15.00       3        2  \n",
       "\n",
       "[771 rows x 9 columns]"
      ]
     },
     "execution_count": 10,
     "metadata": {},
     "output_type": "execute_result"
    }
   ],
   "source": [
    "#Add categorial columns for the seasons\n",
    "df_months = pd.DataFrame({\"Released_Month\" : list(range(1,13)), \"Season\" : [1,1,2,2,2,3,3,3,4,4,4,1], \"Season_\" : [1,1,2,2,2,2,2,2,1,1,1,1]})\n",
    "df_season_revenue = pd.merge(df_season_revenue, df_months, on = \"Released_Month\")\n",
    "df_season_revenue"
   ]
  },
  {
   "cell_type": "code",
   "execution_count": 11,
   "metadata": {
    "scrolled": false
   },
   "outputs": [],
   "source": [
    "#Calculate profit\n",
    "df_season_revenue[\"Profit(%)\"] = round((df_season_revenue[\"USA_Gross($)\"] / df_season_revenue[\"Budget($)\"]) - 1, 2)"
   ]
  },
  {
   "cell_type": "code",
   "execution_count": 12,
   "metadata": {},
   "outputs": [
    {
     "data": {
      "text/plain": [
       "<matplotlib.axes._subplots.AxesSubplot at 0x1a1f5467f0>"
      ]
     },
     "execution_count": 12,
     "metadata": {},
     "output_type": "execute_result"
    },
    {
     "data": {
      "image/png": "[encoded data removed]",
      "text/plain": [
       "<Figure size 1440x360 with 1 Axes>"
      ]
     },
     "metadata": {
      "needs_background": "light"
     },
     "output_type": "display_data"
    }
   ],
   "source": [
    "#Check the distribution of the profit column\n",
    "plt.figure(figsize = [20,5])\n",
    "sns.boxplot(df_season_revenue[\"Profit(%)\"])"
   ]
  },
  {
   "cell_type": "code",
   "execution_count": 13,
   "metadata": {
    "scrolled": true
   },
   "outputs": [
    {
     "data": {
      "text/plain": [
       "count    771.000000\n",
       "mean       1.206615\n",
       "std        8.641546\n",
       "min       -1.000000\n",
       "25%       -0.550000\n",
       "50%        0.060000\n",
       "75%        1.285000\n",
       "max      226.600000\n",
       "Name: Profit(%), dtype: float64"
      ]
     },
     "execution_count": 13,
     "metadata": {},
     "output_type": "execute_result"
    }
   ],
   "source": [
    "df_season_revenue[\"Profit(%)\"].describe()"
   ]
  },
  {
   "cell_type": "code",
   "execution_count": 14,
   "metadata": {},
   "outputs": [
    {
     "data": {
      "text/html": [
       "<div>\n",
       "<style scoped>\n",
       "    .dataframe tbody tr th:only-of-type {\n",
       "        vertical-align: middle;\n",
       "    }\n",
       "\n",
       "    .dataframe tbody tr th {\n",
       "        vertical-align: top;\n",
       "    }\n",
       "\n",
       "    .dataframe thead th {\n",
       "        text-align: right;\n",
       "    }\n",
       "</style>\n",
       "<table border=\"1\" class=\"dataframe\">\n",
       "  <thead>\n",
       "    <tr style=\"text-align: right;\">\n",
       "      <th></th>\n",
       "      <th>Title_ID</th>\n",
       "      <th>Release_Year</th>\n",
       "      <th>Released_Month</th>\n",
       "      <th>Title</th>\n",
       "      <th>Genre</th>\n",
       "      <th>USA_Gross($)</th>\n",
       "      <th>Budget($)</th>\n",
       "      <th>Season</th>\n",
       "      <th>Season_</th>\n",
       "      <th>Profit(%)</th>\n",
       "    </tr>\n",
       "  </thead>\n",
       "  <tbody>\n",
       "    <tr>\n",
       "      <td>171</td>\n",
       "      <td>tt5052448</td>\n",
       "      <td>2017</td>\n",
       "      <td>2.0</td>\n",
       "      <td>Get Out</td>\n",
       "      <td>Horror,Mystery,Thriller</td>\n",
       "      <td>176.04</td>\n",
       "      <td>4.50</td>\n",
       "      <td>1</td>\n",
       "      <td>1</td>\n",
       "      <td>38.12</td>\n",
       "    </tr>\n",
       "    <tr>\n",
       "      <td>260</td>\n",
       "      <td>tt2309260</td>\n",
       "      <td>2015</td>\n",
       "      <td>7.0</td>\n",
       "      <td>The Gallows</td>\n",
       "      <td>Horror,Mystery,Thriller</td>\n",
       "      <td>22.76</td>\n",
       "      <td>0.10</td>\n",
       "      <td>3</td>\n",
       "      <td>2</td>\n",
       "      <td>226.60</td>\n",
       "    </tr>\n",
       "    <tr>\n",
       "      <td>732</td>\n",
       "      <td>tt3832914</td>\n",
       "      <td>2015</td>\n",
       "      <td>8.0</td>\n",
       "      <td>War Room</td>\n",
       "      <td>Drama</td>\n",
       "      <td>67.79</td>\n",
       "      <td>3.00</td>\n",
       "      <td>3</td>\n",
       "      <td>2</td>\n",
       "      <td>21.60</td>\n",
       "    </tr>\n",
       "    <tr>\n",
       "      <td>767</td>\n",
       "      <td>tt7668870</td>\n",
       "      <td>2018</td>\n",
       "      <td>8.0</td>\n",
       "      <td>Searching</td>\n",
       "      <td>Drama,Mystery,Thriller</td>\n",
       "      <td>26.02</td>\n",
       "      <td>0.88</td>\n",
       "      <td>3</td>\n",
       "      <td>2</td>\n",
       "      <td>28.57</td>\n",
       "    </tr>\n",
       "  </tbody>\n",
       "</table>\n",
       "</div>"
      ],
      "text/plain": [
       "      Title_ID  Release_Year  Released_Month        Title  \\\n",
       "171  tt5052448          2017             2.0      Get Out   \n",
       "260  tt2309260          2015             7.0  The Gallows   \n",
       "732  tt3832914          2015             8.0     War Room   \n",
       "767  tt7668870          2018             8.0    Searching   \n",
       "\n",
       "                       Genre  USA_Gross($)  Budget($)  Season  Season_  \\\n",
       "171  Horror,Mystery,Thriller        176.04       4.50       1        1   \n",
       "260  Horror,Mystery,Thriller         22.76       0.10       3        2   \n",
       "732                    Drama         67.79       3.00       3        2   \n",
       "767   Drama,Mystery,Thriller         26.02       0.88       3        2   \n",
       "\n",
       "     Profit(%)  \n",
       "171      38.12  \n",
       "260     226.60  \n",
       "732      21.60  \n",
       "767      28.57  "
      ]
     },
     "execution_count": 14,
     "metadata": {},
     "output_type": "execute_result"
    }
   ],
   "source": [
    "#The above boxplot and table are showing 4 outliers above 15/20%\n",
    "#Remove the outliers profit > 15%\n",
    "df_season_outliers = df_season_revenue[df_season_revenue[\"Profit(%)\"] > 15]\n",
    "df_season_outliers"
   ]
  },
  {
   "cell_type": "code",
   "execution_count": 15,
   "metadata": {},
   "outputs": [
    {
     "data": {
      "text/html": [
       "<div>\n",
       "<style scoped>\n",
       "    .dataframe tbody tr th:only-of-type {\n",
       "        vertical-align: middle;\n",
       "    }\n",
       "\n",
       "    .dataframe tbody tr th {\n",
       "        vertical-align: top;\n",
       "    }\n",
       "\n",
       "    .dataframe thead th {\n",
       "        text-align: right;\n",
       "    }\n",
       "</style>\n",
       "<table border=\"1\" class=\"dataframe\">\n",
       "  <thead>\n",
       "    <tr style=\"text-align: right;\">\n",
       "      <th></th>\n",
       "      <th>Title_ID</th>\n",
       "      <th>Release_Year</th>\n",
       "      <th>Released_Month</th>\n",
       "      <th>Title</th>\n",
       "      <th>Genre</th>\n",
       "      <th>USA_Gross($)</th>\n",
       "      <th>Budget($)</th>\n",
       "      <th>Season</th>\n",
       "      <th>Season_</th>\n",
       "      <th>Profit(%)</th>\n",
       "    </tr>\n",
       "  </thead>\n",
       "  <tbody>\n",
       "    <tr>\n",
       "      <td>0</td>\n",
       "      <td>tt0369610</td>\n",
       "      <td>2015</td>\n",
       "      <td>6.0</td>\n",
       "      <td>Jurassic World</td>\n",
       "      <td>Action,Adventure,Sci-Fi</td>\n",
       "      <td>652.27</td>\n",
       "      <td>150.0</td>\n",
       "      <td>3</td>\n",
       "      <td>2</td>\n",
       "      <td>3.35</td>\n",
       "    </tr>\n",
       "    <tr>\n",
       "      <td>1</td>\n",
       "      <td>tt0451279</td>\n",
       "      <td>2017</td>\n",
       "      <td>6.0</td>\n",
       "      <td>Wonder Woman</td>\n",
       "      <td>Action,Adventure,Fantasy</td>\n",
       "      <td>412.56</td>\n",
       "      <td>149.0</td>\n",
       "      <td>3</td>\n",
       "      <td>2</td>\n",
       "      <td>1.77</td>\n",
       "    </tr>\n",
       "    <tr>\n",
       "      <td>2</td>\n",
       "      <td>tt1124037</td>\n",
       "      <td>2016</td>\n",
       "      <td>6.0</td>\n",
       "      <td>Free State of Jones</td>\n",
       "      <td>Action,Biography,Drama</td>\n",
       "      <td>20.81</td>\n",
       "      <td>50.0</td>\n",
       "      <td>3</td>\n",
       "      <td>2</td>\n",
       "      <td>-0.58</td>\n",
       "    </tr>\n",
       "    <tr>\n",
       "      <td>3</td>\n",
       "      <td>tt1489889</td>\n",
       "      <td>2016</td>\n",
       "      <td>6.0</td>\n",
       "      <td>Central Intelligence</td>\n",
       "      <td>Action,Comedy,Crime</td>\n",
       "      <td>127.44</td>\n",
       "      <td>50.0</td>\n",
       "      <td>3</td>\n",
       "      <td>2</td>\n",
       "      <td>1.55</td>\n",
       "    </tr>\n",
       "    <tr>\n",
       "      <td>4</td>\n",
       "      <td>tt1628841</td>\n",
       "      <td>2016</td>\n",
       "      <td>6.0</td>\n",
       "      <td>Independence Day: Resurgence</td>\n",
       "      <td>Action,Adventure,Sci-Fi</td>\n",
       "      <td>103.14</td>\n",
       "      <td>165.0</td>\n",
       "      <td>3</td>\n",
       "      <td>2</td>\n",
       "      <td>-0.37</td>\n",
       "    </tr>\n",
       "    <tr>\n",
       "      <td>...</td>\n",
       "      <td>...</td>\n",
       "      <td>...</td>\n",
       "      <td>...</td>\n",
       "      <td>...</td>\n",
       "      <td>...</td>\n",
       "      <td>...</td>\n",
       "      <td>...</td>\n",
       "      <td>...</td>\n",
       "      <td>...</td>\n",
       "      <td>...</td>\n",
       "    </tr>\n",
       "    <tr>\n",
       "      <td>765</td>\n",
       "      <td>tt7365604</td>\n",
       "      <td>2018</td>\n",
       "      <td>8.0</td>\n",
       "      <td>Dog Days</td>\n",
       "      <td>Comedy,Drama,Romance</td>\n",
       "      <td>6.81</td>\n",
       "      <td>10.0</td>\n",
       "      <td>3</td>\n",
       "      <td>2</td>\n",
       "      <td>-0.32</td>\n",
       "    </tr>\n",
       "    <tr>\n",
       "      <td>766</td>\n",
       "      <td>tt7547410</td>\n",
       "      <td>2019</td>\n",
       "      <td>8.0</td>\n",
       "      <td>Dora and the Lost City of Gold</td>\n",
       "      <td>Adventure,Family</td>\n",
       "      <td>60.48</td>\n",
       "      <td>49.0</td>\n",
       "      <td>3</td>\n",
       "      <td>2</td>\n",
       "      <td>0.23</td>\n",
       "    </tr>\n",
       "    <tr>\n",
       "      <td>768</td>\n",
       "      <td>tt7798634</td>\n",
       "      <td>2019</td>\n",
       "      <td>8.0</td>\n",
       "      <td>Ready or Not</td>\n",
       "      <td>Comedy,Horror,Mystery</td>\n",
       "      <td>28.71</td>\n",
       "      <td>6.0</td>\n",
       "      <td>3</td>\n",
       "      <td>2</td>\n",
       "      <td>3.78</td>\n",
       "    </tr>\n",
       "    <tr>\n",
       "      <td>769</td>\n",
       "      <td>tt8186318</td>\n",
       "      <td>2019</td>\n",
       "      <td>8.0</td>\n",
       "      <td>Overcomer</td>\n",
       "      <td>Drama,Sport</td>\n",
       "      <td>34.70</td>\n",
       "      <td>5.0</td>\n",
       "      <td>3</td>\n",
       "      <td>2</td>\n",
       "      <td>5.94</td>\n",
       "    </tr>\n",
       "    <tr>\n",
       "      <td>770</td>\n",
       "      <td>tt8266310</td>\n",
       "      <td>2019</td>\n",
       "      <td>8.0</td>\n",
       "      <td>Blinded by the Light</td>\n",
       "      <td>Comedy,Drama,Music</td>\n",
       "      <td>11.90</td>\n",
       "      <td>15.0</td>\n",
       "      <td>3</td>\n",
       "      <td>2</td>\n",
       "      <td>-0.21</td>\n",
       "    </tr>\n",
       "  </tbody>\n",
       "</table>\n",
       "<p>767 rows × 10 columns</p>\n",
       "</div>"
      ],
      "text/plain": [
       "      Title_ID  Release_Year  Released_Month                           Title  \\\n",
       "0    tt0369610          2015             6.0                  Jurassic World   \n",
       "1    tt0451279          2017             6.0                    Wonder Woman   \n",
       "2    tt1124037          2016             6.0             Free State of Jones   \n",
       "3    tt1489889          2016             6.0            Central Intelligence   \n",
       "4    tt1628841          2016             6.0    Independence Day: Resurgence   \n",
       "..         ...           ...             ...                             ...   \n",
       "765  tt7365604          2018             8.0                        Dog Days   \n",
       "766  tt7547410          2019             8.0  Dora and the Lost City of Gold   \n",
       "768  tt7798634          2019             8.0                    Ready or Not   \n",
       "769  tt8186318          2019             8.0                       Overcomer   \n",
       "770  tt8266310          2019             8.0            Blinded by the Light   \n",
       "\n",
       "                        Genre  USA_Gross($)  Budget($)  Season  Season_  \\\n",
       "0     Action,Adventure,Sci-Fi        652.27      150.0       3        2   \n",
       "1    Action,Adventure,Fantasy        412.56      149.0       3        2   \n",
       "2      Action,Biography,Drama         20.81       50.0       3        2   \n",
       "3         Action,Comedy,Crime        127.44       50.0       3        2   \n",
       "4     Action,Adventure,Sci-Fi        103.14      165.0       3        2   \n",
       "..                        ...           ...        ...     ...      ...   \n",
       "765      Comedy,Drama,Romance          6.81       10.0       3        2   \n",
       "766          Adventure,Family         60.48       49.0       3        2   \n",
       "768     Comedy,Horror,Mystery         28.71        6.0       3        2   \n",
       "769               Drama,Sport         34.70        5.0       3        2   \n",
       "770        Comedy,Drama,Music         11.90       15.0       3        2   \n",
       "\n",
       "     Profit(%)  \n",
       "0         3.35  \n",
       "1         1.77  \n",
       "2        -0.58  \n",
       "3         1.55  \n",
       "4        -0.37  \n",
       "..         ...  \n",
       "765      -0.32  \n",
       "766       0.23  \n",
       "768       3.78  \n",
       "769       5.94  \n",
       "770      -0.21  \n",
       "\n",
       "[767 rows x 10 columns]"
      ]
     },
     "execution_count": 15,
     "metadata": {},
     "output_type": "execute_result"
    }
   ],
   "source": [
    "df_season_revenue = df_season_revenue[df_season_revenue[\"Profit(%)\"] <= 15]\n",
    "df_season_revenue"
   ]
  },
  {
   "cell_type": "code",
   "execution_count": 16,
   "metadata": {},
   "outputs": [
    {
     "data": {
      "text/plain": [
       "<matplotlib.axes._subplots.AxesSubplot at 0x1a1f91d908>"
      ]
     },
     "execution_count": 16,
     "metadata": {},
     "output_type": "execute_result"
    },
    {
     "data": {
      "image/png": "[encoded data removed]",
      "text/plain": [
       "<Figure size 1440x360 with 1 Axes>"
      ]
     },
     "metadata": {
      "needs_background": "light"
     },
     "output_type": "display_data"
    }
   ],
   "source": [
    "plt.figure(figsize = [20,5])\n",
    "sns.boxplot(df_season_revenue[\"Profit(%)\"])"
   ]
  },
  {
   "cell_type": "code",
   "execution_count": 17,
   "metadata": {},
   "outputs": [
    {
     "data": {
      "text/plain": [
       "count    193.000000\n",
       "mean       0.697306\n",
       "std        1.944261\n",
       "min       -1.000000\n",
       "25%       -0.560000\n",
       "50%        0.130000\n",
       "75%        1.290000\n",
       "max       14.370000\n",
       "Name: Profit(%), dtype: float64"
      ]
     },
     "execution_count": 17,
     "metadata": {},
     "output_type": "execute_result"
    }
   ],
   "source": [
    "#Create a subset for winter movies\n",
    "df_Winter = df_season_revenue[(df_season_revenue[\"Season\"] == 1)]\n",
    "df_Winter[\"Profit(%)\"].describe()"
   ]
  },
  {
   "cell_type": "code",
   "execution_count": 18,
   "metadata": {
    "scrolled": true
   },
   "outputs": [
    {
     "data": {
      "text/plain": [
       "count    188.000000\n",
       "mean       1.043511\n",
       "std        2.392632\n",
       "min       -1.000000\n",
       "25%       -0.427500\n",
       "50%        0.310000\n",
       "75%        1.687500\n",
       "max       15.000000\n",
       "Name: Profit(%), dtype: float64"
      ]
     },
     "execution_count": 18,
     "metadata": {},
     "output_type": "execute_result"
    }
   ],
   "source": [
    "#Create a subset for summer movies which will be tested against winter movies\n",
    "df_Summer = df_season_revenue[(df_season_revenue[\"Season\"] == 3)]\n",
    "df_Summer[\"Profit(%)\"].describe()"
   ]
  },
  {
   "cell_type": "code",
   "execution_count": 19,
   "metadata": {
    "scrolled": false
   },
   "outputs": [
    {
     "data": {
      "text/plain": [
       "<matplotlib.axes._subplots.AxesSubplot at 0x1a1fe50e10>"
      ]
     },
     "execution_count": 19,
     "metadata": {},
     "output_type": "execute_result"
    },
    {
     "data": {
      "image/png": "[encoded data removed]",
      "text/plain": [
       "<Figure size 432x288 with 1 Axes>"
      ]
     },
     "metadata": {
      "needs_background": "light"
     },
     "output_type": "display_data"
    }
   ],
   "source": [
    "#Check for distribution\n",
    "sns.distplot(df_Winter[\"Profit(%)\"])\n",
    "sns.distplot(df_Summer[\"Profit(%)\"])"
   ]
  },
  {
   "cell_type": "markdown",
   "metadata": {},
   "source": [
    "#### For the above subsets, perform random sampling then compare sample variances and check for normality.\n",
    "\n",
    "H0: sample comes from a normal distribution\n",
    "\n",
    "HA: sample does not from a normal distribution"
   ]
  },
  {
   "cell_type": "code",
   "execution_count": 20,
   "metadata": {},
   "outputs": [],
   "source": [
    "#Below functions perform random sampling and calculate for sample variance\n",
    "def get_sample_mean(sample):\n",
    "    return sum(sample) / len(sample)\n",
    "def get_sample(data, n):\n",
    "    sample = []\n",
    "    while len(sample) != n:\n",
    "        x = np.random.choice(data)\n",
    "        sample.append(x)  \n",
    "    return sample\n",
    "def create_sample_distribution(data, dist_size=100, n=30):\n",
    "    sample_dist = []\n",
    "    while len(sample_dist) != dist_size:\n",
    "        sample = get_sample(data, n)\n",
    "        sample_mean = get_sample_mean(sample)\n",
    "        sample_dist.append(sample_mean)\n",
    "    return sample_dist\n",
    "def sample_variance(sample):\n",
    "    sample_mean = np.mean(sample)\n",
    "    return np.sum((sample - sample_mean) **2)/ (len(sample) -1)"
   ]
  },
  {
   "cell_type": "code",
   "execution_count": 21,
   "metadata": {
    "scrolled": true
   },
   "outputs": [
    {
     "data": {
      "image/png": "[encoded data removed]",
      "text/plain": [
       "<Figure size 432x288 with 1 Axes>"
      ]
     },
     "metadata": {
      "needs_background": "light"
     },
     "output_type": "display_data"
    },
    {
     "data": {
      "text/plain": [
       "NormaltestResult(statistic=2.1538403174203222, pvalue=0.3406430382249045)"
      ]
     },
     "execution_count": 21,
     "metadata": {},
     "output_type": "execute_result"
    }
   ],
   "source": [
    "#Perfom random sampling and normality test on winter movies\n",
    "winter_sample = create_sample_distribution(df_Winter[\"Profit(%)\"], dist_size=50, n=30)\n",
    "sns.distplot(winter_sample)\n",
    "plt.show()\n",
    "stats.normaltest(winter_sample)"
   ]
  },
  {
   "cell_type": "code",
   "execution_count": 22,
   "metadata": {
    "scrolled": false
   },
   "outputs": [
    {
     "data": {
      "image/png": "[encoded data removed]",
      "text/plain": [
       "<Figure size 432x288 with 1 Axes>"
      ]
     },
     "metadata": {
      "needs_background": "light"
     },
     "output_type": "display_data"
    },
    {
     "data": {
      "text/plain": [
       "NormaltestResult(statistic=1.7200228956213883, pvalue=0.42315723806606564)"
      ]
     },
     "execution_count": 22,
     "metadata": {},
     "output_type": "execute_result"
    }
   ],
   "source": [
    "#Perfom random sampling and normality test on summer movies\n",
    "summer_sample = create_sample_distribution(df_Summer[\"Profit(%)\"], dist_size=50, n=30)\n",
    "sns.distplot(summer_sample)\n",
    "plt.show()\n",
    "stats.normaltest(summer_sample)"
   ]
  },
  {
   "cell_type": "code",
   "execution_count": 23,
   "metadata": {},
   "outputs": [
    {
     "name": "stdout",
     "output_type": "stream",
     "text": [
      "winter sample mean is 0.71512\n",
      "winter sample variance is 0.10541881523809524\n"
     ]
    }
   ],
   "source": [
    "winter_variance = sample_variance(winter_sample)\n",
    "winter_mean = np.mean(winter_sample)\n",
    "print(\"winter sample mean is\", winter_mean)\n",
    "print(\"winter sample variance is\", winter_variance)"
   ]
  },
  {
   "cell_type": "code",
   "execution_count": 24,
   "metadata": {},
   "outputs": [
    {
     "name": "stdout",
     "output_type": "stream",
     "text": [
      "summer sample mean is 1.0915666666666664\n",
      "summer sample variance is 0.20411691269841267\n"
     ]
    }
   ],
   "source": [
    "summer_variance = sample_variance(summer_sample)\n",
    "summer_mean = np.mean(summer_sample)\n",
    "print(\"summer sample mean is\", summer_mean)\n",
    "print(\"summer sample variance is\", summer_variance)"
   ]
  },
  {
   "cell_type": "code",
   "execution_count": 25,
   "metadata": {},
   "outputs": [
    {
     "data": {
      "text/plain": [
       "-0.3764466666666664"
      ]
     },
     "execution_count": 25,
     "metadata": {},
     "output_type": "execute_result"
    }
   ],
   "source": [
    "winter_mean - summer_mean"
   ]
  },
  {
   "cell_type": "markdown",
   "metadata": {},
   "source": [
    " - p-values for the above normality tests are greater than the alpha = 0.05, H0 cannot be rejected then\n",
    "\n",
    " - winter and summer movie samples have similar variance"
   ]
  },
  {
   "cell_type": "markdown",
   "metadata": {},
   "source": [
    "#### Perform one-tailed and two-tailed t-test (alpha = 0.05)\n",
    "\n",
    "H0: The mean profit difference between winter and summer movies is equal to zero (winter - summer = 0)\n",
    "\n",
    "HA1: The mean profit difference between winter and summer movies is not equal to zero (winter - summer != 0)\n",
    "\n",
    "HA2: The mean profit difference between winter and summer movies is greater than zero (winter - summer > 0)"
   ]
  },
  {
   "cell_type": "code",
   "execution_count": 26,
   "metadata": {},
   "outputs": [],
   "source": [
    "alpha = 0.05\n",
    "df = len(winter_sample) + len(summer_sample) -2\n",
    "t_stat, p_value = stats.ttest_ind(winter_sample, summer_sample) #two-tailed p-value\n",
    "HA1_p_value = p_value #two-tailed p-value\n",
    "HA2_p_value = 1 - p_value/2 # 1- two-tailed p-value / 2 \n",
    "t_crit = stats.t.ppf(1 - alpha, df) #same for all null and alternative hypotheses"
   ]
  },
  {
   "cell_type": "code",
   "execution_count": 27,
   "metadata": {},
   "outputs": [
    {
     "name": "stdout",
     "output_type": "stream",
     "text": [
      "t-statistic is  -4.784461518717137\n",
      "t-critical value is  1.6605512170440568 (alpha =  0.05 and degress of freedom =  98 )\n",
      "p-value is  6.058778495469072e-06\n"
     ]
    }
   ],
   "source": [
    "#HA1: The mean profit difference between winter and summer movies is not equal to zero (winter - summer != 0)\n",
    "\n",
    "print(\"t-statistic is \", t_stat)\n",
    "print(\"t-critical value is \", t_crit, \"(alpha = \", alpha, \"and degress of freedom = \", df, \")\")\n",
    "print(\"p-value is \", HA1_p_value)"
   ]
  },
  {
   "cell_type": "markdown",
   "metadata": {},
   "source": [
    "p-value < alpha therefore we reject the null hypothesis in support of the alternative"
   ]
  },
  {
   "cell_type": "code",
   "execution_count": 28,
   "metadata": {},
   "outputs": [
    {
     "name": "stdout",
     "output_type": "stream",
     "text": [
      "t-statistic is  -4.784461518717137\n",
      "t-critical value is  1.6605512170440568 (alpha =  0.05 and degress of freedom =  98 )\n",
      "p-value is  0.9999969706107522\n"
     ]
    }
   ],
   "source": [
    "#HA2: The mean profit difference between winter and summer movies is greater than zero (winter - summer > 0)\n",
    "\n",
    "print(\"t-statistic is \", t_stat)\n",
    "print(\"t-critical value is \", t_crit, \"(alpha = \", alpha, \"and degress of freedom = \", df, \")\")\n",
    "print(\"p-value is \", HA2_p_value)"
   ]
  },
  {
   "cell_type": "markdown",
   "metadata": {},
   "source": [
    "p-value > alpha therefore we do not reject the null hypothesis in support of the alternative"
   ]
  },
  {
   "cell_type": "markdown",
   "metadata": {},
   "source": [
    "### Are comedy movies more profitable than dramas in the US?\n",
    "\n",
    "Test is focused on last 5 years English movies released in the US taken from IMDB.  Profitability will be measured using the budget (converted into USD) and gross US revenue (both in millions) scraped from each of the movie IMDB webpages. t-test will be performed on the mean profits of comedy and drama movies.\n",
    "\n",
    "#### Perform EDA on  the data taken from IMDB.\n",
    "\n",
    "Cleaned data *df_season_revenue* will be used as a starting point."
   ]
  },
  {
   "cell_type": "code",
   "execution_count": 29,
   "metadata": {},
   "outputs": [
    {
     "data": {
      "text/html": [
       "<div>\n",
       "<style scoped>\n",
       "    .dataframe tbody tr th:only-of-type {\n",
       "        vertical-align: middle;\n",
       "    }\n",
       "\n",
       "    .dataframe tbody tr th {\n",
       "        vertical-align: top;\n",
       "    }\n",
       "\n",
       "    .dataframe thead th {\n",
       "        text-align: right;\n",
       "    }\n",
       "</style>\n",
       "<table border=\"1\" class=\"dataframe\">\n",
       "  <thead>\n",
       "    <tr style=\"text-align: right;\">\n",
       "      <th></th>\n",
       "      <th>Title_ID</th>\n",
       "      <th>Release_Year</th>\n",
       "      <th>Title</th>\n",
       "      <th>Genre</th>\n",
       "      <th>USA_Gross($)</th>\n",
       "      <th>Budget($)</th>\n",
       "      <th>Profit(%)</th>\n",
       "    </tr>\n",
       "  </thead>\n",
       "  <tbody>\n",
       "    <tr>\n",
       "      <td>0</td>\n",
       "      <td>tt0369610</td>\n",
       "      <td>2015</td>\n",
       "      <td>Jurassic World</td>\n",
       "      <td>Action,Adventure,Sci-Fi</td>\n",
       "      <td>652.27</td>\n",
       "      <td>150.0</td>\n",
       "      <td>3.35</td>\n",
       "    </tr>\n",
       "    <tr>\n",
       "      <td>1</td>\n",
       "      <td>tt0451279</td>\n",
       "      <td>2017</td>\n",
       "      <td>Wonder Woman</td>\n",
       "      <td>Action,Adventure,Fantasy</td>\n",
       "      <td>412.56</td>\n",
       "      <td>149.0</td>\n",
       "      <td>1.77</td>\n",
       "    </tr>\n",
       "    <tr>\n",
       "      <td>2</td>\n",
       "      <td>tt1124037</td>\n",
       "      <td>2016</td>\n",
       "      <td>Free State of Jones</td>\n",
       "      <td>Action,Biography,Drama</td>\n",
       "      <td>20.81</td>\n",
       "      <td>50.0</td>\n",
       "      <td>-0.58</td>\n",
       "    </tr>\n",
       "    <tr>\n",
       "      <td>3</td>\n",
       "      <td>tt1489889</td>\n",
       "      <td>2016</td>\n",
       "      <td>Central Intelligence</td>\n",
       "      <td>Action,Comedy,Crime</td>\n",
       "      <td>127.44</td>\n",
       "      <td>50.0</td>\n",
       "      <td>1.55</td>\n",
       "    </tr>\n",
       "    <tr>\n",
       "      <td>4</td>\n",
       "      <td>tt1628841</td>\n",
       "      <td>2016</td>\n",
       "      <td>Independence Day: Resurgence</td>\n",
       "      <td>Action,Adventure,Sci-Fi</td>\n",
       "      <td>103.14</td>\n",
       "      <td>165.0</td>\n",
       "      <td>-0.37</td>\n",
       "    </tr>\n",
       "    <tr>\n",
       "      <td>...</td>\n",
       "      <td>...</td>\n",
       "      <td>...</td>\n",
       "      <td>...</td>\n",
       "      <td>...</td>\n",
       "      <td>...</td>\n",
       "      <td>...</td>\n",
       "      <td>...</td>\n",
       "    </tr>\n",
       "    <tr>\n",
       "      <td>765</td>\n",
       "      <td>tt7365604</td>\n",
       "      <td>2018</td>\n",
       "      <td>Dog Days</td>\n",
       "      <td>Comedy,Drama,Romance</td>\n",
       "      <td>6.81</td>\n",
       "      <td>10.0</td>\n",
       "      <td>-0.32</td>\n",
       "    </tr>\n",
       "    <tr>\n",
       "      <td>766</td>\n",
       "      <td>tt7547410</td>\n",
       "      <td>2019</td>\n",
       "      <td>Dora and the Lost City of Gold</td>\n",
       "      <td>Adventure,Family</td>\n",
       "      <td>60.48</td>\n",
       "      <td>49.0</td>\n",
       "      <td>0.23</td>\n",
       "    </tr>\n",
       "    <tr>\n",
       "      <td>768</td>\n",
       "      <td>tt7798634</td>\n",
       "      <td>2019</td>\n",
       "      <td>Ready or Not</td>\n",
       "      <td>Comedy,Horror,Mystery</td>\n",
       "      <td>28.71</td>\n",
       "      <td>6.0</td>\n",
       "      <td>3.78</td>\n",
       "    </tr>\n",
       "    <tr>\n",
       "      <td>769</td>\n",
       "      <td>tt8186318</td>\n",
       "      <td>2019</td>\n",
       "      <td>Overcomer</td>\n",
       "      <td>Drama,Sport</td>\n",
       "      <td>34.70</td>\n",
       "      <td>5.0</td>\n",
       "      <td>5.94</td>\n",
       "    </tr>\n",
       "    <tr>\n",
       "      <td>770</td>\n",
       "      <td>tt8266310</td>\n",
       "      <td>2019</td>\n",
       "      <td>Blinded by the Light</td>\n",
       "      <td>Comedy,Drama,Music</td>\n",
       "      <td>11.90</td>\n",
       "      <td>15.0</td>\n",
       "      <td>-0.21</td>\n",
       "    </tr>\n",
       "  </tbody>\n",
       "</table>\n",
       "<p>767 rows × 7 columns</p>\n",
       "</div>"
      ],
      "text/plain": [
       "      Title_ID  Release_Year                           Title  \\\n",
       "0    tt0369610          2015                  Jurassic World   \n",
       "1    tt0451279          2017                    Wonder Woman   \n",
       "2    tt1124037          2016             Free State of Jones   \n",
       "3    tt1489889          2016            Central Intelligence   \n",
       "4    tt1628841          2016    Independence Day: Resurgence   \n",
       "..         ...           ...                             ...   \n",
       "765  tt7365604          2018                        Dog Days   \n",
       "766  tt7547410          2019  Dora and the Lost City of Gold   \n",
       "768  tt7798634          2019                    Ready or Not   \n",
       "769  tt8186318          2019                       Overcomer   \n",
       "770  tt8266310          2019            Blinded by the Light   \n",
       "\n",
       "                        Genre  USA_Gross($)  Budget($)  Profit(%)  \n",
       "0     Action,Adventure,Sci-Fi        652.27      150.0       3.35  \n",
       "1    Action,Adventure,Fantasy        412.56      149.0       1.77  \n",
       "2      Action,Biography,Drama         20.81       50.0      -0.58  \n",
       "3         Action,Comedy,Crime        127.44       50.0       1.55  \n",
       "4     Action,Adventure,Sci-Fi        103.14      165.0      -0.37  \n",
       "..                        ...           ...        ...        ...  \n",
       "765      Comedy,Drama,Romance          6.81       10.0      -0.32  \n",
       "766          Adventure,Family         60.48       49.0       0.23  \n",
       "768     Comedy,Horror,Mystery         28.71        6.0       3.78  \n",
       "769               Drama,Sport         34.70        5.0       5.94  \n",
       "770        Comedy,Drama,Music         11.90       15.0      -0.21  \n",
       "\n",
       "[767 rows x 7 columns]"
      ]
     },
     "execution_count": 29,
     "metadata": {},
     "output_type": "execute_result"
    }
   ],
   "source": [
    "df_genre_revenue = df_season_revenue[['Title_ID', 'Release_Year', 'Title', 'Genre','USA_Gross($)', 'Budget($)','Profit(%)']]\n",
    "df_genre_revenue"
   ]
  },
  {
   "cell_type": "code",
   "execution_count": 47,
   "metadata": {},
   "outputs": [
    {
     "data": {
      "text/plain": [
       "count    171.000000\n",
       "mean       0.700000\n",
       "std        1.447587\n",
       "min       -1.000000\n",
       "25%       -0.270000\n",
       "50%        0.380000\n",
       "75%        1.265000\n",
       "max        9.110000\n",
       "Name: Profit(%), dtype: float64"
      ]
     },
     "execution_count": 47,
     "metadata": {},
     "output_type": "execute_result"
    }
   ],
   "source": [
    "#Create subsets for comedy movies.  All movies under genre comedy but not drama\n",
    "q1 = \"\"\"SELECT * FROM df_genre_revenue WHERE Genre LIKE \"%Comedy%\" AND Genre NOT LIKE \"%Drama%\";\"\"\"\n",
    "df_genre_comedy = pysqldf(q1)\n",
    "df_genre_comedy[\"Profit(%)\"].describe()"
   ]
  },
  {
   "cell_type": "code",
   "execution_count": 48,
   "metadata": {},
   "outputs": [
    {
     "data": {
      "text/plain": [
       "count    312.000000\n",
       "mean       0.644904\n",
       "std        2.298956\n",
       "min       -1.000000\n",
       "25%       -0.712500\n",
       "50%       -0.130000\n",
       "75%        1.080000\n",
       "max       15.000000\n",
       "Name: Profit(%), dtype: float64"
      ]
     },
     "execution_count": 48,
     "metadata": {},
     "output_type": "execute_result"
    }
   ],
   "source": [
    "#Create subsets for drama movies.  All movies under genre drama but not comedy\n",
    "q2 = \"\"\"SELECT * FROM df_genre_revenue WHERE Genre LIKE \"%Drama%\" AND Genre NOT LIKE \"%Comedy%\";\"\"\"\n",
    "df_genre_drama = pysqldf(q2)\n",
    "df_genre_drama[\"Profit(%)\"].describe()"
   ]
  },
  {
   "cell_type": "markdown",
   "metadata": {},
   "source": [
    "#### For the above subsets, perform random sampling then compare sample variances and check for normality.\n",
    "\n",
    "H0: sample comes from a normal distribution\n",
    "\n",
    "HA: sample does not from a normal distribution"
   ]
  },
  {
   "cell_type": "code",
   "execution_count": 50,
   "metadata": {},
   "outputs": [
    {
     "data": {
      "image/png": "[encoded data removed]",
      "text/plain": [
       "<Figure size 432x288 with 1 Axes>"
      ]
     },
     "metadata": {
      "needs_background": "light"
     },
     "output_type": "display_data"
    },
    {
     "data": {
      "text/plain": [
       "NormaltestResult(statistic=1.556147630064531, pvalue=0.45928983700594495)"
      ]
     },
     "execution_count": 50,
     "metadata": {},
     "output_type": "execute_result"
    }
   ],
   "source": [
    "#Perfom random sampling and normality test on comedy movies\n",
    "comedy_sample = create_sample_distribution(df_genre_comedy[\"Profit(%)\"], dist_size=100, n=30)\n",
    "sns.distplot(comedy_sample)\n",
    "plt.show()\n",
    "stats.normaltest(comedy_sample)"
   ]
  },
  {
   "cell_type": "code",
   "execution_count": 52,
   "metadata": {},
   "outputs": [
    {
     "data": {
      "image/png": "[encoded data removed]",
      "text/plain": [
       "<Figure size 432x288 with 1 Axes>"
      ]
     },
     "metadata": {
      "needs_background": "light"
     },
     "output_type": "display_data"
    },
    {
     "data": {
      "text/plain": [
       "NormaltestResult(statistic=1.1161225354616156, pvalue=0.572317559484276)"
      ]
     },
     "execution_count": 52,
     "metadata": {},
     "output_type": "execute_result"
    }
   ],
   "source": [
    "#Perfom random sampling and normality test on comedy movies\n",
    "drama_sample = create_sample_distribution(df_genre_drama[\"Profit(%)\"], dist_size=100, n=30)\n",
    "sns.distplot(drama_sample)\n",
    "plt.show()\n",
    "stats.normaltest(drama_sample)"
   ]
  },
  {
   "cell_type": "markdown",
   "metadata": {},
   "source": [
    " - p-values for the above normality tests are greater than the alpha = 0.05, H0 cannot be rejected then\n",
    "\n",
    " - comedy and drama movie samples have similar variance"
   ]
  },
  {
   "cell_type": "markdown",
   "metadata": {},
   "source": [
    "#### Perform one-tailed and two-tailed t-test (alpha = 0.05)\n",
    "\n",
    "H0: The mean profit difference between comedy and drama movies is equal to zero (comedy - drama = 0)\n",
    "\n",
    "HA1: The mean profit difference between comedy and drama movies is not equal to zero (comedy - drama != 0)\n",
    "\n",
    "HA2: The mean profit difference between comedy and drama movies is greater than zero (comedy - drama > 0)"
   ]
  },
  {
   "cell_type": "code",
   "execution_count": 53,
   "metadata": {},
   "outputs": [],
   "source": [
    "alpha = 0.05\n",
    "df = len(comedy_sample) + len(drama_sample) -2\n",
    "t_stat, p_value = stats.ttest_ind(comedy_sample, drama_sample) #two-tailed p-value\n",
    "HA1_p_value = p_value #two-tailed p-value\n",
    "HA2_p_value = 1 - p_value/2 # 1- two-tailed p-value / 2 \n",
    "t_crit = stats.t.ppf(1 - alpha, df) #same for all null and alternative hypotheses"
   ]
  },
  {
   "cell_type": "code",
   "execution_count": 54,
   "metadata": {},
   "outputs": [
    {
     "name": "stdout",
     "output_type": "stream",
     "text": [
      "t-statistic is  0.6640745539787588\n",
      "t-critical value is  1.6525857836172075 (alpha =  0.05 and degress of freedom =  198 )\n",
      "p-value is  0.5074151548365007\n"
     ]
    }
   ],
   "source": [
    "#HA1: The mean profit difference between comedy and drama movies is not equal to zero (comedy - drama != 0)\n",
    "\n",
    "print(\"t-statistic is \", t_stat)\n",
    "print(\"t-critical value is \", t_crit, \"(alpha = \", alpha, \"and degress of freedom = \", df, \")\")\n",
    "print(\"p-value is \", HA1_p_value)"
   ]
  },
  {
   "cell_type": "markdown",
   "metadata": {},
   "source": [
    "p-value > alpha therefore we do not reject the null hypothesis in support of the alternative"
   ]
  },
  {
   "cell_type": "code",
   "execution_count": 56,
   "metadata": {},
   "outputs": [
    {
     "name": "stdout",
     "output_type": "stream",
     "text": [
      "t-statistic is  0.6640745539787588\n",
      "t-critical value is  1.6525857836172075 (alpha =  0.05 and degress of freedom =  198 )\n",
      "p-value is  0.7462924225817497\n"
     ]
    }
   ],
   "source": [
    "#HA2: The mean profit difference between comedy and drama movies is greater than zero (comedy - drama > 0)\n",
    "\n",
    "print(\"t-statistic is \", t_stat)\n",
    "print(\"t-critical value is \", t_crit, \"(alpha = \", alpha, \"and degress of freedom = \", df, \")\")\n",
    "print(\"p-value is \", HA2_p_value)"
   ]
  },
  {
   "cell_type": "markdown",
   "metadata": {},
   "source": [
    "p-value > alpha therefore we do not reject the null hypothesis in support of the alternative"
   ]
  },
  {
   "cell_type": "code",
   "execution_count": null,
   "metadata": {},
   "outputs": [],
   "source": []
  }
 ],
 "metadata": {
  "kernelspec": {
   "display_name": "Python [conda env:learn-env] *",
   "language": "python",
   "name": "conda-env-learn-env-py"
  },
  "language_info": {
   "codemirror_mode": {
    "name": "ipython",
    "version": 3
   },
   "file_extension": ".py",
   "mimetype": "text/x-python",
   "name": "python",
   "nbconvert_exporter": "python",
   "pygments_lexer": "ipython3",
   "version": "3.6.9"
  },
  "toc": {
   "base_numbering": 1,
   "nav_menu": {},
   "number_sections": true,
   "sideBar": true,
   "skip_h1_title": false,
   "title_cell": "Table of Contents",
   "title_sidebar": "Contents",
   "toc_cell": false,
   "toc_position": {},
   "toc_section_display": true,
   "toc_window_display": false
  },
  "varInspector": {
   "cols": {
    "lenName": 16,
    "lenType": 16,
    "lenVar": 40
   },
   "kernels_config": {
    "python": {
     "delete_cmd_postfix": "",
     "delete_cmd_prefix": "del ",
     "library": "var_list.py",
     "varRefreshCmd": "print(var_dic_list())"
    },
    "r": {
     "delete_cmd_postfix": ") ",
     "delete_cmd_prefix": "rm(",
     "library": "var_list.r",
     "varRefreshCmd": "cat(var_dic_list()) "
    }
   },
   "types_to_exclude": [
    "module",
    "function",
    "builtin_function_or_method",
    "instance",
    "_Feature"
   ],
   "window_display": false
  }
 },
 "nbformat": 4,
 "nbformat_minor": 4
}
