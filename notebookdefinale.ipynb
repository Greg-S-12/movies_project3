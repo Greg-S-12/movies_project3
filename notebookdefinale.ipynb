{
 "cells": [
  {
   "cell_type": "code",
   "execution_count": 63,
   "metadata": {},
   "outputs": [
    {
     "name": "stdout",
     "output_type": "stream",
     "text": [
      "The autoreload extension is already loaded. To reload it, use:\n",
      "  %reload_ext autoreload\n"
     ]
    }
   ],
   "source": [
    "%load_ext autoreload\n",
    "%autoreload 2\n",
    "import math\n",
    "import pandas as pd\n",
    "import numpy as np\n",
    "import seaborn as sns\n",
    "sns.set_style('darkgrid')\n",
    "import statistics\n",
    "import scipy\n",
    "import scipy.stats as st\n",
    "import matplotlib.pyplot as plt\n",
    "%matplotlib inline\n",
    "\n",
    "from pandasql import sqldf\n",
    "pysqldf = lambda q: sqldf(q, globals())\n",
    "\n",
    "import data_cleaning_greg  as dc\n",
    "import hypothesis_tests as ht\n",
    "import visualizations"
   ]
  },
  {
   "cell_type": "markdown",
   "metadata": {},
   "source": [
    "## Our 4 Hypotheses\n",
    "### - Does Netflix perform better against it's competitors?\n",
    "We will \n",
    "###\n",
    "###\n",
    "###\n",
    "\n",
    "Our significance lelvel will be  p>0.05. \n",
    "This states that there is a 5% chance that, given the null hypothesis is true, that these results will be stocastic (due to random chance).\n",
    "\n",
    "We will also correct our significance level for repeat testing by using Bonferroni correction if required."
   ]
  },
  {
   "cell_type": "code",
   "execution_count": 64,
   "metadata": {},
   "outputs": [],
   "source": [
    "# Set our values for statistical signicance testing - using convention.\n",
    "alpha = 0.05\n",
    "beta = 0.8\n",
    "power=1 - beta\n"
   ]
  },
  {
   "cell_type": "markdown",
   "metadata": {},
   "source": [
    "## Reading in the data and begin cleaning"
   ]
  },
  {
   "cell_type": "markdown",
   "metadata": {},
   "source": [
    "The below dataset is based on the last five years' worth of films released in the United States. It is a combination of data scraped from the International Movie Database (IMDb) website, csv files found on IMDb and the OMDb API. \n",
    "The scraped data was used for the gross profit of each film; by using budget and revenue we can estimate the profit .\n",
    "Full_OMDB_Table.csv contains a list of movies (country USA, language English) from November 2014 to October 2019 taken from IMDB. Budget and revenue info are from IMDB as well.  Ratings (IMDB, Rotten Tomatoes and Metascore), released date, actors and production info are from OMDB, unoffical IMDB API."
   ]
  },
  {
   "cell_type": "code",
   "execution_count": 65,
   "metadata": {},
   "outputs": [
    {
     "name": "stdout",
     "output_type": "stream",
     "text": [
      "<class 'pandas.core.frame.DataFrame'>\n",
      "RangeIndex: 2015 entries, 0 to 2014\n",
      "Data columns (total 22 columns):\n",
      "tconst                      2015 non-null object\n",
      "titleType                   2015 non-null object\n",
      "primaryTitle                2015 non-null object\n",
      "originalTitle               2015 non-null object\n",
      "isAdult                     2015 non-null int64\n",
      "startYear                   2015 non-null int64\n",
      "endYear                     2015 non-null object\n",
      "runtimeMinutes              2015 non-null int64\n",
      "genres                      2015 non-null object\n",
      "title                       2015 non-null object\n",
      "check                       2015 non-null int64\n",
      "averageRating               2015 non-null float64\n",
      "numVotes                    2015 non-null int64\n",
      "budget_LCY                  1004 non-null object\n",
      "gross_USA_USD               1085 non-null float64\n",
      "cumm_worldwide_gross_USD    1386 non-null float64\n",
      "Released_Date               2005 non-null object\n",
      "Released_Month              2005 non-null float64\n",
      "Rotten_Tomatoes             1522 non-null float64\n",
      "Metascore                   1461 non-null float64\n",
      "Actors                      2015 non-null object\n",
      "Production                  1678 non-null object\n",
      "dtypes: float64(6), int64(5), object(11)\n",
      "memory usage: 346.4+ KB\n"
     ]
    }
   ],
   "source": [
    "# Read in data as pandas dataframe\n",
    "\n",
    "df=pd.read_csv(\"2016_2019_USmovies_API.csv\")\n",
    "df.head()\n",
    "\n",
    "# Check what our column titles are so we can rename/remove them\n",
    "df.columns\n",
    "\n",
    "df.info()"
   ]
  },
  {
   "cell_type": "code",
   "execution_count": 66,
   "metadata": {},
   "outputs": [
    {
     "data": {
      "text/html": [
       "<div>\n",
       "<style scoped>\n",
       "    .dataframe tbody tr th:only-of-type {\n",
       "        vertical-align: middle;\n",
       "    }\n",
       "\n",
       "    .dataframe tbody tr th {\n",
       "        vertical-align: top;\n",
       "    }\n",
       "\n",
       "    .dataframe thead th {\n",
       "        text-align: right;\n",
       "    }\n",
       "</style>\n",
       "<table border=\"1\" class=\"dataframe\">\n",
       "  <thead>\n",
       "    <tr style=\"text-align: right;\">\n",
       "      <th></th>\n",
       "      <th>Title_ID</th>\n",
       "      <th>Release_Year</th>\n",
       "      <th>Runtime(Minutes)</th>\n",
       "      <th>Genre</th>\n",
       "      <th>Title</th>\n",
       "      <th>Rating</th>\n",
       "      <th>Number_of_Votes</th>\n",
       "      <th>Budget(LCY)</th>\n",
       "      <th>USA_Gross($)</th>\n",
       "      <th>Worldwide_Gross($)</th>\n",
       "      <th>Released_Date</th>\n",
       "      <th>Released_Month</th>\n",
       "      <th>Rotten_Tomatoes</th>\n",
       "      <th>Metascore</th>\n",
       "      <th>Actors</th>\n",
       "      <th>Production</th>\n",
       "    </tr>\n",
       "  </thead>\n",
       "  <tbody>\n",
       "    <tr>\n",
       "      <th>0</th>\n",
       "      <td>tt0069049</td>\n",
       "      <td>2018</td>\n",
       "      <td>122</td>\n",
       "      <td>Drama</td>\n",
       "      <td>The Other Side of the Wind</td>\n",
       "      <td>6.9</td>\n",
       "      <td>4989</td>\n",
       "      <td>NaN</td>\n",
       "      <td>NaN</td>\n",
       "      <td>NaN</td>\n",
       "      <td>02 Nov 2018</td>\n",
       "      <td>11.0</td>\n",
       "      <td>83.0</td>\n",
       "      <td>78.0</td>\n",
       "      <td>John Huston, Oja Kodar, Peter Bogdanovich, Sus...</td>\n",
       "      <td>Netflix</td>\n",
       "    </tr>\n",
       "    <tr>\n",
       "      <th>1</th>\n",
       "      <td>tt0339736</td>\n",
       "      <td>2017</td>\n",
       "      <td>98</td>\n",
       "      <td>Horror</td>\n",
       "      <td>The Evil Within</td>\n",
       "      <td>5.5</td>\n",
       "      <td>2572</td>\n",
       "      <td>$6000000</td>\n",
       "      <td>NaN</td>\n",
       "      <td>NaN</td>\n",
       "      <td>30 Aug 2017</td>\n",
       "      <td>8.0</td>\n",
       "      <td>100.0</td>\n",
       "      <td>NaN</td>\n",
       "      <td>Sean Patrick Flanery, Dina Meyer, Frederick Ko...</td>\n",
       "      <td>NaN</td>\n",
       "    </tr>\n",
       "    <tr>\n",
       "      <th>2</th>\n",
       "      <td>tt0360556</td>\n",
       "      <td>2018</td>\n",
       "      <td>100</td>\n",
       "      <td>Drama,Sci-Fi,Thriller</td>\n",
       "      <td>Fahrenheit 451</td>\n",
       "      <td>4.9</td>\n",
       "      <td>15295</td>\n",
       "      <td>NaN</td>\n",
       "      <td>NaN</td>\n",
       "      <td>NaN</td>\n",
       "      <td>20 May 2018</td>\n",
       "      <td>5.0</td>\n",
       "      <td>32.0</td>\n",
       "      <td>NaN</td>\n",
       "      <td>Michael B. Jordan, Aaron Davis, Cindy Katz, Mi...</td>\n",
       "      <td>HBO Films</td>\n",
       "    </tr>\n",
       "    <tr>\n",
       "      <th>3</th>\n",
       "      <td>tt0365545</td>\n",
       "      <td>2018</td>\n",
       "      <td>98</td>\n",
       "      <td>Comedy,Drama,Romance</td>\n",
       "      <td>Nappily Ever After</td>\n",
       "      <td>6.4</td>\n",
       "      <td>6718</td>\n",
       "      <td>NaN</td>\n",
       "      <td>NaN</td>\n",
       "      <td>NaN</td>\n",
       "      <td>21 Sep 2018</td>\n",
       "      <td>9.0</td>\n",
       "      <td>71.0</td>\n",
       "      <td>63.0</td>\n",
       "      <td>Sanaa Lathan, Ricky Whittle, Lyriq Bent, Lynn ...</td>\n",
       "      <td>Netflix</td>\n",
       "    </tr>\n",
       "    <tr>\n",
       "      <th>4</th>\n",
       "      <td>tt0369610</td>\n",
       "      <td>2015</td>\n",
       "      <td>124</td>\n",
       "      <td>Action,Adventure,Sci-Fi</td>\n",
       "      <td>Jurassic World</td>\n",
       "      <td>7.0</td>\n",
       "      <td>549806</td>\n",
       "      <td>$150000000</td>\n",
       "      <td>652.27</td>\n",
       "      <td>1670.4</td>\n",
       "      <td>12 Jun 2015</td>\n",
       "      <td>6.0</td>\n",
       "      <td>72.0</td>\n",
       "      <td>59.0</td>\n",
       "      <td>Chris Pratt, Bryce Dallas Howard, Irrfan Khan,...</td>\n",
       "      <td>Universal Pictures</td>\n",
       "    </tr>\n",
       "  </tbody>\n",
       "</table>\n",
       "</div>"
      ],
      "text/plain": [
       "    Title_ID  Release_Year  Runtime(Minutes)                    Genre  \\\n",
       "0  tt0069049          2018               122                    Drama   \n",
       "1  tt0339736          2017                98                   Horror   \n",
       "2  tt0360556          2018               100    Drama,Sci-Fi,Thriller   \n",
       "3  tt0365545          2018                98     Comedy,Drama,Romance   \n",
       "4  tt0369610          2015               124  Action,Adventure,Sci-Fi   \n",
       "\n",
       "                        Title  Rating  Number_of_Votes Budget(LCY)  \\\n",
       "0  The Other Side of the Wind     6.9             4989         NaN   \n",
       "1             The Evil Within     5.5             2572    $6000000   \n",
       "2              Fahrenheit 451     4.9            15295         NaN   \n",
       "3          Nappily Ever After     6.4             6718         NaN   \n",
       "4              Jurassic World     7.0           549806  $150000000   \n",
       "\n",
       "   USA_Gross($)  Worldwide_Gross($) Released_Date  Released_Month  \\\n",
       "0           NaN                 NaN   02 Nov 2018            11.0   \n",
       "1           NaN                 NaN   30 Aug 2017             8.0   \n",
       "2           NaN                 NaN   20 May 2018             5.0   \n",
       "3           NaN                 NaN   21 Sep 2018             9.0   \n",
       "4        652.27              1670.4   12 Jun 2015             6.0   \n",
       "\n",
       "   Rotten_Tomatoes  Metascore  \\\n",
       "0             83.0       78.0   \n",
       "1            100.0        NaN   \n",
       "2             32.0        NaN   \n",
       "3             71.0       63.0   \n",
       "4             72.0       59.0   \n",
       "\n",
       "                                              Actors          Production  \n",
       "0  John Huston, Oja Kodar, Peter Bogdanovich, Sus...             Netflix  \n",
       "1  Sean Patrick Flanery, Dina Meyer, Frederick Ko...                 NaN  \n",
       "2  Michael B. Jordan, Aaron Davis, Cindy Katz, Mi...           HBO Films  \n",
       "3  Sanaa Lathan, Ricky Whittle, Lyriq Bent, Lynn ...             Netflix  \n",
       "4  Chris Pratt, Bryce Dallas Howard, Irrfan Khan,...  Universal Pictures  "
      ]
     },
     "execution_count": 66,
     "metadata": {},
     "output_type": "execute_result"
    }
   ],
   "source": [
    "# Let's clean the data and rename columns so we know what we're looking \n",
    "\n",
    "columns=[\"tconst\",\"title\",\"isAdult\",\"startYear\",\"runtimeMinutes\",\"check\",\"averageRating\",\"genres\",\"numVotes\",\n",
    "         \"budget_LCY\",\"gross_USA_USD\",\"cumm_worldwide_gross_USD\",]\n",
    "names=[\"Title_ID\",\"Title\",\"Adult\",\"Release_Year\",\"Runtime(Minutes)\",\"Check\",\"Rating\",\"Genre\",\"Number_of_Votes\",\n",
    "      \"Budget(LCY)\",\"USA_Gross($)\",\"Worldwide_Gross($)\"]\n",
    "columns_to_drop=[\"titleType\",\"primaryTitle\",\"originalTitle\",\"endYear\",\"Adult\",\"Check\"]\n",
    "\n",
    "dc.full_clean(df, columns, names, columns_to_drop)\n",
    "\n",
    "# Save as csv\n",
    "# df.to_csv(\"Full_OMDB_Table.csv\",index=False)\n",
    "\n",
    "df.head()"
   ]
  },
  {
   "cell_type": "code",
   "execution_count": 67,
   "metadata": {},
   "outputs": [
    {
     "data": {
      "text/plain": [
       "Index(['Title_ID', 'Release_Year', 'Runtime(Minutes)', 'Genre', 'Title',\n",
       "       'Rating', 'Number_of_Votes', 'Budget(LCY)', 'USA_Gross($)',\n",
       "       'Worldwide_Gross($)', 'Released_Date', 'Released_Month',\n",
       "       'Rotten_Tomatoes', 'Metascore', 'Actors', 'Production'],\n",
       "      dtype='object')"
      ]
     },
     "execution_count": 67,
     "metadata": {},
     "output_type": "execute_result"
    }
   ],
   "source": [
    "df.columns"
   ]
  },
  {
   "cell_type": "code",
   "execution_count": 68,
   "metadata": {},
   "outputs": [
    {
     "name": "stdout",
     "output_type": "stream",
     "text": [
      "       Release_Year  Runtime(Minutes)       Rating  Number_of_Votes  \\\n",
      "count   2015.000000       2015.000000  2015.000000      2015.000000   \n",
      "mean    2016.715633        101.181141     5.920447     42005.702233   \n",
      "std        1.355422         15.783114     1.051272     91376.330598   \n",
      "min     2014.000000         46.000000     1.400000       984.000000   \n",
      "25%     2016.000000         90.000000     5.300000      2377.500000   \n",
      "50%     2017.000000         98.000000     6.000000      7601.000000   \n",
      "75%     2018.000000        109.000000     6.600000     36685.500000   \n",
      "max     2019.000000        209.000000    10.000000    844981.000000   \n",
      "\n",
      "       USA_Gross($)  Worldwide_Gross($)  Released_Month  Rotten_Tomatoes  \\\n",
      "count   1085.000000         1386.000000     2005.000000      1522.000000   \n",
      "mean      46.304341           91.579856        6.684788        55.818660   \n",
      "std       91.560188          225.040751        3.378692        28.335085   \n",
      "min        0.000000            0.000000        1.000000         0.000000   \n",
      "25%        0.650000            0.260000        4.000000        31.000000   \n",
      "50%       11.960000            7.230000        7.000000        59.000000   \n",
      "75%       49.950000           72.265000       10.000000        82.000000   \n",
      "max      936.660000         2797.800000       12.000000       100.000000   \n",
      "\n",
      "         Metascore  \n",
      "count  1461.000000  \n",
      "mean     53.517454  \n",
      "std      17.309092  \n",
      "min       3.000000  \n",
      "25%      41.000000  \n",
      "50%      54.000000  \n",
      "75%      66.000000  \n",
      "max      99.000000  \n",
      "<class 'pandas.core.frame.DataFrame'>\n",
      "RangeIndex: 2015 entries, 0 to 2014\n",
      "Data columns (total 16 columns):\n",
      "Title_ID              2015 non-null object\n",
      "Release_Year          2015 non-null int64\n",
      "Runtime(Minutes)      2015 non-null int64\n",
      "Genre                 2015 non-null object\n",
      "Title                 2015 non-null object\n",
      "Rating                2015 non-null float64\n",
      "Number_of_Votes       2015 non-null int64\n",
      "Budget(LCY)           1004 non-null object\n",
      "USA_Gross($)          1085 non-null float64\n",
      "Worldwide_Gross($)    1386 non-null float64\n",
      "Released_Date         2005 non-null object\n",
      "Released_Month        2005 non-null float64\n",
      "Rotten_Tomatoes       1522 non-null float64\n",
      "Metascore             1461 non-null float64\n",
      "Actors                2015 non-null object\n",
      "Production            1678 non-null object\n",
      "dtypes: float64(6), int64(3), object(7)\n",
      "memory usage: 252.0+ KB\n",
      "None\n",
      "(2015, 16)\n"
     ]
    }
   ],
   "source": [
    "# Now to check our data makes sense and we have no nulls\n",
    "print(df.describe())\n",
    "print(df.info())\n",
    "print(df.shape)"
   ]
  },
  {
   "cell_type": "markdown",
   "metadata": {},
   "source": [
    "## Subset our data to what we're interested in.\n",
    "Since we will be looking at genres we want to see what different genres we have and split these into different categories. We will also be interested in the production company -> IE Netflix"
   ]
  },
  {
   "cell_type": "code",
   "execution_count": 69,
   "metadata": {},
   "outputs": [
    {
     "data": {
      "text/plain": [
       "Index(['Title_ID', 'Release_Year', 'Runtime(Minutes)', 'Genre', 'Title',\n",
       "       'Rating', 'Number_of_Votes', 'Budget(LCY)', 'USA_Gross($)',\n",
       "       'Worldwide_Gross($)', 'Released_Date', 'Released_Month',\n",
       "       'Rotten_Tomatoes', 'Metascore', 'Actors', 'Production'],\n",
       "      dtype='object')"
      ]
     },
     "execution_count": 69,
     "metadata": {},
     "output_type": "execute_result"
    }
   ],
   "source": [
    "df.columns"
   ]
  },
  {
   "cell_type": "code",
   "execution_count": 70,
   "metadata": {},
   "outputs": [],
   "source": [
    "# Drop columns which contain nulls as they aren't relevant to ratings.\n",
    "# We will drop rotten tomatoes scores as the user base is far smaller than imdb and will skew our results.\n",
    "# Metascore is also not comparable as these are not user based scores they are weighted critic reviews\n",
    "\n",
    "df_ratings=df.drop(columns=[\"Released_Month\",\"Released_Date\",\"Rotten_Tomatoes\",\"Metascore\"])\n"
   ]
  },
  {
   "cell_type": "code",
   "execution_count": 83,
   "metadata": {},
   "outputs": [
    {
     "data": {
      "text/plain": [
       "246"
      ]
     },
     "execution_count": 83,
     "metadata": {},
     "output_type": "execute_result"
    }
   ],
   "source": [
    "# How many genres are in our dataset?\n",
    "len(df_ratings.Genre.unique())"
   ]
  },
  {
   "cell_type": "markdown",
   "metadata": {},
   "source": [
    "As can be seen from the above output, we have over 200 combinations of genres. Therefore due to complexity of investigating each unique combination and bearing in mind the aim of this project is to perform several significance tests, we will only investigate \"pure\" genres, IE purely drama or purely action."
   ]
  },
  {
   "cell_type": "code",
   "execution_count": 84,
   "metadata": {},
   "outputs": [
    {
     "name": "stdout",
     "output_type": "stream",
     "text": [
      "There are  112 Drama movies in this dataset\n",
      "There are  101 Comedy movies in this dataset\n",
      "There are  64  Horror movies in this dataset\n",
      "There are  7   Action movies in this dataset\n",
      "There are  4   Sci-Fi movies in this dataset\n",
      "There are  3   Romance movies in this dataset\n",
      "There are  0   Adventure movies in this dataset\n"
     ]
    }
   ],
   "source": [
    "# Now split into separate databases based on pure genres.\n",
    "\n",
    "df_comedy=df_ratings.loc[df_ratings[\"Genre\"]==\"Comedy\",:]\n",
    "df_drama=df_ratings.loc[df_ratings[\"Genre\"]==\"Drama\",:]\n",
    "df_horror=df_ratings.loc[df_ratings[\"Genre\"]==\"Horror\",:]\n",
    "df_scifi=df_ratings.loc[df_ratings[\"Genre\"]==\"Sci-Fi\",:]\n",
    "df_action=df_ratings.loc[df_ratings[\"Genre\"]==\"Action\",:]\n",
    "df_romance=df_ratings.loc[df_ratings[\"Genre\"]==\"Romance\",:]\n",
    "df_adventure=df_ratings.loc[df_ratings[\"Genre\"]==\"Adventure\",:]\n",
    "\n",
    "\n",
    "# Print shape of dataframe so we know the sample sizes\n",
    "\n",
    "print(\"There are \",len(df_drama),\"Drama movies in this dataset\")\n",
    "print(\"There are \",len(df_comedy),\"Comedy movies in this dataset\")\n",
    "print(\"There are \",len(df_horror),\" Horror movies in this dataset\")\n",
    "print(\"There are \",len(df_action),\"  Action movies in this dataset\")\n",
    "print(\"There are \",len(df_scifi),\"  Sci-Fi movies in this dataset\")\n",
    "print(\"There are \",len(df_romance),\"  Romance movies in this dataset\")\n",
    "print(\"There are \",len(df_adventure),\"  Adventure movies in this dataset\")\n"
   ]
  },
  {
   "cell_type": "markdown",
   "metadata": {},
   "source": [
    "From the above, our most populated genres in this data set are Drama, Comedy and Horror. Therefore, due to our data, we will focus our investigation on these 3. Below a boxplot shows how these genres ratings perform against each other."
   ]
  },
  {
   "cell_type": "code",
   "execution_count": 80,
   "metadata": {},
   "outputs": [
    {
     "data": {
      "text/plain": [
       "<matplotlib.axes._subplots.AxesSubplot at 0x1a1cfeceb8>"
      ]
     },
     "execution_count": 80,
     "metadata": {},
     "output_type": "execute_result"
    },
    {
     "data": {
      "image/png": "[encoded data removed]",
      "text/plain": [
       "<Figure size 432x288 with 1 Axes>"
      ]
     },
     "metadata": {
      "needs_background": "light"
     },
     "output_type": "display_data"
    }
   ],
   "source": [
    "# Concat tables together to plot boxplots on same graph\n",
    "df_cdh=df_ratings.loc[((df_ratings[\"Genre\"]==\"Comedy\")|(df_ratings[\"Genre\"]==\"Drama\")|(df_ratings[\"Genre\"]==\"Horror\")),:]\n",
    "\n",
    "sns.boxplot(data=df_cdh, x=\"Genre\",y=\"Rating\")"
   ]
  },
  {
   "cell_type": "markdown",
   "metadata": {},
   "source": [
    "Drama has the highest rating based on the mean and variance ignoring outliers."
   ]
  },
  {
   "cell_type": "code",
   "execution_count": 95,
   "metadata": {},
   "outputs": [],
   "source": [
    "# Can we perform an ANOVA on our data for 3 main title types to see if statistically different?\n",
    "# sample sizes vary between all genres so choosing the top 3 and will take n=60 random sample\n",
    "\n",
    "comedy=df_comedy.Rating.sample(n=60)\n",
    "drama=df_drama.Rating.sample(n=60)\n",
    "horror=df_horror.Rating.sample(n=60)\n"
   ]
  },
  {
   "cell_type": "markdown",
   "metadata": {},
   "source": [
    "## Is the difference in rating for each genre signifcant?\n",
    "### What is the best genre to choose to maximise rating?\n",
    "\n",
    "In this section we will perform a simple one-way ANOVA just to see if our main 3 genres difference in ratings is statistically significant. From this and the accompanying visualization, we will then see if Drama (our highest ranking genre) garners a higher rating than the average movie and perform a simple z-test to see if the result is signifcant (IE compare to the population of all genres excluding Drama). The reason for this approach is so we can see which genre would be best to make a movie for.\n",
    "\n",
    "Our hypothesis is that there will be a signifcant difference between genres and that drama will be the best performing, such that the rating of drama films is higher than the average rating for the population.\n",
    "Our Null is that there is no difference."
   ]
  },
  {
   "cell_type": "markdown",
   "metadata": {},
   "source": [
    "## Now we need to plot our data to check for normality"
   ]
  },
  {
   "cell_type": "markdown",
   "metadata": {},
   "source": [
    "If we plan to use a simple ANOVA or z-test, we need our data to obey a normal distribution. Below we will check for this and if not, we can use the central limit theorem to randomly sample our data and re-plot it until we get a uniform distribution."
   ]
  },
  {
   "cell_type": "code",
   "execution_count": 139,
   "metadata": {},
   "outputs": [
    {
     "name": "stderr",
     "output_type": "stream",
     "text": [
      "/Users/flatironschool/anaconda3/envs/learn-env/lib/python3.6/site-packages/scipy/stats/stats.py:1713: FutureWarning: Using a non-tuple sequence for multidimensional indexing is deprecated; use `arr[tuple(seq)]` instead of `arr[seq]`. In the future this will be interpreted as an array index, `arr[np.array(seq)]`, which will result either in an error or a different result.\n",
      "  return np.add.reduce(sorted[indexer] * weights, axis=axis) / sumval\n"
     ]
    },
    {
     "name": "stdout",
     "output_type": "stream",
     "text": [
      "NormaltestResult(statistic=23.449723558628776, pvalue=8.090162186543765e-06)\n",
      "NormaltestResult(statistic=10.265149246209504, pvalue=0.005901347153072715)\n",
      "NormaltestResult(statistic=1.6955154216018085, pvalue=0.4283743951291268)\n"
     ]
    },
    {
     "data": {
      "image/png": "[encoded data removed]",
      "text/plain": [
       "<Figure size 432x288 with 1 Axes>"
      ]
     },
     "metadata": {
      "needs_background": "light"
     },
     "output_type": "display_data"
    }
   ],
   "source": [
    "sns.distplot(comedy)   # Blue\n",
    "sns.distplot(drama)    # Green\n",
    "sns.distplot(horror)   # Red\n",
    "print(st.normaltest(comedy))\n",
    "print(st.normaltest(drama))\n",
    "print(st.normaltest(horror))"
   ]
  },
  {
   "cell_type": "markdown",
   "metadata": {},
   "source": [
    "Using the above \"normaltest\" we can check to see if the data obeys a normal distribution. If the p-value is less than 0.05 we reject the null hypthesis which says the data is normal. Therefore we need a p-value > 0.05 to say it is normal, such as the horror data-set."
   ]
  },
  {
   "cell_type": "markdown",
   "metadata": {},
   "source": [
    "As we will be comparing drama to the population, let's do the same for the population and the full drama data-set."
   ]
  },
  {
   "cell_type": "code",
   "execution_count": 72,
   "metadata": {},
   "outputs": [
    {
     "name": "stderr",
     "output_type": "stream",
     "text": [
      "/Users/flatironschool/anaconda3/envs/learn-env/lib/python3.6/site-packages/scipy/stats/stats.py:1713: FutureWarning: Using a non-tuple sequence for multidimensional indexing is deprecated; use `arr[tuple(seq)]` instead of `arr[seq]`. In the future this will be interpreted as an array index, `arr[np.array(seq)]`, which will result either in an error or a different result.\n",
      "  return np.add.reduce(sorted[indexer] * weights, axis=axis) / sumval\n"
     ]
    },
    {
     "data": {
      "text/plain": [
       "<matplotlib.axes._subplots.AxesSubplot at 0x1a1dce6a58>"
      ]
     },
     "execution_count": 72,
     "metadata": {},
     "output_type": "execute_result"
    },
    {
     "data": {
      "image/png": "[encoded data removed]",
      "text/plain": [
       "<Figure size 432x288 with 1 Axes>"
      ]
     },
     "metadata": {
      "needs_background": "light"
     },
     "output_type": "display_data"
    }
   ],
   "source": [
    "# Remove our sample set from the population so it doesn't skew our mean and plot against each other.\n",
    "\n",
    "df_no_drama=df_ratings.loc[df_ratings[\"Genre\"]!=\"Drama\",:]\n",
    "\n",
    "sns.distplot(df_no_drama.Rating)\n",
    "sns.distplot(df_drama.Rating)\n",
    "\n",
    "# sns.distplot(df_comedy.Rating)\n",
    "# sns.distplot(df_horror.Rating)\n",
    "# sns.distplot(df_scifi.Rating)\n",
    "# sns.distplot(df_action.Rating)\n",
    "# sns.distplot(df_romance.Rating)"
   ]
  },
  {
   "cell_type": "code",
   "execution_count": 73,
   "metadata": {},
   "outputs": [
    {
     "name": "stdout",
     "output_type": "stream",
     "text": [
      "For the population the standard deviation is: 1.055  with a median value of: 6.0  and a mean value of: 5.92\n",
      "For Drama the standard deviation is: 0.917  with a median value of: 6.4  and a mean value of: 6.292\n",
      "This gives us an effect size of 0.398 (to 3dp.)\n"
     ]
    }
   ],
   "source": [
    "print(\"For the population the standard deviation is:\",round(df_no_drama.Rating.std(),3),\" with a median value of:\",round(df_no_drama.Rating.median(),3),\" and a mean value of:\",round(df.Rating.mean(),3))\n",
    "print(\"For Drama the standard deviation is:\",round(df_drama.Rating.std(),3),\" with a median value of:\",round(df_drama.Rating.median(),3),\" and a mean value of:\",round(df_drama.Rating.mean(),3))\n",
    "print(\"This gives us an effect size of\", round(ht.cohens_d(df_drama.Rating, df_no_drama.Rating),3), \"(to 3dp.)\")"
   ]
  },
  {
   "cell_type": "code",
   "execution_count": 74,
   "metadata": {},
   "outputs": [
    {
     "name": "stdout",
     "output_type": "stream",
     "text": [
      "The drama movies sample set is not normal given:  NormaltestResult(statistic=15.285855141424646, pvalue=0.00047942285126625054) \n",
      " It has  112  values.\n",
      "The rest of the data is not normal given:  NormaltestResult(statistic=58.066922240332374, pvalue=2.459959997803095e-13) \n",
      " It has  1903  values.\n"
     ]
    }
   ],
   "source": [
    "print(\"The drama movies sample set is not normal given: \",st.normaltest(df_drama.Rating),\"\\n It has \",len(df_drama),\" values.\")\n",
    "print(\"The rest of the data is not normal given: \",st.normaltest(df_no_drama.Rating),\"\\n It has \",len(df_no_drama),\" values.\")\n"
   ]
  },
  {
   "cell_type": "markdown",
   "metadata": {},
   "source": [
    "So neither the population or Drama data-sets are normal either. "
   ]
  },
  {
   "cell_type": "markdown",
   "metadata": {},
   "source": [
    "## Improve our data set such that it is normal and we can perform our tests!"
   ]
  },
  {
   "cell_type": "markdown",
   "metadata": {},
   "source": [
    "Below we will use the Central Limit Theorem to aid in creating normal distributions for our data. We will randomly sample horror too, even though it is already normal, so we have equal sizes of the distributions."
   ]
  },
  {
   "cell_type": "code",
   "execution_count": 145,
   "metadata": {},
   "outputs": [
    {
     "name": "stderr",
     "output_type": "stream",
     "text": [
      "/Users/flatironschool/anaconda3/envs/learn-env/lib/python3.6/site-packages/scipy/stats/stats.py:1713: FutureWarning: Using a non-tuple sequence for multidimensional indexing is deprecated; use `arr[tuple(seq)]` instead of `arr[seq]`. In the future this will be interpreted as an array index, `arr[np.array(seq)]`, which will result either in an error or a different result.\n",
      "  return np.add.reduce(sorted[indexer] * weights, axis=axis) / sumval\n"
     ]
    },
    {
     "name": "stdout",
     "output_type": "stream",
     "text": [
      "NormaltestResult(statistic=1.4464791415082396, pvalue=0.48517793901946826)\n",
      "NormaltestResult(statistic=2.0252718938826524, pvalue=0.36326018189141596)\n",
      "NormaltestResult(statistic=0.9603182827824502, pvalue=0.6186849255915348)\n"
     ]
    },
    {
     "data": {
      "image/png": "[encoded data removed]",
      "text/plain": [
       "<Figure size 432x288 with 1 Axes>"
      ]
     },
     "metadata": {
      "needs_background": "light"
     },
     "output_type": "display_data"
    }
   ],
   "source": [
    "comedy_normal=ht.create_sample_distribution(comedy,300,n=15)\n",
    "drama_normal=ht.create_sample_distribution(drama,300,n=15)\n",
    "horror_normal=ht.create_sample_distribution(horror,300,n=15)\n",
    "\n",
    "sns.distplot(comedy_normal)\n",
    "sns.distplot(drama_normal)\n",
    "sns.distplot(horror_normal)\n",
    "\n",
    "print(st.normaltest(comedy_normal))\n",
    "print(st.normaltest(drama_normal))\n",
    "print(st.normaltest(horror_normal))\n",
    "\n"
   ]
  },
  {
   "cell_type": "markdown",
   "metadata": {},
   "source": [
    "### Performing a simple one-way ANOVA for our 3 main genres...\n",
    "The aim of this is to see whether the difference in ratings between genres is signifcantly different.\n",
    "If so, we will we be interested in to see the how drama performs against the population. We will not perform ad-hoc comparisons between genres as we are not interested in which specific combinations are signifcant but rather just interested in seeing if any observed difference is real."
   ]
  },
  {
   "cell_type": "code",
   "execution_count": 146,
   "metadata": {},
   "outputs": [
    {
     "data": {
      "text/plain": [
       "'We reject the null as our p-value (0.0) is less than our alpha (0.05) so we can say this result is signifcant.'"
      ]
     },
     "execution_count": 146,
     "metadata": {},
     "output_type": "execute_result"
    }
   ],
   "source": [
    "# Now perform a one-way ANOVA test for these random samples\n",
    "anova=scipy.stats.f_oneway(comedy_normal,drama_normal,horror_normal)     \n",
    "\n",
    "# Very small P-value and large F -> signifcant difference between genres\n",
    "ht.significance(anova[1],alpha) "
   ]
  },
  {
   "cell_type": "markdown",
   "metadata": {},
   "source": [
    "We can see the above genres are statistically different from each other, so genres definitely affect the rating. As drama has the highest rating, we now want to know if it statistically different from the population, thereby saying drama films do garner a better rating, and can advise which is the genre most likely to be a success."
   ]
  },
  {
   "cell_type": "markdown",
   "metadata": {},
   "source": [
    "## Drama vs Population\n",
    "Again we will need to normalise these two data-sets."
   ]
  },
  {
   "cell_type": "code",
   "execution_count": 111,
   "metadata": {},
   "outputs": [
    {
     "name": "stdout",
     "output_type": "stream",
     "text": [
      "NormaltestResult(statistic=9.412700535953876, pvalue=0.009037702654836966)\n"
     ]
    },
    {
     "name": "stderr",
     "output_type": "stream",
     "text": [
      "/Users/flatironschool/anaconda3/envs/learn-env/lib/python3.6/site-packages/scipy/stats/stats.py:1713: FutureWarning: Using a non-tuple sequence for multidimensional indexing is deprecated; use `arr[tuple(seq)]` instead of `arr[seq]`. In the future this will be interpreted as an array index, `arr[np.array(seq)]`, which will result either in an error or a different result.\n",
      "  return np.add.reduce(sorted[indexer] * weights, axis=axis) / sumval\n"
     ]
    },
    {
     "data": {
      "image/png": "[encoded data removed]",
      "text/plain": [
       "<Figure size 432x288 with 1 Axes>"
      ]
     },
     "metadata": {
      "needs_background": "light"
     },
     "output_type": "display_data"
    }
   ],
   "source": [
    "drama_normal=ht.create_sample_distribution(df_drama.Rating,300,n=15)\n",
    "sns.distplot(drama_normal)\n",
    "print(st.normaltest(drama_normal))"
   ]
  },
  {
   "cell_type": "code",
   "execution_count": 58,
   "metadata": {},
   "outputs": [
    {
     "name": "stdout",
     "output_type": "stream",
     "text": [
      "NormaltestResult(statistic=0.35588958540681975, pvalue=0.8369886300928296)\n"
     ]
    },
    {
     "name": "stderr",
     "output_type": "stream",
     "text": [
      "/Users/flatironschool/anaconda3/envs/learn-env/lib/python3.6/site-packages/scipy/stats/stats.py:1713: FutureWarning: Using a non-tuple sequence for multidimensional indexing is deprecated; use `arr[tuple(seq)]` instead of `arr[seq]`. In the future this will be interpreted as an array index, `arr[np.array(seq)]`, which will result either in an error or a different result.\n",
      "  return np.add.reduce(sorted[indexer] * weights, axis=axis) / sumval\n"
     ]
    },
    {
     "data": {
      "image/png": "[encoded data removed]",
      "text/plain": [
       "<Figure size 432x288 with 1 Axes>"
      ]
     },
     "metadata": {
      "needs_background": "light"
     },
     "output_type": "display_data"
    }
   ],
   "source": [
    "no_drama_normal=ht.create_sample_distribution(df_no_drama.Rating,300,n=15)\n",
    "sns.distplot(no_drama_normal)\n",
    "print(st.normaltest(no_drama_normal))"
   ]
  },
  {
   "cell_type": "code",
   "execution_count": 61,
   "metadata": {},
   "outputs": [
    {
     "name": "stdout",
     "output_type": "stream",
     "text": [
      "For the population the standard deviation is: 0.28  with a median value of: 5.92  and a mean value of: 5.933\n",
      "For Drama the standard deviation is: 0.238  with a median value of: 6.303  and a mean value of: 6.278\n",
      "This gives us an effect size of 1.328 (to 3dp.)\n"
     ]
    }
   ],
   "source": [
    "print(\"For the population the standard deviation is:\",round(statistics.pstdev(no_drama_normal),3),\" with a median value of:\",round(statistics.median(no_drama_normal),3),\" and a mean value of:\",round(statistics.mean(no_drama_normal),3))\n",
    "print(\"For Drama the standard deviation is:\",round(statistics.stdev(drama_normal),3),\" with a median value of:\",round(statistics.median(drama_normal),3),\" and a mean value of:\",round(statistics.mean(drama_normal),3))\n",
    "print(\"This gives us an effect size of\", round(ht.cohens_d(drama_normal, no_drama_normal),3), \"(to 3dp.)\")"
   ]
  },
  {
   "cell_type": "markdown",
   "metadata": {},
   "source": [
    "### Plotting our normalised distributions"
   ]
  },
  {
   "cell_type": "markdown",
   "metadata": {},
   "source": [
    "## One sample z-test for Drama movies against the population."
   ]
  },
  {
   "cell_type": "code",
   "execution_count": 148,
   "metadata": {},
   "outputs": [
    {
     "name": "stderr",
     "output_type": "stream",
     "text": [
      "/Users/flatironschool/anaconda3/envs/learn-env/lib/python3.6/site-packages/scipy/stats/stats.py:1713: FutureWarning: Using a non-tuple sequence for multidimensional indexing is deprecated; use `arr[tuple(seq)]` instead of `arr[seq]`. In the future this will be interpreted as an array index, `arr[np.array(seq)]`, which will result either in an error or a different result.\n",
      "  return np.add.reduce(sorted[indexer] * weights, axis=axis) / sumval\n"
     ]
    },
    {
     "data": {
      "image/png": "[encoded data removed]",
      "text/plain": [
       "<Figure size 432x288 with 1 Axes>"
      ]
     },
     "metadata": {
      "needs_background": "light"
     },
     "output_type": "display_data"
    }
   ],
   "source": [
    "a = sns.distplot(no_drama_normal,label=\"Population\").set_title(\"Drama Movies vs. Population\").get_figure().savefig(\"Drama_vs_Popluation.png\")\n",
    "b = sns.distplot(drama_normal,label=\"Drama\")\n",
    "plt.xlabel(\"Film Rating\")\n",
    "plt.ylabel(\"Frequency\")\n",
    "plt.legend()\n",
    "plt.show()"
   ]
  },
  {
   "cell_type": "code",
   "execution_count": 149,
   "metadata": {},
   "outputs": [
    {
     "name": "stdout",
     "output_type": "stream",
     "text": [
      "The z-statistic is 26.294, which corresponds to a p-value of 0.0.\n",
      "The effect size, cohen's d = 1.576.\n",
      "From this we Reject the null hypothesis\n"
     ]
    }
   ],
   "source": [
    "alpha =  0.05                                   # The alpha value - likelihood to avoid a Type 1 error\n",
    "\n",
    "ht.z_test(drama_normal, no_drama_normal, alpha)               # Using the z-test from our library"
   ]
  },
  {
   "cell_type": "markdown",
   "metadata": {},
   "source": [
    "Therefore the difference in rating between Drama and the population is significant with a large effect size!"
   ]
  },
  {
   "cell_type": "code",
   "execution_count": 150,
   "metadata": {},
   "outputs": [
    {
     "data": {
      "image/png": "[encoded data removed]",
      "text/plain": [
       "<Figure size 576x396 with 1 Axes>"
      ]
     },
     "metadata": {},
     "output_type": "display_data"
    }
   ],
   "source": [
    "# Visualize the difference\n",
    "\n",
    "plt.style.use('seaborn')\n",
    "plt.fill_between(x=np.arange(-5,3.92,0.01),\n",
    "                 y1= st.norm.pdf(np.arange(-5,3.92,0.01)),\n",
    "                 facecolor='green',\n",
    "                 alpha=0.35,\n",
    "                 label= 'Area below z-statistic'\n",
    "                 )\n",
    "\n",
    "plt.fill_between(x=np.arange(3.92,5,0.01), \n",
    "                 y1= st.norm.pdf(np.arange(3.92,5,0.01)),\n",
    "                 facecolor='blue',\n",
    "                 alpha=0.35, \n",
    "                 label= 'Area above z-statistic')\n",
    "plt.legend()\n",
    "plt.title ('z-statistic = 3.92');"
   ]
  },
  {
   "cell_type": "markdown",
   "metadata": {},
   "source": [
    "## How do Netflix films compare to the population?\n",
    "In this section we will use a Welch's T-Test as our variance in the Netflix subset and population do not have equal variance (as are not uniform) so this test will be more appropriate without having to normalise our dataset as we did previously. However as we will have both normalised and non-normal versions we will perform both tests.\n",
    "\n",
    "Our hypothesis is that Netflix films will perform better or worse than the population - IE they will differ in rating.\n",
    "Our null is that there is no difference between Netflix films and the population."
   ]
  },
  {
   "cell_type": "code",
   "execution_count": 151,
   "metadata": {},
   "outputs": [
    {
     "name": "stdout",
     "output_type": "stream",
     "text": [
      "Netflix has  122  films in total.\n",
      "Netflix has  10   Drama films.\n"
     ]
    }
   ],
   "source": [
    "# How many films does Netflix have here and how many are drama?\n",
    "print(\"Netflix has \",len(df_ratings.loc[df_ratings[\"Production\"]==\"Netflix\",:]),\" films in total.\")\n",
    "print(\"Netflix has \",len(df_ratings.loc[(df_ratings[\"Production\"]==\"Netflix\")&(df_ratings[\"Genre\"]==\"Drama\"),:]),\"  Drama films.\")"
   ]
  },
  {
   "cell_type": "code",
   "execution_count": 152,
   "metadata": {},
   "outputs": [
    {
     "name": "stdout",
     "output_type": "stream",
     "text": [
      "<class 'pandas.core.frame.DataFrame'>\n",
      "RangeIndex: 2015 entries, 0 to 2014\n",
      "Data columns (total 12 columns):\n",
      "Title_ID              2015 non-null object\n",
      "Release_Year          2015 non-null int64\n",
      "Runtime(Minutes)      2015 non-null int64\n",
      "Genre                 2015 non-null object\n",
      "Title                 2015 non-null object\n",
      "Rating                2015 non-null float64\n",
      "Number_of_Votes       2015 non-null int64\n",
      "Budget(LCY)           1004 non-null object\n",
      "USA_Gross($)          1085 non-null float64\n",
      "Worldwide_Gross($)    1386 non-null float64\n",
      "Actors                2015 non-null object\n",
      "Production            1678 non-null object\n",
      "dtypes: float64(3), int64(3), object(6)\n",
      "memory usage: 189.0+ KB\n"
     ]
    },
    {
     "data": {
      "text/plain": [
       "Index(['Title_ID', 'Release_Year', 'Runtime(Minutes)', 'Genre', 'Title',\n",
       "       'Rating', 'Number_of_Votes', 'Budget(LCY)', 'USA_Gross($)',\n",
       "       'Worldwide_Gross($)', 'Actors', 'Production'],\n",
       "      dtype='object')"
      ]
     },
     "execution_count": 152,
     "metadata": {},
     "output_type": "execute_result"
    }
   ],
   "source": [
    "df_ratings.info()\n",
    "df_ratings.columns"
   ]
  },
  {
   "cell_type": "code",
   "execution_count": 153,
   "metadata": {},
   "outputs": [],
   "source": [
    "df_netflix = df_ratings.loc[df_ratings[\"Production\"]==\"Netflix\",:]\n",
    "df_rest    = df_ratings.loc[df_ratings[\"Production\"]!=\"Netflix\",:]"
   ]
  },
  {
   "cell_type": "code",
   "execution_count": 154,
   "metadata": {},
   "outputs": [
    {
     "name": "stderr",
     "output_type": "stream",
     "text": [
      "/Users/flatironschool/anaconda3/envs/learn-env/lib/python3.6/site-packages/scipy/stats/stats.py:1713: FutureWarning: Using a non-tuple sequence for multidimensional indexing is deprecated; use `arr[tuple(seq)]` instead of `arr[seq]`. In the future this will be interpreted as an array index, `arr[np.array(seq)]`, which will result either in an error or a different result.\n",
      "  return np.add.reduce(sorted[indexer] * weights, axis=axis) / sumval\n"
     ]
    },
    {
     "data": {
      "text/plain": [
       "<matplotlib.axes._subplots.AxesSubplot at 0x1a1d4105c0>"
      ]
     },
     "execution_count": 154,
     "metadata": {},
     "output_type": "execute_result"
    },
    {
     "data": {
      "image/png": "[encoded data removed]",
      "text/plain": [
       "<Figure size 576x396 with 1 Axes>"
      ]
     },
     "metadata": {},
     "output_type": "display_data"
    }
   ],
   "source": [
    "sns.distplot(df_netflix.Rating)\n",
    "sns.distplot(df_rest.Rating)"
   ]
  },
  {
   "cell_type": "code",
   "execution_count": 155,
   "metadata": {},
   "outputs": [
    {
     "name": "stdout",
     "output_type": "stream",
     "text": [
      "1.0629724003438397 5.911251980982567\n",
      "0.8400315637194714 6.06311475409836\n"
     ]
    }
   ],
   "source": [
    "print(df_rest.Rating.std(),df_rest.Rating.mean())\n",
    "print(df_netflix.Rating.std(),df_netflix.Rating.mean())\n"
   ]
  },
  {
   "cell_type": "code",
   "execution_count": 156,
   "metadata": {},
   "outputs": [
    {
     "name": "stdout",
     "output_type": "stream",
     "text": [
      "NormaltestResult(statistic=0.5938646459726928, pvalue=0.743094301063385)\n"
     ]
    },
    {
     "name": "stderr",
     "output_type": "stream",
     "text": [
      "/Users/flatironschool/anaconda3/envs/learn-env/lib/python3.6/site-packages/scipy/stats/stats.py:1713: FutureWarning: Using a non-tuple sequence for multidimensional indexing is deprecated; use `arr[tuple(seq)]` instead of `arr[seq]`. In the future this will be interpreted as an array index, `arr[np.array(seq)]`, which will result either in an error or a different result.\n",
      "  return np.add.reduce(sorted[indexer] * weights, axis=axis) / sumval\n"
     ]
    },
    {
     "data": {
      "image/png": "[encoded data removed]",
      "text/plain": [
       "<Figure size 576x396 with 1 Axes>"
      ]
     },
     "metadata": {},
     "output_type": "display_data"
    }
   ],
   "source": [
    "netflix_normal=ht.create_sample_distribution(df_netflix.Rating,100,n=10)\n",
    "sns.distplot(netflix_normal)\n",
    "print(st.normaltest(netflix_normal))"
   ]
  },
  {
   "cell_type": "code",
   "execution_count": null,
   "metadata": {},
   "outputs": [],
   "source": [
    "rest_normal=ht.create_sample_distribution(df_rest.Rating,100,n=10)\n",
    "sns.distplot(rest_normal)\n",
    "print(st.normaltest(rest_normal))"
   ]
  },
  {
   "cell_type": "code",
   "execution_count": null,
   "metadata": {},
   "outputs": [],
   "source": [
    "a=sns.distplot(rest_normal,label=\"Population\").set_title(\"Netflix Movies vs. Population\").get_figure().savefig(\"Netflix_vs_Popluation.png\")\n",
    "b=sns.distplot(netflix_normal,label=\"Netflix\")\n",
    "plt.xlabel(\"Rating\")\n",
    "plt.ylabel(\"Frequency\")\n",
    "plt.legend()\n",
    "plt.show()\n",
    "\n"
   ]
  },
  {
   "cell_type": "code",
   "execution_count": null,
   "metadata": {},
   "outputs": [],
   "source": [
    "print(len(rest_normal))\n",
    "len(netflix_normal)"
   ]
  },
  {
   "cell_type": "markdown",
   "metadata": {},
   "source": [
    "### Perform simple z-test\n",
    "As we have normalized our sample sets here, and they both have the same sample size, we can perform a z-test."
   ]
  },
  {
   "cell_type": "code",
   "execution_count": null,
   "metadata": {},
   "outputs": [],
   "source": [
    "z_netflix = ht.z_test(netflix_normal,rest_normal,alpha)       \n",
    "z_netflix"
   ]
  },
  {
   "cell_type": "markdown",
   "metadata": {},
   "source": [
    "### Perform Welch's T-Test\n",
    "If we do not want to use our normlized data, perhaps for better accuracy as this method uses the true distribution, we can use a Welch's T-test which accounts for non-uniformity and different sample sizes. "
   ]
  },
  {
   "cell_type": "code",
   "execution_count": null,
   "metadata": {},
   "outputs": [],
   "source": [
    "# We can perform a welchs t-test in one line using scipy.stats\n",
    "\n",
    "t_stat, p_value = st.ttest_ind(df_netflix.Rating, df_rest.Rating, equal_var=False)\n",
    "\n",
    "print(f\"This gives us a t-statistic of {round(t_stat,3)}, and a corresponding p-value of {round(p_value,3)}\")\n",
    "\n",
    "ht.significance(p_value,alpha)\n"
   ]
  },
  {
   "cell_type": "markdown",
   "metadata": {},
   "source": [
    "### Is it more profitable to release movies during the winter months in the US?\n",
    "\n",
    "The dataset is base on the last five years' worth movies released in the US scraped from IMDB for the ratings and gross profit.  Profitability will be measured using the budget (proxy for overall production cost converted into USD) and gross US revenue (not worldwide revenue as focus is revenue during the winter) scraped from each of the movie IMDB webpages. t-test will be performed on the mean profits of winter (Dec, Jan, Feb) and summer (Jun, Jul, Aug) movies.\n",
    "\n",
    "#### Perform EDA on  the data taken from IMDB.  Check for null values and outliers."
   ]
  },
  {
   "cell_type": "code",
   "execution_count": null,
   "metadata": {},
   "outputs": [],
   "source": [
    "#Get the columns needed for the test:  movies released during the winter months more profitable\n",
    "df_movie_revenue = df[[\"Title_ID\",\"Release_Year\",\"Released_Month\",\"Title\",\"Genre\",\"Production\",\"Budget(LCY)\",\"USA_Gross($)\",\"Worldwide_Gross($)\"]]\n",
    "df_movie_revenue.head()"
   ]
  },
  {
   "cell_type": "code",
   "execution_count": null,
   "metadata": {
    "scrolled": true
   },
   "outputs": [],
   "source": [
    "#Check dtype and for null values\n",
    "display(df_movie_revenue.info())"
   ]
  },
  {
   "cell_type": "code",
   "execution_count": null,
   "metadata": {},
   "outputs": [],
   "source": [
    "#Drop null values under the money columns\n",
    "df_movie_revenue.dropna(subset = [\"Budget(LCY)\", \"USA_Gross($)\", \"Worldwide_Gross($)\"], inplace = True)\n",
    "df_movie_revenue.info()"
   ]
  },
  {
   "cell_type": "code",
   "execution_count": null,
   "metadata": {},
   "outputs": [],
   "source": [
    "#Convert budget column to USD, use current exchange rate\n",
    "df_movie_revenue[\"Budget($)\"] = pd.Series([])\n",
    "\n",
    "for i in range(len(df_movie_revenue)):\n",
    "    if str(df_movie_revenue[\"Budget(LCY)\"].iloc[i])[0] == \"$\":\n",
    "        df_movie_revenue[\"Budget($)\"].iloc[i] = int(str(df_movie_revenue[\"Budget(LCY)\"].iloc[i]).replace(\"$\",\"\"))/1000000\n",
    "    elif str(df_movie_revenue[\"Budget(LCY)\"].iloc[i])[0:3] == \"EUR\":\n",
    "        df_movie_revenue[\"Budget($)\"].iloc[i] = int(str(df_movie_revenue[\"Budget(LCY)\"].iloc[i]).replace(\"EUR\",\"\"))/1000000 * 1.1\n",
    "    elif str(df_movie_revenue[\"Budget(LCY)\"].iloc[i])[0:3] == \"GBP\":\n",
    "        df_movie_revenue[\"Budget($)\"].iloc[i] = int(str(df_movie_revenue[\"Budget(LCY)\"].iloc[i]).replace(\"GBP\",\"\"))/1000000 * 1.28\n",
    "    elif str(df_movie_revenue[\"Budget(LCY)\"].iloc[i])[0:3] == \"CAD\":\n",
    "        df_movie_revenue[\"Budget($)\"].iloc[i] = int(str(df_movie_revenue[\"Budget(LCY)\"].iloc[i]).replace(\"CAD\",\"\"))/1000000 * 0.75\n",
    "    else:\n",
    "        continue\n",
    "        \n",
    "df_movie_revenue.drop(columns = [\"Budget(LCY)\"], axis = 1, inplace = True)"
   ]
  },
  {
   "cell_type": "code",
   "execution_count": null,
   "metadata": {},
   "outputs": [],
   "source": [
    "#Calculate US profit\n",
    "df_movie_revenue[\"Profit_US(%)\"] = round((df_movie_revenue[\"USA_Gross($)\"] / df_movie_revenue[\"Budget($)\"]) - 1, 2)\n",
    "\n",
    "#Calculate Worldwide profit\n",
    "df_movie_revenue[\"Profit_W(%)\"] = round((df_movie_revenue[\"Worldwide_Gross($)\"] / df_movie_revenue[\"Budget($)\"]) - 1, 2)"
   ]
  },
  {
   "cell_type": "code",
   "execution_count": null,
   "metadata": {
    "scrolled": true
   },
   "outputs": [],
   "source": [
    "df_movie_revenue.info()"
   ]
  },
  {
   "cell_type": "code",
   "execution_count": null,
   "metadata": {
    "scrolled": true
   },
   "outputs": [],
   "source": [
    "plt.figure(figsize = [10,5])\n",
    "sns.scatterplot(data = df_movie_revenue, x = \"Budget($)\", y = \"Worldwide_Gross($)\", label = \"Worldwide Gross Revenue\")\n",
    "sns.scatterplot(data = df_movie_revenue, x = \"Budget($)\", y = \"USA_Gross($)\", label = \"US Gross Revenue\")\n",
    "plt.xlabel(\"Budget US$ mm\")\n",
    "plt.ylabel(\"Revenue US$ mm\")\n",
    "plt.legend()\n",
    "plt.savefig(\"BudgetvsGrossRevenues\")\n",
    "plt.show()"
   ]
  },
  {
   "cell_type": "code",
   "execution_count": null,
   "metadata": {},
   "outputs": [],
   "source": [
    "#Add categorial columns for the seasons\n",
    "df_months = pd.DataFrame({\"Released_Month\" : list(range(1,13)), \"Season\" : [1,1,2,2,2,3,3,3,4,4,4,1], \"Season_\" : [1,1,2,2,2,2,2,2,1,1,1,1]})\n",
    "df_season_revenue = pd.merge(df_movie_revenue, df_months, on = \"Released_Month\")\n",
    "df_season_revenue"
   ]
  },
  {
   "cell_type": "code",
   "execution_count": null,
   "metadata": {},
   "outputs": [],
   "source": [
    "#Check the distribution of the profit column\n",
    "plt.figure(figsize = [20,5])\n",
    "sns.boxplot(df_season_revenue[\"Profit_US(%)\"])"
   ]
  },
  {
   "cell_type": "code",
   "execution_count": null,
   "metadata": {
    "scrolled": true
   },
   "outputs": [],
   "source": [
    "df_season_revenue[\"Profit_US(%)\"].describe()"
   ]
  },
  {
   "cell_type": "code",
   "execution_count": null,
   "metadata": {},
   "outputs": [],
   "source": [
    "#The above boxplot and table are showing 4 outliers above 15/20%\n",
    "#Remove the outliers profit > 15%\n",
    "df_season_outliers = df_season_revenue[df_season_revenue[\"Profit_US(%)\"] > 15]\n",
    "df_season_outliers"
   ]
  },
  {
   "cell_type": "code",
   "execution_count": null,
   "metadata": {},
   "outputs": [],
   "source": [
    "df_season_revenue = df_season_revenue[df_season_revenue[\"Profit_US(%)\"] <= 15]\n",
    "df_season_revenue"
   ]
  },
  {
   "cell_type": "code",
   "execution_count": null,
   "metadata": {},
   "outputs": [],
   "source": [
    "plt.figure(figsize = [20,5])\n",
    "sns.boxplot(df_season_revenue[\"Profit_US(%)\"])"
   ]
  },
  {
   "cell_type": "code",
   "execution_count": null,
   "metadata": {},
   "outputs": [],
   "source": [
    "sns.scatterplot(data = df_season_revenue, x = \"Budget($)\", y = \"USA_Gross($)\")"
   ]
  },
  {
   "cell_type": "code",
   "execution_count": null,
   "metadata": {},
   "outputs": [],
   "source": [
    "#Create a subset for winter movies\n",
    "df_winter = df_season_revenue[(df_season_revenue[\"Season\"] == 1)]\n",
    "df_winter[\"Profit_US(%)\"].describe()"
   ]
  },
  {
   "cell_type": "code",
   "execution_count": null,
   "metadata": {
    "scrolled": true
   },
   "outputs": [],
   "source": [
    "#Create a subset for summer movies which will be tested against winter movies\n",
    "df_summer = df_season_revenue[(df_season_revenue[\"Season\"] == 3)]\n",
    "df_summer[\"Profit_US(%)\"].describe()"
   ]
  },
  {
   "cell_type": "code",
   "execution_count": null,
   "metadata": {},
   "outputs": [],
   "source": [
    "#Check distribution\n",
    "sns.distplot(df_winter[\"Profit_US(%)\"])\n",
    "sns.distplot(df_summer[\"Profit_US(%)\"])"
   ]
  },
  {
   "cell_type": "markdown",
   "metadata": {},
   "source": [
    "#### For the above subsets, perform random sampling then compare sample variances and check for normality.\n",
    "\n",
    "H0: sample comes from a normal distribution\n",
    "\n",
    "HA: sample does not from a normal distribution"
   ]
  },
  {
   "cell_type": "code",
   "execution_count": null,
   "metadata": {},
   "outputs": [],
   "source": [
    "#Below functions perform random sampling and calculate for sample variance\n",
    "def get_sample_mean(sample):\n",
    "    return sum(sample) / len(sample)\n",
    "def get_sample(data, n):\n",
    "    sample = []\n",
    "    while len(sample) != n:\n",
    "        x = np.random.choice(data)\n",
    "        sample.append(x)  \n",
    "    return sample\n",
    "def create_sample_distribution(data, dist_size=100, n=30):\n",
    "    sample_dist = []\n",
    "    while len(sample_dist) != dist_size:\n",
    "        sample = get_sample(data, n)\n",
    "        sample_mean = get_sample_mean(sample)\n",
    "        sample_dist.append(sample_mean)\n",
    "    return sample_dist\n",
    "def sample_variance(sample):\n",
    "    sample_mean = np.mean(sample)\n",
    "    return np.sum((sample - sample_mean) **2)/ (len(sample) -1)"
   ]
  },
  {
   "cell_type": "code",
   "execution_count": null,
   "metadata": {
    "scrolled": true
   },
   "outputs": [],
   "source": [
    "#Perfom random sampling and normality test on winter movies\n",
    "winter_sample = create_sample_distribution(df_winter[\"Profit_US(%)\"], dist_size=100, n=30)\n",
    "stats.normaltest(winter_sample)"
   ]
  },
  {
   "cell_type": "code",
   "execution_count": null,
   "metadata": {
    "scrolled": true
   },
   "outputs": [],
   "source": [
    "#Perfom random sampling and normality test on summer movies\n",
    "summer_sample = create_sample_distribution(df_summer[\"Profit_US(%)\"], dist_size=100, n=30)\n",
    "stats.normaltest(summer_sample)"
   ]
  },
  {
   "cell_type": "code",
   "execution_count": null,
   "metadata": {},
   "outputs": [],
   "source": [
    "sns.distplot(winter_sample, label = \"Winter Movies Ave Profit (%)\")\n",
    "sns.distplot(summer_sample, label = \"Summer Movies Ave Profit (%)\")\n",
    "plt.legend()\n",
    "plt.savefig(\"WinterSummer\", bbox_inches = \"tight\")\n",
    "plt.show()"
   ]
  },
  {
   "cell_type": "code",
   "execution_count": null,
   "metadata": {},
   "outputs": [],
   "source": [
    "winter_variance = sample_variance(winter_sample)\n",
    "winter_mean = np.mean(winter_sample)\n",
    "print(\"winter sample mean is\", winter_mean)\n",
    "print(\"winter sample variance is\", winter_variance)"
   ]
  },
  {
   "cell_type": "code",
   "execution_count": null,
   "metadata": {},
   "outputs": [],
   "source": [
    "summer_variance = sample_variance(summer_sample)\n",
    "summer_mean = np.mean(summer_sample)\n",
    "print(\"summer sample mean is\", summer_mean)\n",
    "print(\"summer sample variance is\", summer_variance)"
   ]
  },
  {
   "cell_type": "code",
   "execution_count": null,
   "metadata": {},
   "outputs": [],
   "source": [
    "winter_mean - summer_mean"
   ]
  },
  {
   "cell_type": "markdown",
   "metadata": {},
   "source": [
    " - p-values for the above normality tests are greater than the alpha = 0.05, H0 cannot be rejected then\n",
    "\n",
    " - winter and summer movie samples have similar variance"
   ]
  },
  {
   "cell_type": "markdown",
   "metadata": {},
   "source": [
    "#### Perform one-tailed and two-tailed t-tests (alpha = 0.05)\n",
    "\n",
    "H0: The mean profit difference between winter and summer movies is equal to zero (winter - summer = 0)\n",
    "\n",
    "HA1: The mean profit difference between winter and summer movies is not equal to zero (winter - summer != 0)\n",
    "\n",
    "HA2: The mean profit difference between winter and summer movies is greater than zero (winter - summer > 0)"
   ]
  },
  {
   "cell_type": "code",
   "execution_count": null,
   "metadata": {},
   "outputs": [],
   "source": [
    "alpha = 0.05\n",
    "df = len(winter_sample) + len(summer_sample) - 2 #degrees of freedom\n",
    "t_stat, p_value = stats.ttest_ind(winter_sample, summer_sample)\n",
    "#t_crit = stats.t.ppf(1 - alpha, df) #same for all null and alternative hypotheses"
   ]
  },
  {
   "cell_type": "code",
   "execution_count": null,
   "metadata": {},
   "outputs": [],
   "source": [
    "#HA1: The mean profit difference between winter and summer movies is not equal to zero (winter - summer != 0)\n",
    "\n",
    "print(\"t-statistic is \", t_stat)\n",
    "print(\"p-value is \", p_value)\n",
    "print(\"\\n\")\n",
    "if p_value < alpha/2:\n",
    "    print(\"p-value < alpha/2: we reject the null hypothesis at 5% significance level in support of the alternative\")\n",
    "else:\n",
    "    print(\"p-value > alpha/2: we do not the null hypothesis at 5% significance level in support of the alternative\")"
   ]
  },
  {
   "cell_type": "code",
   "execution_count": null,
   "metadata": {},
   "outputs": [],
   "source": [
    "#HA2: The mean profit difference between winter and summer movies is greater than zero (winter - summer > 0)\n",
    "\n",
    "print(\"t-statistic is \", t_stat)\n",
    "print(\"p-value is \", p_value)\n",
    "print(\"\\n\")\n",
    "if p_value < alpha:\n",
    "    print(\"p-value < alpha: we reject the null hypothesis at 5% significance level in support of the alternative\")\n",
    "else:\n",
    "    print(\"p-value > alpha: we do not the null hypothesis at 5% significance level in support of the alternative\")"
   ]
  },
  {
   "cell_type": "markdown",
   "metadata": {},
   "source": [
    "### Are comedy movies more profitable than dramas?\n",
    "\n",
    "Test is focused on last 5 years English movies released in the US taken from IMDB.  Profitability will be measured using the budget (proxy for overall production cost converted into USD) and gross worldwide revenue (both in millions) scraped from each of the movie IMDB webpages. t-test will be performed on the mean profits of comedy and drama movies.\n",
    "\n",
    "#### Perform EDA on  the data taken from IMDB.\n",
    "\n",
    "Cleaned data *df_movie_revenue* will be used as a starting point."
   ]
  },
  {
   "cell_type": "code",
   "execution_count": null,
   "metadata": {
    "scrolled": true
   },
   "outputs": [],
   "source": [
    "df_genre_revenue = df_movie_revenue.copy()\n",
    "df_genre_revenue"
   ]
  },
  {
   "cell_type": "code",
   "execution_count": null,
   "metadata": {},
   "outputs": [],
   "source": [
    "plt.figure(figsize = [10,5])\n",
    "sns.scatterplot(data = df_genre_revenue, x = \"Budget($)\", y = \"Worldwide_Gross($)\")\n",
    "plt.savefig(\"BudgetvsWGross\")\n",
    "plt.show()"
   ]
  },
  {
   "cell_type": "code",
   "execution_count": null,
   "metadata": {},
   "outputs": [],
   "source": [
    "#Check top genres excluding those movies under multiple genres\n",
    "q = \"\"\"SELECT * FROM df_genre_revenue WHERE Genre NOT LIKE \"%,%\";\"\"\"\n",
    "df_genre_ = pysqldf(q)\n",
    "display(df_genre_.info())\n",
    "df_genre_[[\"Genre\", \"Profit_W(%)\"]].groupby(\"Genre\").mean().sort_values(\"Profit_W(%)\", ascending = False)"
   ]
  },
  {
   "cell_type": "code",
   "execution_count": null,
   "metadata": {},
   "outputs": [],
   "source": [
    "plt.figure(figsize = [10,5])\n",
    "sns.boxplot(data = df_genre_, x = df_genre_[\"Genre\"], y = df_genre_[\"Profit_W(%)\"])"
   ]
  },
  {
   "cell_type": "code",
   "execution_count": null,
   "metadata": {},
   "outputs": [],
   "source": [
    "#Check drama stats\n",
    "df_genre_.query(\"Genre == 'Horror'\")[\"Profit_W(%)\"].describe()"
   ]
  },
  {
   "cell_type": "code",
   "execution_count": null,
   "metadata": {},
   "outputs": [],
   "source": [
    "#Check comedy stats\n",
    "df_genre_.query(\"Genre == 'Comedy'\")[\"Profit_W(%)\"].describe()"
   ]
  },
  {
   "cell_type": "code",
   "execution_count": null,
   "metadata": {},
   "outputs": [],
   "source": [
    "#Check horror stats\n",
    "df_genre_.query(\"Genre == 'Drama'\")[\"Profit_W(%)\"].describe()"
   ]
  },
  {
   "cell_type": "code",
   "execution_count": null,
   "metadata": {},
   "outputs": [],
   "source": [
    "#Create subsets for horror movies.  All movies under genre horror only.\n",
    "df_genre_comedy = df_genre_.query(\"Genre == 'Comedy'\")"
   ]
  },
  {
   "cell_type": "code",
   "execution_count": null,
   "metadata": {},
   "outputs": [],
   "source": [
    "#Create subsets for comedy movies.  All movies under genre comedy only.\n",
    "df_genre_drama = df_genre_.query(\"Genre == 'Drama'\")"
   ]
  },
  {
   "cell_type": "code",
   "execution_count": null,
   "metadata": {},
   "outputs": [],
   "source": [
    "#Check distribution\n",
    "sns.distplot(df_genre_comedy[\"Profit_W(%)\"])\n",
    "sns.distplot(df_genre_drama[\"Profit_W(%)\"])"
   ]
  },
  {
   "cell_type": "markdown",
   "metadata": {},
   "source": [
    "#### For the above subsets, perform random sampling then compare sample variances and check for normality.\n",
    "\n",
    "H0: sample comes from a normal distribution\n",
    "\n",
    "HA: sample does not from a normal distribution"
   ]
  },
  {
   "cell_type": "code",
   "execution_count": null,
   "metadata": {},
   "outputs": [],
   "source": [
    "#Perfom random sampling and normality test on comedy movies\n",
    "comedy_sample = create_sample_distribution(df_genre_comedy[\"Profit_W(%)\"], dist_size=100, n=30)\n",
    "stats.normaltest(comedy_sample)"
   ]
  },
  {
   "cell_type": "code",
   "execution_count": null,
   "metadata": {},
   "outputs": [],
   "source": [
    "#Perfom random sampling and normality test on comedy movies\n",
    "drama_sample = create_sample_distribution(df_genre_drama[\"Profit_W(%)\"], dist_size=100, n=30)\n",
    "stats.normaltest(drama_sample)"
   ]
  },
  {
   "cell_type": "code",
   "execution_count": null,
   "metadata": {},
   "outputs": [],
   "source": [
    "sns.distplot(comedy_sample, label = \"Comedy Average Profit(%)\")\n",
    "sns.distplot(drama_sample, label = \"Drama Average Profit(%)\")\n",
    "plt.legend()\n",
    "plt.savefig(\"ComedyDrama\")\n",
    "plt.show()"
   ]
  },
  {
   "cell_type": "code",
   "execution_count": null,
   "metadata": {},
   "outputs": [],
   "source": [
    "comedy_variance = sample_variance(comedy_sample)\n",
    "comedy_mean = np.mean(comedy_sample)\n",
    "print(\"comedy sample mean is\", comedy_mean)\n",
    "print(\"comedy sample variance is\", comedy_variance)"
   ]
  },
  {
   "cell_type": "code",
   "execution_count": null,
   "metadata": {
    "scrolled": true
   },
   "outputs": [],
   "source": [
    "drama_variance = sample_variance(drama_sample)\n",
    "drama_mean = np.mean(drama_sample)\n",
    "print(\"drama sample mean is\", drama_mean)\n",
    "print(\"drama sample variance is\", drama_variance)"
   ]
  },
  {
   "cell_type": "code",
   "execution_count": null,
   "metadata": {},
   "outputs": [],
   "source": [
    "comedy_mean - drama_mean"
   ]
  },
  {
   "cell_type": "markdown",
   "metadata": {},
   "source": [
    " - p-values for the above normality tests are greater than the alpha = 0.05, H0 cannot be rejected then\n",
    "\n",
    " - comedy and drama movie sample variances are not very similar"
   ]
  },
  {
   "cell_type": "markdown",
   "metadata": {},
   "source": [
    "#### Perform one-tailed and two-tailed Welch's t-tests (alpha = 0.05)\n",
    "\n",
    "H0: The mean profit difference between drama and comedy movies is equal to zero (comedy - drama = 0)\n",
    "\n",
    "HA1: The mean profit difference between drama and comedy movies is not equal to zero (comedy - drama != 0)\n",
    "\n",
    "HA2: The mean profit difference between drama and comedy movies is greater than zero (comedy - drama > 0)"
   ]
  },
  {
   "cell_type": "code",
   "execution_count": null,
   "metadata": {},
   "outputs": [],
   "source": [
    "alpha = 0.05\n",
    "df = len(drama_sample) + len(comedy_sample) - 2 #degrees of freedom\n",
    "t_stat, p_value = stats.ttest_ind(comedy_sample , drama_sample, equal_var=False) #two-tailed p-value\n",
    "#t_crit = stats.t.ppf(1 - alpha, df) #same for all null and alternative hypotheses"
   ]
  },
  {
   "cell_type": "code",
   "execution_count": null,
   "metadata": {
    "scrolled": true
   },
   "outputs": [],
   "source": [
    "#HA1: The mean profit difference between drama and comedy movies is not equal to zero (drama - comedy != 0)\n",
    "\n",
    "print(\"t-statistic is \", t_stat)\n",
    "print(\"p-value is \", p_value)\n",
    "print(\"\\n\")\n",
    "if p_value < alpha/2:\n",
    "    print(\"p-value < alpha/2: we reject the null hypothesis at 5% significance level in support of the alternative\")\n",
    "else:\n",
    "    print(\"p-value > alpha/2: we do not the null hypothesis at 5% significance level in support of the alternative\")"
   ]
  },
  {
   "cell_type": "code",
   "execution_count": null,
   "metadata": {
    "scrolled": true
   },
   "outputs": [],
   "source": [
    "#HA2: The mean profit difference between drama and comedy movies is greater than zero (drama - comedy > 0)\n",
    "\n",
    "print(\"t-statistic is \", t_stat)\n",
    "print(\"p-value is \", p_value)\n",
    "print(\"\\n\")\n",
    "if p_value < alpha:\n",
    "    print(\"p-value < alpha: we reject the null hypothesis at 5% significance level in support of the alternative\")\n",
    "else:\n",
    "    print(\"p-value > alpha: we do not the null hypothesis at 5% significance level in support of the alternative\")"
   ]
  },
  {
   "cell_type": "code",
   "execution_count": null,
   "metadata": {},
   "outputs": [],
   "source": []
  }
 ],
 "metadata": {
  "kernelspec": {
   "display_name": "Python [conda env:learn-env] *",
   "language": "python",
   "name": "conda-env-learn-env-py"
  },
  "language_info": {
   "codemirror_mode": {
    "name": "ipython",
    "version": 3
   },
   "file_extension": ".py",
   "mimetype": "text/x-python",
   "name": "python",
   "nbconvert_exporter": "python",
   "pygments_lexer": "ipython3",
   "version": "3.6.6"
  }
 },
 "nbformat": 4,
 "nbformat_minor": 4
}
