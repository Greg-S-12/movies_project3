{
 "cells": [
  {
   "cell_type": "code",
   "execution_count": 14,
   "metadata": {},
   "outputs": [
    {
     "name": "stdout",
     "output_type": "stream",
     "text": [
      "The autoreload extension is already loaded. To reload it, use:\n",
      "  %reload_ext autoreload\n"
     ]
    }
   ],
   "source": [
    "%load_ext autoreload\n",
    "%autoreload 2\n",
    "import math\n",
    "import pandas as pd\n",
    "import numpy as np\n",
    "import seaborn as sns\n",
    "sns.set_style('darkgrid')\n",
    "import statistics\n",
    "import scipy\n",
    "import scipy.stats as st\n",
    "import matplotlib.pyplot as plt\n",
    "%matplotlib inline\n",
    "\n",
    "from pandasql import sqldf\n",
    "pysqldf = lambda q: sqldf(q, globals())\n",
    "\n",
    "import data_cleaning_greg  as dc\n",
    "import hypothesis_tests as ht\n",
    "import visualizations"
   ]
  },
  {
   "cell_type": "markdown",
   "metadata": {},
   "source": [
    "## Reading in the data and begin cleaning"
   ]
  },
  {
   "cell_type": "markdown",
   "metadata": {},
   "source": [
    "Full_OMDB_Table.csv contains a list of movies (country USA, language English) from November 2014 to October 2019 taken from IMDB. Budget and revenue info are from IMDB as well.  Ratings (IMDB, Rotten Tomatoes and Metascore), released date, actors and production info are from OMDB, unoffical IMDB API."
   ]
  },
  {
   "cell_type": "code",
   "execution_count": 28,
   "metadata": {},
   "outputs": [
    {
     "name": "stdout",
     "output_type": "stream",
     "text": [
      "<class 'pandas.core.frame.DataFrame'>\n",
      "RangeIndex: 2015 entries, 0 to 2014\n",
      "Data columns (total 22 columns):\n",
      "tconst                      2015 non-null object\n",
      "titleType                   2015 non-null object\n",
      "primaryTitle                2015 non-null object\n",
      "originalTitle               2015 non-null object\n",
      "isAdult                     2015 non-null int64\n",
      "startYear                   2015 non-null int64\n",
      "endYear                     2015 non-null object\n",
      "runtimeMinutes              2015 non-null int64\n",
      "genres                      2015 non-null object\n",
      "title                       2015 non-null object\n",
      "check                       2015 non-null int64\n",
      "averageRating               2015 non-null float64\n",
      "numVotes                    2015 non-null int64\n",
      "budget_LCY                  1004 non-null object\n",
      "gross_USA_USD               1085 non-null float64\n",
      "cumm_worldwide_gross_USD    1386 non-null float64\n",
      "Released_Date               2005 non-null object\n",
      "Released_Month              2005 non-null float64\n",
      "Rotten_Tomatoes             1522 non-null float64\n",
      "Metascore                   1461 non-null float64\n",
      "Actors                      2015 non-null object\n",
      "Production                  1678 non-null object\n",
      "dtypes: float64(6), int64(5), object(11)\n",
      "memory usage: 346.4+ KB\n"
     ]
    }
   ],
   "source": [
    "# Read in data as pandas dataframe\n",
    "\n",
    "df=pd.read_csv(\"2016_2019_USmovies_API.csv\")\n",
    "df.head()\n",
    "\n",
    "# Check what our column titles are so we can rename/remove them\n",
    "df.columns\n",
    "\n",
    "df.info()"
   ]
  },
  {
   "cell_type": "code",
   "execution_count": 29,
   "metadata": {},
   "outputs": [
    {
     "data": {
      "text/html": [
       "<div>\n",
       "<style scoped>\n",
       "    .dataframe tbody tr th:only-of-type {\n",
       "        vertical-align: middle;\n",
       "    }\n",
       "\n",
       "    .dataframe tbody tr th {\n",
       "        vertical-align: top;\n",
       "    }\n",
       "\n",
       "    .dataframe thead th {\n",
       "        text-align: right;\n",
       "    }\n",
       "</style>\n",
       "<table border=\"1\" class=\"dataframe\">\n",
       "  <thead>\n",
       "    <tr style=\"text-align: right;\">\n",
       "      <th></th>\n",
       "      <th>Title_ID</th>\n",
       "      <th>Release_Year</th>\n",
       "      <th>Runtime(Minutes)</th>\n",
       "      <th>Genre</th>\n",
       "      <th>Title</th>\n",
       "      <th>Rating</th>\n",
       "      <th>Number_of_Votes</th>\n",
       "      <th>Budget(LCY)</th>\n",
       "      <th>USA_Gross($)</th>\n",
       "      <th>Worldwide_Gross($)</th>\n",
       "      <th>Released_Date</th>\n",
       "      <th>Released_Month</th>\n",
       "      <th>Rotten_Tomatoes</th>\n",
       "      <th>Metascore</th>\n",
       "      <th>Actors</th>\n",
       "      <th>Production</th>\n",
       "    </tr>\n",
       "  </thead>\n",
       "  <tbody>\n",
       "    <tr>\n",
       "      <th>0</th>\n",
       "      <td>tt0069049</td>\n",
       "      <td>2018</td>\n",
       "      <td>122</td>\n",
       "      <td>Drama</td>\n",
       "      <td>The Other Side of the Wind</td>\n",
       "      <td>6.9</td>\n",
       "      <td>4989</td>\n",
       "      <td>NaN</td>\n",
       "      <td>NaN</td>\n",
       "      <td>NaN</td>\n",
       "      <td>02 Nov 2018</td>\n",
       "      <td>11.0</td>\n",
       "      <td>83.0</td>\n",
       "      <td>78.0</td>\n",
       "      <td>John Huston, Oja Kodar, Peter Bogdanovich, Sus...</td>\n",
       "      <td>Netflix</td>\n",
       "    </tr>\n",
       "    <tr>\n",
       "      <th>1</th>\n",
       "      <td>tt0339736</td>\n",
       "      <td>2017</td>\n",
       "      <td>98</td>\n",
       "      <td>Horror</td>\n",
       "      <td>The Evil Within</td>\n",
       "      <td>5.5</td>\n",
       "      <td>2572</td>\n",
       "      <td>$6000000</td>\n",
       "      <td>NaN</td>\n",
       "      <td>NaN</td>\n",
       "      <td>30 Aug 2017</td>\n",
       "      <td>8.0</td>\n",
       "      <td>100.0</td>\n",
       "      <td>NaN</td>\n",
       "      <td>Sean Patrick Flanery, Dina Meyer, Frederick Ko...</td>\n",
       "      <td>NaN</td>\n",
       "    </tr>\n",
       "    <tr>\n",
       "      <th>2</th>\n",
       "      <td>tt0360556</td>\n",
       "      <td>2018</td>\n",
       "      <td>100</td>\n",
       "      <td>Drama,Sci-Fi,Thriller</td>\n",
       "      <td>Fahrenheit 451</td>\n",
       "      <td>4.9</td>\n",
       "      <td>15295</td>\n",
       "      <td>NaN</td>\n",
       "      <td>NaN</td>\n",
       "      <td>NaN</td>\n",
       "      <td>20 May 2018</td>\n",
       "      <td>5.0</td>\n",
       "      <td>32.0</td>\n",
       "      <td>NaN</td>\n",
       "      <td>Michael B. Jordan, Aaron Davis, Cindy Katz, Mi...</td>\n",
       "      <td>HBO Films</td>\n",
       "    </tr>\n",
       "    <tr>\n",
       "      <th>3</th>\n",
       "      <td>tt0365545</td>\n",
       "      <td>2018</td>\n",
       "      <td>98</td>\n",
       "      <td>Comedy,Drama,Romance</td>\n",
       "      <td>Nappily Ever After</td>\n",
       "      <td>6.4</td>\n",
       "      <td>6718</td>\n",
       "      <td>NaN</td>\n",
       "      <td>NaN</td>\n",
       "      <td>NaN</td>\n",
       "      <td>21 Sep 2018</td>\n",
       "      <td>9.0</td>\n",
       "      <td>71.0</td>\n",
       "      <td>63.0</td>\n",
       "      <td>Sanaa Lathan, Ricky Whittle, Lyriq Bent, Lynn ...</td>\n",
       "      <td>Netflix</td>\n",
       "    </tr>\n",
       "    <tr>\n",
       "      <th>4</th>\n",
       "      <td>tt0369610</td>\n",
       "      <td>2015</td>\n",
       "      <td>124</td>\n",
       "      <td>Action,Adventure,Sci-Fi</td>\n",
       "      <td>Jurassic World</td>\n",
       "      <td>7.0</td>\n",
       "      <td>549806</td>\n",
       "      <td>$150000000</td>\n",
       "      <td>652.27</td>\n",
       "      <td>1670.4</td>\n",
       "      <td>12 Jun 2015</td>\n",
       "      <td>6.0</td>\n",
       "      <td>72.0</td>\n",
       "      <td>59.0</td>\n",
       "      <td>Chris Pratt, Bryce Dallas Howard, Irrfan Khan,...</td>\n",
       "      <td>Universal Pictures</td>\n",
       "    </tr>\n",
       "  </tbody>\n",
       "</table>\n",
       "</div>"
      ],
      "text/plain": [
       "    Title_ID  Release_Year  Runtime(Minutes)                    Genre  \\\n",
       "0  tt0069049          2018               122                    Drama   \n",
       "1  tt0339736          2017                98                   Horror   \n",
       "2  tt0360556          2018               100    Drama,Sci-Fi,Thriller   \n",
       "3  tt0365545          2018                98     Comedy,Drama,Romance   \n",
       "4  tt0369610          2015               124  Action,Adventure,Sci-Fi   \n",
       "\n",
       "                        Title  Rating  Number_of_Votes Budget(LCY)  \\\n",
       "0  The Other Side of the Wind     6.9             4989         NaN   \n",
       "1             The Evil Within     5.5             2572    $6000000   \n",
       "2              Fahrenheit 451     4.9            15295         NaN   \n",
       "3          Nappily Ever After     6.4             6718         NaN   \n",
       "4              Jurassic World     7.0           549806  $150000000   \n",
       "\n",
       "   USA_Gross($)  Worldwide_Gross($) Released_Date  Released_Month  \\\n",
       "0           NaN                 NaN   02 Nov 2018            11.0   \n",
       "1           NaN                 NaN   30 Aug 2017             8.0   \n",
       "2           NaN                 NaN   20 May 2018             5.0   \n",
       "3           NaN                 NaN   21 Sep 2018             9.0   \n",
       "4        652.27              1670.4   12 Jun 2015             6.0   \n",
       "\n",
       "   Rotten_Tomatoes  Metascore  \\\n",
       "0             83.0       78.0   \n",
       "1            100.0        NaN   \n",
       "2             32.0        NaN   \n",
       "3             71.0       63.0   \n",
       "4             72.0       59.0   \n",
       "\n",
       "                                              Actors          Production  \n",
       "0  John Huston, Oja Kodar, Peter Bogdanovich, Sus...             Netflix  \n",
       "1  Sean Patrick Flanery, Dina Meyer, Frederick Ko...                 NaN  \n",
       "2  Michael B. Jordan, Aaron Davis, Cindy Katz, Mi...           HBO Films  \n",
       "3  Sanaa Lathan, Ricky Whittle, Lyriq Bent, Lynn ...             Netflix  \n",
       "4  Chris Pratt, Bryce Dallas Howard, Irrfan Khan,...  Universal Pictures  "
      ]
     },
     "execution_count": 29,
     "metadata": {},
     "output_type": "execute_result"
    }
   ],
   "source": [
    "# Let's clean the data and rename columns so we know what we're looking \n",
    "\n",
    "columns=[\"tconst\",\"title\",\"isAdult\",\"startYear\",\"runtimeMinutes\",\"check\",\"averageRating\",\"genres\",\"numVotes\",\n",
    "         \"budget_LCY\",\"gross_USA_USD\",\"cumm_worldwide_gross_USD\",]\n",
    "names=[\"Title_ID\",\"Title\",\"Adult\",\"Release_Year\",\"Runtime(Minutes)\",\"Check\",\"Rating\",\"Genre\",\"Number_of_Votes\",\n",
    "      \"Budget(LCY)\",\"USA_Gross($)\",\"Worldwide_Gross($)\"]\n",
    "columns_to_drop=[\"titleType\",\"primaryTitle\",\"originalTitle\",\"endYear\",\"Adult\",\"Check\"]\n",
    "\n",
    "dc.full_clean(df, columns, names, columns_to_drop)\n",
    "\n",
    "# Save as csv\n",
    "# df.to_csv(\"Full_OMDB_Table.csv\",index=False)\n",
    "\n",
    "df.head()"
   ]
  },
  {
   "cell_type": "code",
   "execution_count": 17,
   "metadata": {},
   "outputs": [
    {
     "data": {
      "text/plain": [
       "Index(['Title_ID', 'Release_Year', 'Runtime(Minutes)', 'Genre', 'Title',\n",
       "       'Rating', 'Number_of_Votes', 'Budget(LCY)', 'USA_Gross($)',\n",
       "       'Worldwide_Gross($)', 'Released_Date', 'Released_Month',\n",
       "       'Rotten_Tomatoes', 'Metascore', 'Actors', 'Production'],\n",
       "      dtype='object')"
      ]
     },
     "execution_count": 17,
     "metadata": {},
     "output_type": "execute_result"
    }
   ],
   "source": [
    "df.columns"
   ]
  },
  {
   "cell_type": "code",
   "execution_count": 11,
   "metadata": {},
   "outputs": [
    {
     "name": "stdout",
     "output_type": "stream",
     "text": [
      "       Release_Year  Runtime(Minutes)       Rating  Number_of_Votes  \\\n",
      "count   2015.000000       2015.000000  2015.000000      2015.000000   \n",
      "mean    2016.715633        101.181141     5.920447     42005.702233   \n",
      "std        1.355422         15.783114     1.051272     91376.330598   \n",
      "min     2014.000000         46.000000     1.400000       984.000000   \n",
      "25%     2016.000000         90.000000     5.300000      2377.500000   \n",
      "50%     2017.000000         98.000000     6.000000      7601.000000   \n",
      "75%     2018.000000        109.000000     6.600000     36685.500000   \n",
      "max     2019.000000        209.000000    10.000000    844981.000000   \n",
      "\n",
      "       USA_Gross($)  Worldwide_Gross($)  Released_Month  Rotten_Tomatoes  \\\n",
      "count   1085.000000         1386.000000     2005.000000      1522.000000   \n",
      "mean      46.304341           91.579856        6.684788        55.818660   \n",
      "std       91.560188          225.040751        3.378692        28.335085   \n",
      "min        0.000000            0.000000        1.000000         0.000000   \n",
      "25%        0.650000            0.260000        4.000000        31.000000   \n",
      "50%       11.960000            7.230000        7.000000        59.000000   \n",
      "75%       49.950000           72.265000       10.000000        82.000000   \n",
      "max      936.660000         2797.800000       12.000000       100.000000   \n",
      "\n",
      "         Metascore  \n",
      "count  1461.000000  \n",
      "mean     53.517454  \n",
      "std      17.309092  \n",
      "min       3.000000  \n",
      "25%      41.000000  \n",
      "50%      54.000000  \n",
      "75%      66.000000  \n",
      "max      99.000000  \n",
      "<class 'pandas.core.frame.DataFrame'>\n",
      "RangeIndex: 2015 entries, 0 to 2014\n",
      "Data columns (total 16 columns):\n",
      "Title_ID              2015 non-null object\n",
      "Release_Year          2015 non-null int64\n",
      "Runtime(Minutes)      2015 non-null int64\n",
      "Genre                 2015 non-null object\n",
      "Title                 2015 non-null object\n",
      "Rating                2015 non-null float64\n",
      "Number_of_Votes       2015 non-null int64\n",
      "Budget(LCY)           1004 non-null object\n",
      "USA_Gross($)          1085 non-null float64\n",
      "Worldwide_Gross($)    1386 non-null float64\n",
      "Released_Date         2005 non-null object\n",
      "Released_Month        2005 non-null float64\n",
      "Rotten_Tomatoes       1522 non-null float64\n",
      "Metascore             1461 non-null float64\n",
      "Actors                2015 non-null object\n",
      "Production            1678 non-null object\n",
      "dtypes: float64(6), int64(3), object(7)\n",
      "memory usage: 252.0+ KB\n",
      "None\n",
      "(2015, 16)\n"
     ]
    }
   ],
   "source": [
    "# Now to check our data makes sense and we have no nulls\n",
    "print(df.describe())\n",
    "print(df.info())\n",
    "print(df.shape)"
   ]
  },
  {
   "cell_type": "markdown",
   "metadata": {},
   "source": [
    "## Subset our data to what we're interested in.\n",
    "Since we will be looking at genres we want to see what different genres we have and split these into different categories. We will also be interested in the production company -> IE Netflix"
   ]
  },
  {
   "cell_type": "code",
   "execution_count": 12,
   "metadata": {},
   "outputs": [
    {
     "data": {
      "text/plain": [
       "Index(['Title_ID', 'Release_Year', 'Runtime(Minutes)', 'Genre', 'Title',\n",
       "       'Rating', 'Number_of_Votes', 'Budget(LCY)', 'USA_Gross($)',\n",
       "       'Worldwide_Gross($)', 'Released_Date', 'Released_Month',\n",
       "       'Rotten_Tomatoes', 'Metascore', 'Actors', 'Production'],\n",
       "      dtype='object')"
      ]
     },
     "execution_count": 12,
     "metadata": {},
     "output_type": "execute_result"
    }
   ],
   "source": [
    "df.columns"
   ]
  },
  {
   "cell_type": "code",
   "execution_count": 29,
   "metadata": {},
   "outputs": [],
   "source": [
    "# Drop columns which contain nulls as they aren't relevant to ratings and also average our 3 ratings\n",
    "# We will drop rotten tomatoes scores as the user base is far smaller than imdb and will skew our results.\n",
    "# Metascore is also not comparable as these are not user based scores they are weighted critic reviews\n",
    "# We will compare the scores for each of these platforms in another section\n",
    "\n",
    "df_ratings=df.drop(columns=[\"Released_Month\",\"Released_Date\",\"Rotten_Tomatoes\",\"Metascore\"])\n"
   ]
  },
  {
   "cell_type": "code",
   "execution_count": 34,
   "metadata": {},
   "outputs": [
    {
     "name": "stdout",
     "output_type": "stream",
     "text": [
      "There are  112 Drama movies in this dataset\n",
      "There are  101 Comedy movies in this dataset\n",
      "There are  64  Horror movies in this dataset\n",
      "There are  7   Action movies in this dataset\n",
      "There are  4   Sci-Fi movies in this dataset\n",
      "There are  3   Romance movies in this dataset\n",
      "There are  0   Adventure movies in this dataset\n"
     ]
    }
   ],
   "source": [
    "# Now split into separate databases based on genre\n",
    "\n",
    "df_comedy=df_ratings.loc[df_ratings[\"Genre\"]==\"Comedy\",:]\n",
    "df_drama=df_ratings.loc[df_ratings[\"Genre\"]==\"Drama\",:]\n",
    "df_horror=df_ratings.loc[df_ratings[\"Genre\"]==\"Horror\",:]\n",
    "df_scifi=df_ratings.loc[df_ratings[\"Genre\"]==\"Sci-Fi\",:]\n",
    "df_action=df_ratings.loc[df_ratings[\"Genre\"]==\"Action\",:]\n",
    "df_romance=df_ratings.loc[df_ratings[\"Genre\"]==\"Romance\",:]\n",
    "df_adventure=df_ratings.loc[df_ratings[\"Genre\"]==\"Adventure\",:]\n",
    "\n",
    "\n",
    "# Print shape of dataframe so we know the sample sizes\n",
    "\n",
    "print(\"There are \",len(df_drama),\"Drama movies in this dataset\")\n",
    "print(\"There are \",len(df_comedy),\"Comedy movies in this dataset\")\n",
    "print(\"There are \",len(df_horror),\" Horror movies in this dataset\")\n",
    "print(\"There are \",len(df_action),\"  Action movies in this dataset\")\n",
    "print(\"There are \",len(df_scifi),\"  Sci-Fi movies in this dataset\")\n",
    "print(\"There are \",len(df_romance),\"  Romance movies in this dataset\")\n",
    "print(\"There are \",len(df_adventure),\"  Adventure movies in this dataset\")\n"
   ]
  },
  {
   "cell_type": "markdown",
   "metadata": {},
   "source": [
    "## Now we need to plot our data to check for normality"
   ]
  },
  {
   "cell_type": "code",
   "execution_count": 35,
   "metadata": {},
   "outputs": [
    {
     "name": "stderr",
     "output_type": "stream",
     "text": [
      "/Users/flatironschool/anaconda3/envs/learn-env/lib/python3.6/site-packages/scipy/stats/stats.py:1713: FutureWarning: Using a non-tuple sequence for multidimensional indexing is deprecated; use `arr[tuple(seq)]` instead of `arr[seq]`. In the future this will be interpreted as an array index, `arr[np.array(seq)]`, which will result either in an error or a different result.\n",
      "  return np.add.reduce(sorted[indexer] * weights, axis=axis) / sumval\n"
     ]
    },
    {
     "data": {
      "text/plain": [
       "<matplotlib.axes._subplots.AxesSubplot at 0x1a243bad30>"
      ]
     },
     "execution_count": 35,
     "metadata": {},
     "output_type": "execute_result"
    },
    {
     "data": {
      "image/png": "[encoded data removed]",
      "text/plain": [
       "<Figure size 432x288 with 1 Axes>"
      ]
     },
     "metadata": {
      "needs_background": "light"
     },
     "output_type": "display_data"
    }
   ],
   "source": [
    "# Remove our sample set from the population so it doesn't skew our mean and plot against each other.\n",
    "\n",
    "df_no_drama=df_ratings.loc[df_ratings[\"Genre\"]!=\"Drama\",:]\n",
    "\n",
    "sns.distplot(df_no_drama.Rating)\n",
    "sns.distplot(df_drama.Rating)\n",
    "\n",
    "# sns.distplot(df_comedy.Rating)\n",
    "# sns.distplot(df_horror.Rating)\n",
    "# sns.distplot(df_scifi.Rating)\n",
    "# sns.distplot(df_action.Rating)\n",
    "# sns.distplot(df_romance.Rating)"
   ]
  },
  {
   "cell_type": "code",
   "execution_count": 39,
   "metadata": {},
   "outputs": [
    {
     "name": "stdout",
     "output_type": "stream",
     "text": [
      "For the population the standard deviation is: 1.055  with a median value of: 6.0  and a mean value of: 5.92\n",
      "For Drama the standard deviation is: 0.917  with a median value of: 6.4  and a mean value of: 6.292\n"
     ]
    }
   ],
   "source": [
    "print(\"For the population the standard deviation is:\",round(df_no_drama.Rating.std(),3),\" with a median value of:\",round(df_no_drama.Rating.median(),3),\" and a mean value of:\",round(df.Rating.mean(),3))\n",
    "print(\"For Drama the standard deviation is:\",round(df_drama.Rating.std(),3),\" with a median value of:\",round(df_drama.Rating.median(),3),\" and a mean value of:\",round(df_drama.Rating.mean(),3))"
   ]
  },
  {
   "cell_type": "code",
   "execution_count": 40,
   "metadata": {},
   "outputs": [
    {
     "name": "stdout",
     "output_type": "stream",
     "text": [
      "The drama movies sample set is not normal given:  NormaltestResult(statistic=15.285855141424646, pvalue=0.00047942285126625054) \n",
      " It has  112  values.\n",
      "The rest of the data is not normal given:  NormaltestResult(statistic=58.066922240332374, pvalue=2.459959997803095e-13) \n",
      " It has  1903  values.\n"
     ]
    }
   ],
   "source": [
    "print(\"The drama movies sample set is not normal given: \",st.normaltest(df_drama.Rating),\"\\n It has \",len(df_drama),\" values.\")\n",
    "print(\"The rest of the data is not normal given: \",st.normaltest(df_no_drama.Rating),\"\\n It has \",len(df_no_drama),\" values.\")"
   ]
  },
  {
   "cell_type": "markdown",
   "metadata": {},
   "source": [
    "## Improve our data set such that it is normal and we can perform our tests!"
   ]
  },
  {
   "cell_type": "code",
   "execution_count": 47,
   "metadata": {},
   "outputs": [],
   "source": [
    "# Can we perform an ANOVA on our data for 3 main title types to see if statistically different?\n",
    "# sample sizes vary between all genres so choosing the top 3 and will take n=50 random sample\n",
    "\n",
    "comedy=df_comedy.Rating.sample(n=50)\n",
    "drama=df_drama.Rating.sample(n=50)\n",
    "horror=df_horror.Rating.sample(n=50)\n",
    "\n",
    "# Concat tables together to plot boxplots on same graph\n",
    "df_cdh=df_ratings.loc[((df_ratings[\"Genre\"]==\"Comedy\")|(df_ratings[\"Genre\"]==\"Drama\")|(df_ratings[\"Genre\"]==\"Horror\")),:]"
   ]
  },
  {
   "cell_type": "markdown",
   "metadata": {},
   "source": [
    "### Plotting our normalised distributions"
   ]
  },
  {
   "cell_type": "code",
   "execution_count": 48,
   "metadata": {},
   "outputs": [
    {
     "name": "stderr",
     "output_type": "stream",
     "text": [
      "/Users/flatironschool/anaconda3/envs/learn-env/lib/python3.6/site-packages/scipy/stats/stats.py:1713: FutureWarning: Using a non-tuple sequence for multidimensional indexing is deprecated; use `arr[tuple(seq)]` instead of `arr[seq]`. In the future this will be interpreted as an array index, `arr[np.array(seq)]`, which will result either in an error or a different result.\n",
      "  return np.add.reduce(sorted[indexer] * weights, axis=axis) / sumval\n"
     ]
    },
    {
     "data": {
      "text/plain": [
       "<matplotlib.axes._subplots.AxesSubplot at 0x1a245030f0>"
      ]
     },
     "execution_count": 48,
     "metadata": {},
     "output_type": "execute_result"
    },
    {
     "data": {
      "image/png": "[encoded data removed]",
      "text/plain": [
       "<Figure size 576x396 with 1 Axes>"
      ]
     },
     "metadata": {},
     "output_type": "display_data"
    }
   ],
   "source": [
    "sns.distplot(comedy)   # Blue\n",
    "sns.distplot(drama)    # Green\n",
    "sns.distplot(horror)   # Red"
   ]
  },
  {
   "cell_type": "markdown",
   "metadata": {},
   "source": [
    "### Check for normality in our concatenated table"
   ]
  },
  {
   "cell_type": "code",
   "execution_count": 49,
   "metadata": {},
   "outputs": [
    {
     "name": "stderr",
     "output_type": "stream",
     "text": [
      "/Users/flatironschool/anaconda3/envs/learn-env/lib/python3.6/site-packages/scipy/stats/stats.py:1713: FutureWarning: Using a non-tuple sequence for multidimensional indexing is deprecated; use `arr[tuple(seq)]` instead of `arr[seq]`. In the future this will be interpreted as an array index, `arr[np.array(seq)]`, which will result either in an error or a different result.\n",
      "  return np.add.reduce(sorted[indexer] * weights, axis=axis) / sumval\n"
     ]
    },
    {
     "name": "stdout",
     "output_type": "stream",
     "text": [
      "NormaltestResult(statistic=6.05835527266188, pvalue=0.04835538749348774)\n"
     ]
    },
    {
     "data": {
      "image/png": "[encoded data removed]",
      "text/plain": [
       "<Figure size 576x396 with 1 Axes>"
      ]
     },
     "metadata": {},
     "output_type": "display_data"
    }
   ],
   "source": [
    "sns.distplot(df_cdh.Rating)\n",
    "print(st.normaltest(df_cdh.Rating))"
   ]
  },
  {
   "cell_type": "markdown",
   "metadata": {},
   "source": [
    "### Not normal so will normalise and re-plot"
   ]
  },
  {
   "cell_type": "code",
   "execution_count": 3,
   "metadata": {},
   "outputs": [
    {
     "ename": "NameError",
     "evalue": "name 'ht' is not defined",
     "output_type": "error",
     "traceback": [
      "\u001b[0;31m---------------------------------------------------------------------------\u001b[0m",
      "\u001b[0;31mNameError\u001b[0m                                 Traceback (most recent call last)",
      "\u001b[0;32m<ipython-input-3-41601413eb87>\u001b[0m in \u001b[0;36m<module>\u001b[0;34m()\u001b[0m\n\u001b[0;32m----> 1\u001b[0;31m \u001b[0mcdh_normal\u001b[0m\u001b[0;34m=\u001b[0m\u001b[0mht\u001b[0m\u001b[0;34m.\u001b[0m\u001b[0mcreate_sample_distribution\u001b[0m\u001b[0;34m(\u001b[0m\u001b[0mdf_cdh\u001b[0m\u001b[0;34m.\u001b[0m\u001b[0mRating\u001b[0m\u001b[0;34m,\u001b[0m\u001b[0;36m300\u001b[0m\u001b[0;34m,\u001b[0m\u001b[0mn\u001b[0m\u001b[0;34m=\u001b[0m\u001b[0;36m15\u001b[0m\u001b[0;34m)\u001b[0m\u001b[0;34m\u001b[0m\u001b[0m\n\u001b[0m\u001b[1;32m      2\u001b[0m \u001b[0msns\u001b[0m\u001b[0;34m.\u001b[0m\u001b[0mdistplot\u001b[0m\u001b[0;34m(\u001b[0m\u001b[0mcdh_normal\u001b[0m\u001b[0;34m)\u001b[0m\u001b[0;34m\u001b[0m\u001b[0m\n\u001b[1;32m      3\u001b[0m \u001b[0mprint\u001b[0m\u001b[0;34m(\u001b[0m\u001b[0mst\u001b[0m\u001b[0;34m.\u001b[0m\u001b[0mnormaltest\u001b[0m\u001b[0;34m(\u001b[0m\u001b[0mcdh_normal\u001b[0m\u001b[0;34m)\u001b[0m\u001b[0;34m)\u001b[0m\u001b[0;34m\u001b[0m\u001b[0m\n",
      "\u001b[0;31mNameError\u001b[0m: name 'ht' is not defined"
     ]
    }
   ],
   "source": [
    "cdh_normal=ht.create_sample_distribution(df_cdh.Rating,300,n=15)\n",
    "sns.distplot(cdh_normal)\n",
    "print(st.normaltest(cdh_normal))"
   ]
  },
  {
   "cell_type": "code",
   "execution_count": 41,
   "metadata": {},
   "outputs": [
    {
     "name": "stdout",
     "output_type": "stream",
     "text": [
      "NormaltestResult(statistic=0.43102232230149196, pvalue=0.8061292728775716)\n"
     ]
    },
    {
     "name": "stderr",
     "output_type": "stream",
     "text": [
      "/Users/flatironschool/anaconda3/envs/learn-env/lib/python3.6/site-packages/scipy/stats/stats.py:1713: FutureWarning: Using a non-tuple sequence for multidimensional indexing is deprecated; use `arr[tuple(seq)]` instead of `arr[seq]`. In the future this will be interpreted as an array index, `arr[np.array(seq)]`, which will result either in an error or a different result.\n",
      "  return np.add.reduce(sorted[indexer] * weights, axis=axis) / sumval\n"
     ]
    },
    {
     "data": {
      "image/png": "[encoded data removed]",
      "text/plain": [
       "<Figure size 432x288 with 1 Axes>"
      ]
     },
     "metadata": {
      "needs_background": "light"
     },
     "output_type": "display_data"
    }
   ],
   "source": [
    "drama_normal=ht.create_sample_distribution(df_drama.Rating,300,n=15)\n",
    "sns.distplot(drama_normal)\n",
    "print(st.normaltest(drama_normal))"
   ]
  },
  {
   "cell_type": "code",
   "execution_count": 42,
   "metadata": {},
   "outputs": [
    {
     "name": "stdout",
     "output_type": "stream",
     "text": [
      "NormaltestResult(statistic=1.02446147076803, pvalue=0.599157525053464)\n"
     ]
    },
    {
     "name": "stderr",
     "output_type": "stream",
     "text": [
      "/Users/flatironschool/anaconda3/envs/learn-env/lib/python3.6/site-packages/scipy/stats/stats.py:1713: FutureWarning: Using a non-tuple sequence for multidimensional indexing is deprecated; use `arr[tuple(seq)]` instead of `arr[seq]`. In the future this will be interpreted as an array index, `arr[np.array(seq)]`, which will result either in an error or a different result.\n",
      "  return np.add.reduce(sorted[indexer] * weights, axis=axis) / sumval\n"
     ]
    },
    {
     "data": {
      "image/png": "[encoded data removed]",
      "text/plain": [
       "<Figure size 432x288 with 1 Axes>"
      ]
     },
     "metadata": {
      "needs_background": "light"
     },
     "output_type": "display_data"
    }
   ],
   "source": [
    "no_drama_normal=ht.create_sample_distribution(df_no_drama.Rating,300,n=15)\n",
    "sns.distplot(no_drama_normal)\n",
    "print(st.normaltest(no_drama_normal))"
   ]
  },
  {
   "cell_type": "code",
   "execution_count": 44,
   "metadata": {},
   "outputs": [
    {
     "name": "stdout",
     "output_type": "stream",
     "text": [
      "For the population the standard deviation is: 0.261  with a median value of: 5.927  and a mean value of: 5.909\n",
      "For Drama the standard deviation is: 0.235  with a median value of: 6.3  and a mean value of: 6.3\n"
     ]
    }
   ],
   "source": [
    "print(\"For the population the standard deviation is:\",round(statistics.pstdev(no_drama_normal),3),\" with a median value of:\",round(statistics.median(no_drama_normal),3),\" and a mean value of:\",round(statistics.mean(no_drama_normal),3))\n",
    "\n",
    "print(\"For Drama the standard deviation is:\",round(statistics.stdev(drama_normal),3),\" with a median value of:\",round(statistics.median(drama_normal),3),\" and a mean value of:\",round(statistics.mean(drama_normal),3))\n"
   ]
  },
  {
   "cell_type": "markdown",
   "metadata": {},
   "source": [
    "## Does the rating of each genre differ from each other?\n",
    "### What is the best genre to choose to maximise rating?\n",
    "\n",
    "In this section we will perform a simple one-way ANOVA just to see if our main 3 genres difference in rankings is statistically significant. From this and the accompanying visualization, we will then see if Drama (our highest ranking genre) garners a higher rating than the average movie (IE compared to the population of all genres other than Drama). The reason for this approach is so we can see which genre would be best to make a movie for.\n",
    "\n",
    "Our hypothesis is that there will be a signifcant difference between genres and that drama will be the best performing, such that the rating of drama films is higher than the average rating for the population.\n",
    "Our Null is that there is no difference."
   ]
  },
  {
   "cell_type": "markdown",
   "metadata": {},
   "source": [
    "### Performing a simple one-way ANOVA for our 3 main genres...\n",
    "The aim of this is to see whether the difference in ratings between genres is signifcantly different.\n",
    "If so, we will we be interested in to see the how drama performs against the population. We will not perform ad-hoc comparisons between genres as we are not interested in which specific combinations are signifcant but rather just interested in seeing if any observed difference is real."
   ]
  },
  {
   "cell_type": "code",
   "execution_count": 50,
   "metadata": {},
   "outputs": [
    {
     "data": {
      "text/plain": [
       "<matplotlib.axes._subplots.AxesSubplot at 0x1a24856208>"
      ]
     },
     "execution_count": 50,
     "metadata": {},
     "output_type": "execute_result"
    },
    {
     "data": {
      "image/png": "[encoded data removed]",
      "text/plain": [
       "<Figure size 576x396 with 1 Axes>"
      ]
     },
     "metadata": {},
     "output_type": "display_data"
    }
   ],
   "source": [
    "# Let's plot the different sample sizes to observe the variance and mean values\n",
    "\n",
    "sns.boxplot(data=df_cdh,y=\"Rating\",x=\"Genre\")"
   ]
  },
  {
   "cell_type": "code",
   "execution_count": 79,
   "metadata": {},
   "outputs": [
    {
     "data": {
      "text/plain": [
       "'We reject the null as our p-value (1.2067323535983743e-08) is less than our alpha (0.05) so we can say this result is signifcant.'"
      ]
     },
     "execution_count": 79,
     "metadata": {},
     "output_type": "execute_result"
    }
   ],
   "source": [
    "# Now perform a on-way ANOVA test for these random samples\n",
    "\n",
    "anova=scipy.stats.f_oneway(comedy,drama,horror)     # Very small P-value and large F -> signifcant difference between genres\n",
    "\n",
    "ht.significance(anova[1],alpha)"
   ]
  },
  {
   "cell_type": "markdown",
   "metadata": {},
   "source": [
    "We can see the above genres are statistically different from each other, so genres definitely affect the rating. As drama has the highest rating, we now want to know if it statistically different from the population, thereby saying drama films do garner a better rating, and can advise which is the genre most likely to be a success."
   ]
  },
  {
   "cell_type": "markdown",
   "metadata": {},
   "source": [
    "## One sample z-test for Drama movies against the population."
   ]
  },
  {
   "cell_type": "code",
   "execution_count": 43,
   "metadata": {},
   "outputs": [
    {
     "name": "stderr",
     "output_type": "stream",
     "text": [
      "/Users/flatironschool/anaconda3/envs/learn-env/lib/python3.6/site-packages/scipy/stats/stats.py:1713: FutureWarning: Using a non-tuple sequence for multidimensional indexing is deprecated; use `arr[tuple(seq)]` instead of `arr[seq]`. In the future this will be interpreted as an array index, `arr[np.array(seq)]`, which will result either in an error or a different result.\n",
      "  return np.add.reduce(sorted[indexer] * weights, axis=axis) / sumval\n"
     ]
    },
    {
     "data": {
      "image/png": "[encoded data removed]",
      "text/plain": [
       "<Figure size 432x288 with 1 Axes>"
      ]
     },
     "metadata": {
      "needs_background": "light"
     },
     "output_type": "display_data"
    }
   ],
   "source": [
    "a = sns.distplot(no_drama_normal,label=\"Population\").set_title(\"Drama Movies vs. Population\").get_figure().savefig(\"Drama_vs_Popluation.png\")\n",
    "b = sns.distplot(drama_normal,label=\"Drama\")\n",
    "plt.xlabel(\"Film Rating\")\n",
    "plt.ylabel(\"Frequency\")\n",
    "plt.legend()\n",
    "plt.show()"
   ]
  },
  {
   "cell_type": "code",
   "execution_count": 64,
   "metadata": {},
   "outputs": [
    {
     "name": "stdout",
     "output_type": "stream",
     "text": [
      "The z-statistic is 25.968, which corresponds to a p-value of 0.0.\n",
      "The effect size, cohen's d = 1.575.\n",
      "From this we Reject the null hypothesis\n"
     ]
    }
   ],
   "source": [
    "alpha =  0.05                                   # The alpha value - likelihood to avoid a Type 1 error\n",
    "\n",
    "ht.z_test(drama_normal, no_drama_normal, alpha)               # Using the z-test from our library"
   ]
  },
  {
   "cell_type": "markdown",
   "metadata": {},
   "source": [
    "Therefore the difference in rating between Drama and the population is significant with a large effect size!"
   ]
  },
  {
   "cell_type": "code",
   "execution_count": 46,
   "metadata": {},
   "outputs": [
    {
     "data": {
      "image/png": "[encoded data removed]",
      "text/plain": [
       "<Figure size 576x396 with 1 Axes>"
      ]
     },
     "metadata": {},
     "output_type": "display_data"
    }
   ],
   "source": [
    "# Visualize the difference\n",
    "\n",
    "plt.style.use('seaborn')\n",
    "plt.fill_between(x=np.arange(-5,3.92,0.01),\n",
    "                 y1= st.norm.pdf(np.arange(-5,3.92,0.01)),\n",
    "                 facecolor='green',\n",
    "                 alpha=0.35,\n",
    "                 label= 'Area below z-statistic'\n",
    "                 )\n",
    "\n",
    "plt.fill_between(x=np.arange(3.92,5,0.01), \n",
    "                 y1= st.norm.pdf(np.arange(3.92,5,0.01)),\n",
    "                 facecolor='blue',\n",
    "                 alpha=0.35, \n",
    "                 label= 'Area above z-statistic')\n",
    "plt.legend()\n",
    "plt.title ('z-statistic = 3.92');"
   ]
  },
  {
   "cell_type": "markdown",
   "metadata": {},
   "source": [
    "## How do Netflix films compare to the population?\n",
    "In this section we will use a Welch's T-Test as our variance in the Netflix subset and population do not have equal variance (as are not uniform) so this test will be more appropriate without having to normalise our dataset as we did previously. \n",
    "\n",
    "Our hypothesis is that Netflix films will perform better or worse than the population - IE they will differ in rating.\n",
    "Our null is that there is no difference between Netflix films and the population."
   ]
  },
  {
   "cell_type": "code",
   "execution_count": 66,
   "metadata": {},
   "outputs": [
    {
     "name": "stdout",
     "output_type": "stream",
     "text": [
      "Netflix has  122  films in total.\n",
      "Netflix has  10   Drama films.\n"
     ]
    }
   ],
   "source": [
    "# How many films does Netflix have here and how many are drama?\n",
    "print(\"Netflix has \",len(df_ratings.loc[df_ratings[\"Production\"]==\"Netflix\",:]),\" films in total.\")\n",
    "print(\"Netflix has \",len(df_ratings.loc[(df_ratings[\"Production\"]==\"Netflix\")&(df_ratings[\"Genre\"]==\"Drama\"),:]),\"  Drama films.\")"
   ]
  },
  {
   "cell_type": "code",
   "execution_count": 67,
   "metadata": {},
   "outputs": [
    {
     "name": "stdout",
     "output_type": "stream",
     "text": [
      "<class 'pandas.core.frame.DataFrame'>\n",
      "RangeIndex: 2015 entries, 0 to 2014\n",
      "Data columns (total 12 columns):\n",
      "Title_ID              2015 non-null object\n",
      "Release_Year          2015 non-null int64\n",
      "Runtime(Minutes)      2015 non-null int64\n",
      "Genre                 2015 non-null object\n",
      "Title                 2015 non-null object\n",
      "Rating                2015 non-null float64\n",
      "Number_of_Votes       2015 non-null int64\n",
      "Budget(LCY)           1004 non-null object\n",
      "USA_Gross($)          1085 non-null float64\n",
      "Worldwide_Gross($)    1386 non-null float64\n",
      "Actors                2015 non-null object\n",
      "Production            1678 non-null object\n",
      "dtypes: float64(3), int64(3), object(6)\n",
      "memory usage: 189.0+ KB\n"
     ]
    },
    {
     "data": {
      "text/plain": [
       "Index(['Title_ID', 'Release_Year', 'Runtime(Minutes)', 'Genre', 'Title',\n",
       "       'Rating', 'Number_of_Votes', 'Budget(LCY)', 'USA_Gross($)',\n",
       "       'Worldwide_Gross($)', 'Actors', 'Production'],\n",
       "      dtype='object')"
      ]
     },
     "execution_count": 67,
     "metadata": {},
     "output_type": "execute_result"
    }
   ],
   "source": [
    "df_ratings.info()\n",
    "df_ratings.columns"
   ]
  },
  {
   "cell_type": "code",
   "execution_count": 67,
   "metadata": {},
   "outputs": [],
   "source": [
    "df_netflix = df_ratings.loc[df_ratings[\"Production\"]==\"Netflix\",:]\n",
    "df_rest    = df_ratings.loc[df_ratings[\"Production\"]!=\"Netflix\",:]"
   ]
  },
  {
   "cell_type": "code",
   "execution_count": 68,
   "metadata": {},
   "outputs": [
    {
     "name": "stderr",
     "output_type": "stream",
     "text": [
      "/Users/flatironschool/anaconda3/envs/learn-env/lib/python3.6/site-packages/scipy/stats/stats.py:1713: FutureWarning: Using a non-tuple sequence for multidimensional indexing is deprecated; use `arr[tuple(seq)]` instead of `arr[seq]`. In the future this will be interpreted as an array index, `arr[np.array(seq)]`, which will result either in an error or a different result.\n",
      "  return np.add.reduce(sorted[indexer] * weights, axis=axis) / sumval\n"
     ]
    },
    {
     "data": {
      "text/plain": [
       "<matplotlib.axes._subplots.AxesSubplot at 0x1a237616d8>"
      ]
     },
     "execution_count": 68,
     "metadata": {},
     "output_type": "execute_result"
    },
    {
     "data": {
      "image/png": "[encoded data removed]",
      "text/plain": [
       "<Figure size 576x396 with 1 Axes>"
      ]
     },
     "metadata": {},
     "output_type": "display_data"
    }
   ],
   "source": [
    "sns.distplot(df_netflix.Rating)\n",
    "sns.distplot(df_rest.Rating)"
   ]
  },
  {
   "cell_type": "code",
   "execution_count": 69,
   "metadata": {},
   "outputs": [
    {
     "name": "stdout",
     "output_type": "stream",
     "text": [
      "1.0629724003438397 5.911251980982567\n",
      "0.8400315637194714 6.06311475409836\n"
     ]
    }
   ],
   "source": [
    "print(df_rest.Rating.std(),df_rest.Rating.mean())\n",
    "print(df_netflix.Rating.std(),df_netflix.Rating.mean())\n"
   ]
  },
  {
   "cell_type": "code",
   "execution_count": 70,
   "metadata": {},
   "outputs": [
    {
     "name": "stdout",
     "output_type": "stream",
     "text": [
      "NormaltestResult(statistic=0.19956478582927786, pvalue=0.9050343384940904)\n"
     ]
    },
    {
     "name": "stderr",
     "output_type": "stream",
     "text": [
      "/Users/flatironschool/anaconda3/envs/learn-env/lib/python3.6/site-packages/scipy/stats/stats.py:1713: FutureWarning: Using a non-tuple sequence for multidimensional indexing is deprecated; use `arr[tuple(seq)]` instead of `arr[seq]`. In the future this will be interpreted as an array index, `arr[np.array(seq)]`, which will result either in an error or a different result.\n",
      "  return np.add.reduce(sorted[indexer] * weights, axis=axis) / sumval\n"
     ]
    },
    {
     "data": {
      "image/png": "[encoded data removed]",
      "text/plain": [
       "<Figure size 576x396 with 1 Axes>"
      ]
     },
     "metadata": {},
     "output_type": "display_data"
    }
   ],
   "source": [
    "netflix_normal=ht.create_sample_distribution(df_netflix.Rating,100,n=10)\n",
    "sns.distplot(netflix_normal)\n",
    "print(st.normaltest(netflix_normal))"
   ]
  },
  {
   "cell_type": "code",
   "execution_count": 71,
   "metadata": {},
   "outputs": [
    {
     "name": "stdout",
     "output_type": "stream",
     "text": [
      "NormaltestResult(statistic=0.03035306754413554, pvalue=0.9849380494256516)\n"
     ]
    },
    {
     "name": "stderr",
     "output_type": "stream",
     "text": [
      "/Users/flatironschool/anaconda3/envs/learn-env/lib/python3.6/site-packages/scipy/stats/stats.py:1713: FutureWarning: Using a non-tuple sequence for multidimensional indexing is deprecated; use `arr[tuple(seq)]` instead of `arr[seq]`. In the future this will be interpreted as an array index, `arr[np.array(seq)]`, which will result either in an error or a different result.\n",
      "  return np.add.reduce(sorted[indexer] * weights, axis=axis) / sumval\n"
     ]
    },
    {
     "data": {
      "image/png": "[encoded data removed]",
      "text/plain": [
       "<Figure size 576x396 with 1 Axes>"
      ]
     },
     "metadata": {},
     "output_type": "display_data"
    }
   ],
   "source": [
    "rest_normal=ht.create_sample_distribution(df_rest.Rating,100,n=10)\n",
    "sns.distplot(rest_normal)\n",
    "print(st.normaltest(rest_normal))"
   ]
  },
  {
   "cell_type": "code",
   "execution_count": 72,
   "metadata": {},
   "outputs": [
    {
     "name": "stderr",
     "output_type": "stream",
     "text": [
      "/Users/flatironschool/anaconda3/envs/learn-env/lib/python3.6/site-packages/scipy/stats/stats.py:1713: FutureWarning: Using a non-tuple sequence for multidimensional indexing is deprecated; use `arr[tuple(seq)]` instead of `arr[seq]`. In the future this will be interpreted as an array index, `arr[np.array(seq)]`, which will result either in an error or a different result.\n",
      "  return np.add.reduce(sorted[indexer] * weights, axis=axis) / sumval\n"
     ]
    },
    {
     "data": {
      "image/png": "[encoded data removed]",
      "text/plain": [
       "<Figure size 576x396 with 1 Axes>"
      ]
     },
     "metadata": {},
     "output_type": "display_data"
    }
   ],
   "source": [
    "a=sns.distplot(rest_normal,label=\"Population\").set_title(\"Netflix Movies vs. Population\").get_figure().savefig(\"Netflix_vs_Popluation.png\")\n",
    "b=sns.distplot(netflix_normal,label=\"Netflix\")\n",
    "plt.xlabel(\"Rating\")\n",
    "plt.ylabel(\"Frequency\")\n",
    "plt.legend()\n",
    "plt.show()\n",
    "\n"
   ]
  },
  {
   "cell_type": "code",
   "execution_count": 73,
   "metadata": {},
   "outputs": [
    {
     "name": "stdout",
     "output_type": "stream",
     "text": [
      "100\n"
     ]
    },
    {
     "data": {
      "text/plain": [
       "100"
      ]
     },
     "execution_count": 73,
     "metadata": {},
     "output_type": "execute_result"
    }
   ],
   "source": [
    "print(len(rest_normal))\n",
    "len(netflix_normal)"
   ]
  },
  {
   "cell_type": "markdown",
   "metadata": {},
   "source": [
    "### Perform simple z-test\n",
    "As we have normalized our sample sets here, and they both have the same sample size, we can perform a z-test."
   ]
  },
  {
   "cell_type": "code",
   "execution_count": 80,
   "metadata": {},
   "outputs": [
    {
     "name": "stdout",
     "output_type": "stream",
     "text": [
      "The z-statistic is 5.315, which corresponds to a p-value of 5.3367447905294796e-08.\n",
      "The effect size, cohen's d = 0.569.\n",
      "From this we Reject the null hypothesis\n"
     ]
    }
   ],
   "source": [
    "z_netflix = ht.z_test(netflix_normal,rest_normal,alpha)       \n",
    "z_netflix"
   ]
  },
  {
   "cell_type": "markdown",
   "metadata": {},
   "source": [
    "### Perform Welch's T-Test\n",
    "If we do not want to use our normlized data, perhaps for better accuracy as this method uses the true distribution, we can use a Welch's T-test which accounts for non-uniformity and different sample sizes. "
   ]
  },
  {
   "cell_type": "code",
   "execution_count": 82,
   "metadata": {},
   "outputs": [
    {
     "name": "stdout",
     "output_type": "stream",
     "text": [
      "This gives us a t-statistic of 1.901, and a corresponding p-value of 0.059\n"
     ]
    },
    {
     "data": {
      "text/plain": [
       "'Fail to reject the null as our p-value (0.059) is greater than our alpha (0.05) so the result is not signifcant.'"
      ]
     },
     "execution_count": 82,
     "metadata": {},
     "output_type": "execute_result"
    }
   ],
   "source": [
    "# We can perform a welchs t-test in one line using scipy.stats\n",
    "\n",
    "t_stat, p_value = st.ttest_ind(df_netflix.Rating, df_rest.Rating, equal_var=False)\n",
    "\n",
    "print(f\"This gives us a t-statistic of {round(t_stat,3)}, and a corresponding p-value of {round(p_value,3)}\")\n",
    "\n",
    "ht.significance(p_value,alpha)\n"
   ]
  },
  {
   "cell_type": "markdown",
   "metadata": {},
   "source": [
    "### Is it more profitable to release movies during the winter months in the US?\n",
    "\n",
    "Test is focused on last 5 years English movies released in the US taken from IMDB.  Profitability will be measured using the budget (proxy for overall production cost converted into USD) and gross US revenue (not worldwide revenue as focus is revenue during the winter) scraped from each of the movie IMDB webpages. t-test will be performed on the mean profits of winter (Dec, Jan, Feb) and summer (Jun, Jul, Aug) movies.\n",
    "\n",
    "#### Perform EDA on  the data taken from IMDB.  Check for null values and outliers."
   ]
  },
  {
   "cell_type": "code",
   "execution_count": 5,
   "metadata": {},
   "outputs": [
    {
     "data": {
      "text/html": [
       "<div>\n",
       "<style scoped>\n",
       "    .dataframe tbody tr th:only-of-type {\n",
       "        vertical-align: middle;\n",
       "    }\n",
       "\n",
       "    .dataframe tbody tr th {\n",
       "        vertical-align: top;\n",
       "    }\n",
       "\n",
       "    .dataframe thead th {\n",
       "        text-align: right;\n",
       "    }\n",
       "</style>\n",
       "<table border=\"1\" class=\"dataframe\">\n",
       "  <thead>\n",
       "    <tr style=\"text-align: right;\">\n",
       "      <th></th>\n",
       "      <th>Title_ID</th>\n",
       "      <th>Release_Year</th>\n",
       "      <th>Released_Month</th>\n",
       "      <th>Title</th>\n",
       "      <th>Genre</th>\n",
       "      <th>Production</th>\n",
       "      <th>Budget(LCY)</th>\n",
       "      <th>USA_Gross($)</th>\n",
       "      <th>Worldwide_Gross($)</th>\n",
       "    </tr>\n",
       "  </thead>\n",
       "  <tbody>\n",
       "    <tr>\n",
       "      <td>0</td>\n",
       "      <td>tt0069049</td>\n",
       "      <td>2018</td>\n",
       "      <td>11.0</td>\n",
       "      <td>The Other Side of the Wind</td>\n",
       "      <td>Drama</td>\n",
       "      <td>Netflix</td>\n",
       "      <td>NaN</td>\n",
       "      <td>NaN</td>\n",
       "      <td>NaN</td>\n",
       "    </tr>\n",
       "    <tr>\n",
       "      <td>1</td>\n",
       "      <td>tt0339736</td>\n",
       "      <td>2017</td>\n",
       "      <td>8.0</td>\n",
       "      <td>The Evil Within</td>\n",
       "      <td>Horror</td>\n",
       "      <td>NaN</td>\n",
       "      <td>$6000000</td>\n",
       "      <td>NaN</td>\n",
       "      <td>NaN</td>\n",
       "    </tr>\n",
       "    <tr>\n",
       "      <td>2</td>\n",
       "      <td>tt0360556</td>\n",
       "      <td>2018</td>\n",
       "      <td>5.0</td>\n",
       "      <td>Fahrenheit 451</td>\n",
       "      <td>Drama,Sci-Fi,Thriller</td>\n",
       "      <td>HBO Films</td>\n",
       "      <td>NaN</td>\n",
       "      <td>NaN</td>\n",
       "      <td>NaN</td>\n",
       "    </tr>\n",
       "    <tr>\n",
       "      <td>3</td>\n",
       "      <td>tt0365545</td>\n",
       "      <td>2018</td>\n",
       "      <td>9.0</td>\n",
       "      <td>Nappily Ever After</td>\n",
       "      <td>Comedy,Drama,Romance</td>\n",
       "      <td>Netflix</td>\n",
       "      <td>NaN</td>\n",
       "      <td>NaN</td>\n",
       "      <td>NaN</td>\n",
       "    </tr>\n",
       "    <tr>\n",
       "      <td>4</td>\n",
       "      <td>tt0369610</td>\n",
       "      <td>2015</td>\n",
       "      <td>6.0</td>\n",
       "      <td>Jurassic World</td>\n",
       "      <td>Action,Adventure,Sci-Fi</td>\n",
       "      <td>Universal Pictures</td>\n",
       "      <td>$150000000</td>\n",
       "      <td>652.27</td>\n",
       "      <td>1670.4</td>\n",
       "    </tr>\n",
       "  </tbody>\n",
       "</table>\n",
       "</div>"
      ],
      "text/plain": [
       "    Title_ID  Release_Year  Released_Month                       Title  \\\n",
       "0  tt0069049          2018            11.0  The Other Side of the Wind   \n",
       "1  tt0339736          2017             8.0             The Evil Within   \n",
       "2  tt0360556          2018             5.0              Fahrenheit 451   \n",
       "3  tt0365545          2018             9.0          Nappily Ever After   \n",
       "4  tt0369610          2015             6.0              Jurassic World   \n",
       "\n",
       "                     Genre          Production Budget(LCY)  USA_Gross($)  \\\n",
       "0                    Drama             Netflix         NaN           NaN   \n",
       "1                   Horror                 NaN    $6000000           NaN   \n",
       "2    Drama,Sci-Fi,Thriller           HBO Films         NaN           NaN   \n",
       "3     Comedy,Drama,Romance             Netflix         NaN           NaN   \n",
       "4  Action,Adventure,Sci-Fi  Universal Pictures  $150000000        652.27   \n",
       "\n",
       "   Worldwide_Gross($)  \n",
       "0                 NaN  \n",
       "1                 NaN  \n",
       "2                 NaN  \n",
       "3                 NaN  \n",
       "4              1670.4  "
      ]
     },
     "execution_count": 5,
     "metadata": {},
     "output_type": "execute_result"
    }
   ],
   "source": [
    "#Get the columns needed for the test:  movies released during the winter months more profitable\n",
    "df_movie_revenue = df[[\"Title_ID\",\"Release_Year\",\"Released_Month\",\"Title\",\"Genre\",\"Production\",\"Budget(LCY)\",\"USA_Gross($)\",\"Worldwide_Gross($)\"]]\n",
    "df_movie_revenue.head()"
   ]
  },
  {
   "cell_type": "code",
   "execution_count": 6,
   "metadata": {
    "scrolled": true
   },
   "outputs": [
    {
     "name": "stdout",
     "output_type": "stream",
     "text": [
      "<class 'pandas.core.frame.DataFrame'>\n",
      "RangeIndex: 2015 entries, 0 to 2014\n",
      "Data columns (total 9 columns):\n",
      "Title_ID              2015 non-null object\n",
      "Release_Year          2015 non-null int64\n",
      "Released_Month        2005 non-null float64\n",
      "Title                 2015 non-null object\n",
      "Genre                 2015 non-null object\n",
      "Production            1678 non-null object\n",
      "Budget(LCY)           1004 non-null object\n",
      "USA_Gross($)          1085 non-null float64\n",
      "Worldwide_Gross($)    1386 non-null float64\n",
      "dtypes: float64(3), int64(1), object(5)\n",
      "memory usage: 141.8+ KB\n"
     ]
    },
    {
     "data": {
      "text/plain": [
       "None"
      ]
     },
     "metadata": {},
     "output_type": "display_data"
    }
   ],
   "source": [
    "#Check dtype and for null values\n",
    "display(df_movie_revenue.info())"
   ]
  },
  {
   "cell_type": "code",
   "execution_count": 7,
   "metadata": {},
   "outputs": [
    {
     "name": "stdout",
     "output_type": "stream",
     "text": [
      "<class 'pandas.core.frame.DataFrame'>\n",
      "Int64Index: 771 entries, 4 to 2004\n",
      "Data columns (total 9 columns):\n",
      "Title_ID              771 non-null object\n",
      "Release_Year          771 non-null int64\n",
      "Released_Month        771 non-null float64\n",
      "Title                 771 non-null object\n",
      "Genre                 771 non-null object\n",
      "Production            738 non-null object\n",
      "Budget(LCY)           771 non-null object\n",
      "USA_Gross($)          771 non-null float64\n",
      "Worldwide_Gross($)    771 non-null float64\n",
      "dtypes: float64(3), int64(1), object(5)\n",
      "memory usage: 60.2+ KB\n"
     ]
    },
    {
     "name": "stderr",
     "output_type": "stream",
     "text": [
      "/Applications/anaconda3/envs/learn-env/lib/python3.6/site-packages/ipykernel_launcher.py:2: SettingWithCopyWarning: \n",
      "A value is trying to be set on a copy of a slice from a DataFrame\n",
      "\n",
      "See the caveats in the documentation: http://pandas.pydata.org/pandas-docs/stable/user_guide/indexing.html#returning-a-view-versus-a-copy\n",
      "  \n"
     ]
    }
   ],
   "source": [
    "#Drop null values under the money columns\n",
    "df_movie_revenue.dropna(subset = [\"Budget(LCY)\", \"USA_Gross($)\", \"Worldwide_Gross($)\"], inplace = True)\n",
    "df_movie_revenue.info()"
   ]
  },
  {
   "cell_type": "code",
   "execution_count": 8,
   "metadata": {},
   "outputs": [
    {
     "name": "stderr",
     "output_type": "stream",
     "text": [
      "/Applications/anaconda3/envs/learn-env/lib/python3.6/site-packages/ipykernel_launcher.py:2: SettingWithCopyWarning: \n",
      "A value is trying to be set on a copy of a slice from a DataFrame.\n",
      "Try using .loc[row_indexer,col_indexer] = value instead\n",
      "\n",
      "See the caveats in the documentation: http://pandas.pydata.org/pandas-docs/stable/user_guide/indexing.html#returning-a-view-versus-a-copy\n",
      "  \n",
      "/Applications/anaconda3/envs/learn-env/lib/python3.6/site-packages/pandas/core/indexing.py:205: SettingWithCopyWarning: \n",
      "A value is trying to be set on a copy of a slice from a DataFrame\n",
      "\n",
      "See the caveats in the documentation: http://pandas.pydata.org/pandas-docs/stable/user_guide/indexing.html#returning-a-view-versus-a-copy\n",
      "  self._setitem_with_indexer(indexer, value)\n",
      "/Applications/anaconda3/envs/learn-env/lib/python3.6/site-packages/ipykernel_launcher.py:6: SettingWithCopyWarning: \n",
      "A value is trying to be set on a copy of a slice from a DataFrame\n",
      "\n",
      "See the caveats in the documentation: http://pandas.pydata.org/pandas-docs/stable/user_guide/indexing.html#returning-a-view-versus-a-copy\n",
      "  \n",
      "/Applications/anaconda3/envs/learn-env/lib/python3.6/site-packages/ipykernel_launcher.py:8: SettingWithCopyWarning: \n",
      "A value is trying to be set on a copy of a slice from a DataFrame\n",
      "\n",
      "See the caveats in the documentation: http://pandas.pydata.org/pandas-docs/stable/user_guide/indexing.html#returning-a-view-versus-a-copy\n",
      "  \n",
      "/Applications/anaconda3/envs/learn-env/lib/python3.6/site-packages/ipykernel_launcher.py:10: SettingWithCopyWarning: \n",
      "A value is trying to be set on a copy of a slice from a DataFrame\n",
      "\n",
      "See the caveats in the documentation: http://pandas.pydata.org/pandas-docs/stable/user_guide/indexing.html#returning-a-view-versus-a-copy\n",
      "  # Remove the CWD from sys.path while we load stuff.\n",
      "/Applications/anaconda3/envs/learn-env/lib/python3.6/site-packages/ipykernel_launcher.py:12: SettingWithCopyWarning: \n",
      "A value is trying to be set on a copy of a slice from a DataFrame\n",
      "\n",
      "See the caveats in the documentation: http://pandas.pydata.org/pandas-docs/stable/user_guide/indexing.html#returning-a-view-versus-a-copy\n",
      "  if sys.path[0] == '':\n",
      "/Applications/anaconda3/envs/learn-env/lib/python3.6/site-packages/pandas/core/frame.py:4102: SettingWithCopyWarning: \n",
      "A value is trying to be set on a copy of a slice from a DataFrame\n",
      "\n",
      "See the caveats in the documentation: http://pandas.pydata.org/pandas-docs/stable/user_guide/indexing.html#returning-a-view-versus-a-copy\n",
      "  errors=errors,\n"
     ]
    }
   ],
   "source": [
    "#Convert budget column to USD, use current exchange rate\n",
    "df_movie_revenue[\"Budget($)\"] = pd.Series([])\n",
    "\n",
    "for i in range(len(df_movie_revenue)):\n",
    "    if str(df_movie_revenue[\"Budget(LCY)\"].iloc[i])[0] == \"$\":\n",
    "        df_movie_revenue[\"Budget($)\"].iloc[i] = int(str(df_movie_revenue[\"Budget(LCY)\"].iloc[i]).replace(\"$\",\"\"))/1000000\n",
    "    elif str(df_movie_revenue[\"Budget(LCY)\"].iloc[i])[0:3] == \"EUR\":\n",
    "        df_movie_revenue[\"Budget($)\"].iloc[i] = int(str(df_movie_revenue[\"Budget(LCY)\"].iloc[i]).replace(\"EUR\",\"\"))/1000000 * 1.1\n",
    "    elif str(df_movie_revenue[\"Budget(LCY)\"].iloc[i])[0:3] == \"GBP\":\n",
    "        df_movie_revenue[\"Budget($)\"].iloc[i] = int(str(df_movie_revenue[\"Budget(LCY)\"].iloc[i]).replace(\"GBP\",\"\"))/1000000 * 1.28\n",
    "    elif str(df_movie_revenue[\"Budget(LCY)\"].iloc[i])[0:3] == \"CAD\":\n",
    "        df_movie_revenue[\"Budget($)\"].iloc[i] = int(str(df_movie_revenue[\"Budget(LCY)\"].iloc[i]).replace(\"CAD\",\"\"))/1000000 * 0.75\n",
    "    else:\n",
    "        continue\n",
    "        \n",
    "df_movie_revenue.drop(columns = [\"Budget(LCY)\"], axis = 1, inplace = True)"
   ]
  },
  {
   "cell_type": "code",
   "execution_count": 9,
   "metadata": {},
   "outputs": [
    {
     "name": "stderr",
     "output_type": "stream",
     "text": [
      "/Applications/anaconda3/envs/learn-env/lib/python3.6/site-packages/ipykernel_launcher.py:2: SettingWithCopyWarning: \n",
      "A value is trying to be set on a copy of a slice from a DataFrame.\n",
      "Try using .loc[row_indexer,col_indexer] = value instead\n",
      "\n",
      "See the caveats in the documentation: http://pandas.pydata.org/pandas-docs/stable/user_guide/indexing.html#returning-a-view-versus-a-copy\n",
      "  \n",
      "/Applications/anaconda3/envs/learn-env/lib/python3.6/site-packages/ipykernel_launcher.py:5: SettingWithCopyWarning: \n",
      "A value is trying to be set on a copy of a slice from a DataFrame.\n",
      "Try using .loc[row_indexer,col_indexer] = value instead\n",
      "\n",
      "See the caveats in the documentation: http://pandas.pydata.org/pandas-docs/stable/user_guide/indexing.html#returning-a-view-versus-a-copy\n",
      "  \"\"\"\n"
     ]
    }
   ],
   "source": [
    "#Calculate US profit\n",
    "df_movie_revenue[\"Profit_US(%)\"] = round((df_movie_revenue[\"USA_Gross($)\"] / df_movie_revenue[\"Budget($)\"]) - 1, 2)\n",
    "\n",
    "#Calculate Worldwide profit\n",
    "df_movie_revenue[\"Profit_W(%)\"] = round((df_movie_revenue[\"Worldwide_Gross($)\"] / df_movie_revenue[\"Budget($)\"]) - 1, 2)"
   ]
  },
  {
   "cell_type": "code",
   "execution_count": 10,
   "metadata": {
    "scrolled": true
   },
   "outputs": [
    {
     "name": "stdout",
     "output_type": "stream",
     "text": [
      "<class 'pandas.core.frame.DataFrame'>\n",
      "Int64Index: 771 entries, 4 to 2004\n",
      "Data columns (total 11 columns):\n",
      "Title_ID              771 non-null object\n",
      "Release_Year          771 non-null int64\n",
      "Released_Month        771 non-null float64\n",
      "Title                 771 non-null object\n",
      "Genre                 771 non-null object\n",
      "Production            738 non-null object\n",
      "USA_Gross($)          771 non-null float64\n",
      "Worldwide_Gross($)    771 non-null float64\n",
      "Budget($)             771 non-null float64\n",
      "Profit_US(%)          771 non-null float64\n",
      "Profit_W(%)           771 non-null float64\n",
      "dtypes: float64(6), int64(1), object(4)\n",
      "memory usage: 72.3+ KB\n"
     ]
    }
   ],
   "source": [
    "df_movie_revenue.info()"
   ]
  },
  {
   "cell_type": "code",
   "execution_count": 11,
   "metadata": {
    "scrolled": true
   },
   "outputs": [
    {
     "data": {
      "image/png": "[encoded data removed]",
      "text/plain": [
       "<Figure size 720x360 with 1 Axes>"
      ]
     },
     "metadata": {
      "needs_background": "light"
     },
     "output_type": "display_data"
    }
   ],
   "source": [
    "plt.figure(figsize = [10,5])\n",
    "sns.scatterplot(data = df_movie_revenue, x = \"Budget($)\", y = \"Worldwide_Gross($)\", label = \"Worldwide Gross Revenue\")\n",
    "sns.scatterplot(data = df_movie_revenue, x = \"Budget($)\", y = \"USA_Gross($)\", label = \"US Gross Revenue\")\n",
    "plt.xlabel(\"Budget US$ mm\")\n",
    "plt.ylabel(\"Revenue US$ mm\")\n",
    "plt.legend()\n",
    "plt.savefig(\"BudgetvsGrossRevenues\")\n",
    "plt.show()"
   ]
  },
  {
   "cell_type": "code",
   "execution_count": 12,
   "metadata": {},
   "outputs": [
    {
     "data": {
      "text/html": [
       "<div>\n",
       "<style scoped>\n",
       "    .dataframe tbody tr th:only-of-type {\n",
       "        vertical-align: middle;\n",
       "    }\n",
       "\n",
       "    .dataframe tbody tr th {\n",
       "        vertical-align: top;\n",
       "    }\n",
       "\n",
       "    .dataframe thead th {\n",
       "        text-align: right;\n",
       "    }\n",
       "</style>\n",
       "<table border=\"1\" class=\"dataframe\">\n",
       "  <thead>\n",
       "    <tr style=\"text-align: right;\">\n",
       "      <th></th>\n",
       "      <th>Title_ID</th>\n",
       "      <th>Release_Year</th>\n",
       "      <th>Released_Month</th>\n",
       "      <th>Title</th>\n",
       "      <th>Genre</th>\n",
       "      <th>Production</th>\n",
       "      <th>USA_Gross($)</th>\n",
       "      <th>Worldwide_Gross($)</th>\n",
       "      <th>Budget($)</th>\n",
       "      <th>Profit_US(%)</th>\n",
       "      <th>Profit_W(%)</th>\n",
       "      <th>Season</th>\n",
       "      <th>Season_</th>\n",
       "    </tr>\n",
       "  </thead>\n",
       "  <tbody>\n",
       "    <tr>\n",
       "      <td>0</td>\n",
       "      <td>tt0369610</td>\n",
       "      <td>2015</td>\n",
       "      <td>6.0</td>\n",
       "      <td>Jurassic World</td>\n",
       "      <td>Action,Adventure,Sci-Fi</td>\n",
       "      <td>Universal Pictures</td>\n",
       "      <td>652.27</td>\n",
       "      <td>1670.40</td>\n",
       "      <td>150.00</td>\n",
       "      <td>3.35</td>\n",
       "      <td>10.14</td>\n",
       "      <td>3</td>\n",
       "      <td>2</td>\n",
       "    </tr>\n",
       "    <tr>\n",
       "      <td>1</td>\n",
       "      <td>tt0451279</td>\n",
       "      <td>2017</td>\n",
       "      <td>6.0</td>\n",
       "      <td>Wonder Woman</td>\n",
       "      <td>Action,Adventure,Fantasy</td>\n",
       "      <td>Warner Bros. Pictures</td>\n",
       "      <td>412.56</td>\n",
       "      <td>821.85</td>\n",
       "      <td>149.00</td>\n",
       "      <td>1.77</td>\n",
       "      <td>4.52</td>\n",
       "      <td>3</td>\n",
       "      <td>2</td>\n",
       "    </tr>\n",
       "    <tr>\n",
       "      <td>2</td>\n",
       "      <td>tt1124037</td>\n",
       "      <td>2016</td>\n",
       "      <td>6.0</td>\n",
       "      <td>Free State of Jones</td>\n",
       "      <td>Action,Biography,Drama</td>\n",
       "      <td>STX Entertainment</td>\n",
       "      <td>20.81</td>\n",
       "      <td>25.04</td>\n",
       "      <td>50.00</td>\n",
       "      <td>-0.58</td>\n",
       "      <td>-0.50</td>\n",
       "      <td>3</td>\n",
       "      <td>2</td>\n",
       "    </tr>\n",
       "    <tr>\n",
       "      <td>3</td>\n",
       "      <td>tt1489889</td>\n",
       "      <td>2016</td>\n",
       "      <td>6.0</td>\n",
       "      <td>Central Intelligence</td>\n",
       "      <td>Action,Comedy,Crime</td>\n",
       "      <td>Warner Bros. Pictures</td>\n",
       "      <td>127.44</td>\n",
       "      <td>216.97</td>\n",
       "      <td>50.00</td>\n",
       "      <td>1.55</td>\n",
       "      <td>3.34</td>\n",
       "      <td>3</td>\n",
       "      <td>2</td>\n",
       "    </tr>\n",
       "    <tr>\n",
       "      <td>4</td>\n",
       "      <td>tt1628841</td>\n",
       "      <td>2016</td>\n",
       "      <td>6.0</td>\n",
       "      <td>Independence Day: Resurgence</td>\n",
       "      <td>Action,Adventure,Sci-Fi</td>\n",
       "      <td>20th Century Fox</td>\n",
       "      <td>103.14</td>\n",
       "      <td>389.68</td>\n",
       "      <td>165.00</td>\n",
       "      <td>-0.37</td>\n",
       "      <td>1.36</td>\n",
       "      <td>3</td>\n",
       "      <td>2</td>\n",
       "    </tr>\n",
       "    <tr>\n",
       "      <td>...</td>\n",
       "      <td>...</td>\n",
       "      <td>...</td>\n",
       "      <td>...</td>\n",
       "      <td>...</td>\n",
       "      <td>...</td>\n",
       "      <td>...</td>\n",
       "      <td>...</td>\n",
       "      <td>...</td>\n",
       "      <td>...</td>\n",
       "      <td>...</td>\n",
       "      <td>...</td>\n",
       "      <td>...</td>\n",
       "      <td>...</td>\n",
       "    </tr>\n",
       "    <tr>\n",
       "      <td>766</td>\n",
       "      <td>tt7547410</td>\n",
       "      <td>2019</td>\n",
       "      <td>8.0</td>\n",
       "      <td>Dora and the Lost City of Gold</td>\n",
       "      <td>Adventure,Family</td>\n",
       "      <td>Paramount Pictures</td>\n",
       "      <td>60.48</td>\n",
       "      <td>116.55</td>\n",
       "      <td>49.00</td>\n",
       "      <td>0.23</td>\n",
       "      <td>1.38</td>\n",
       "      <td>3</td>\n",
       "      <td>2</td>\n",
       "    </tr>\n",
       "    <tr>\n",
       "      <td>767</td>\n",
       "      <td>tt7668870</td>\n",
       "      <td>2018</td>\n",
       "      <td>8.0</td>\n",
       "      <td>Searching</td>\n",
       "      <td>Drama,Mystery,Thriller</td>\n",
       "      <td>Screen Gems</td>\n",
       "      <td>26.02</td>\n",
       "      <td>75.46</td>\n",
       "      <td>0.88</td>\n",
       "      <td>28.57</td>\n",
       "      <td>84.75</td>\n",
       "      <td>3</td>\n",
       "      <td>2</td>\n",
       "    </tr>\n",
       "    <tr>\n",
       "      <td>768</td>\n",
       "      <td>tt7798634</td>\n",
       "      <td>2019</td>\n",
       "      <td>8.0</td>\n",
       "      <td>Ready or Not</td>\n",
       "      <td>Comedy,Horror,Mystery</td>\n",
       "      <td>Fox Searchlight Pictures</td>\n",
       "      <td>28.71</td>\n",
       "      <td>57.15</td>\n",
       "      <td>6.00</td>\n",
       "      <td>3.78</td>\n",
       "      <td>8.52</td>\n",
       "      <td>3</td>\n",
       "      <td>2</td>\n",
       "    </tr>\n",
       "    <tr>\n",
       "      <td>769</td>\n",
       "      <td>tt8186318</td>\n",
       "      <td>2019</td>\n",
       "      <td>8.0</td>\n",
       "      <td>Overcomer</td>\n",
       "      <td>Drama,Sport</td>\n",
       "      <td>Affirm Films</td>\n",
       "      <td>34.70</td>\n",
       "      <td>35.71</td>\n",
       "      <td>5.00</td>\n",
       "      <td>5.94</td>\n",
       "      <td>6.14</td>\n",
       "      <td>3</td>\n",
       "      <td>2</td>\n",
       "    </tr>\n",
       "    <tr>\n",
       "      <td>770</td>\n",
       "      <td>tt8266310</td>\n",
       "      <td>2019</td>\n",
       "      <td>8.0</td>\n",
       "      <td>Blinded by the Light</td>\n",
       "      <td>Comedy,Drama,Music</td>\n",
       "      <td>New Line Cinema</td>\n",
       "      <td>11.90</td>\n",
       "      <td>18.02</td>\n",
       "      <td>15.00</td>\n",
       "      <td>-0.21</td>\n",
       "      <td>0.20</td>\n",
       "      <td>3</td>\n",
       "      <td>2</td>\n",
       "    </tr>\n",
       "  </tbody>\n",
       "</table>\n",
       "<p>771 rows × 13 columns</p>\n",
       "</div>"
      ],
      "text/plain": [
       "      Title_ID  Release_Year  Released_Month                           Title  \\\n",
       "0    tt0369610          2015             6.0                  Jurassic World   \n",
       "1    tt0451279          2017             6.0                    Wonder Woman   \n",
       "2    tt1124037          2016             6.0             Free State of Jones   \n",
       "3    tt1489889          2016             6.0            Central Intelligence   \n",
       "4    tt1628841          2016             6.0    Independence Day: Resurgence   \n",
       "..         ...           ...             ...                             ...   \n",
       "766  tt7547410          2019             8.0  Dora and the Lost City of Gold   \n",
       "767  tt7668870          2018             8.0                       Searching   \n",
       "768  tt7798634          2019             8.0                    Ready or Not   \n",
       "769  tt8186318          2019             8.0                       Overcomer   \n",
       "770  tt8266310          2019             8.0            Blinded by the Light   \n",
       "\n",
       "                        Genre                Production  USA_Gross($)  \\\n",
       "0     Action,Adventure,Sci-Fi        Universal Pictures        652.27   \n",
       "1    Action,Adventure,Fantasy     Warner Bros. Pictures        412.56   \n",
       "2      Action,Biography,Drama         STX Entertainment         20.81   \n",
       "3         Action,Comedy,Crime     Warner Bros. Pictures        127.44   \n",
       "4     Action,Adventure,Sci-Fi          20th Century Fox        103.14   \n",
       "..                        ...                       ...           ...   \n",
       "766          Adventure,Family        Paramount Pictures         60.48   \n",
       "767    Drama,Mystery,Thriller               Screen Gems         26.02   \n",
       "768     Comedy,Horror,Mystery  Fox Searchlight Pictures         28.71   \n",
       "769               Drama,Sport              Affirm Films         34.70   \n",
       "770        Comedy,Drama,Music           New Line Cinema         11.90   \n",
       "\n",
       "     Worldwide_Gross($)  Budget($)  Profit_US(%)  Profit_W(%)  Season  Season_  \n",
       "0               1670.40     150.00          3.35        10.14       3        2  \n",
       "1                821.85     149.00          1.77         4.52       3        2  \n",
       "2                 25.04      50.00         -0.58        -0.50       3        2  \n",
       "3                216.97      50.00          1.55         3.34       3        2  \n",
       "4                389.68     165.00         -0.37         1.36       3        2  \n",
       "..                  ...        ...           ...          ...     ...      ...  \n",
       "766              116.55      49.00          0.23         1.38       3        2  \n",
       "767               75.46       0.88         28.57        84.75       3        2  \n",
       "768               57.15       6.00          3.78         8.52       3        2  \n",
       "769               35.71       5.00          5.94         6.14       3        2  \n",
       "770               18.02      15.00         -0.21         0.20       3        2  \n",
       "\n",
       "[771 rows x 13 columns]"
      ]
     },
     "execution_count": 12,
     "metadata": {},
     "output_type": "execute_result"
    }
   ],
   "source": [
    "#Add categorial columns for the seasons\n",
    "df_months = pd.DataFrame({\"Released_Month\" : list(range(1,13)), \"Season\" : [1,1,2,2,2,3,3,3,4,4,4,1], \"Season_\" : [1,1,2,2,2,2,2,2,1,1,1,1]})\n",
    "df_season_revenue = pd.merge(df_movie_revenue, df_months, on = \"Released_Month\")\n",
    "df_season_revenue"
   ]
  },
  {
   "cell_type": "code",
   "execution_count": 13,
   "metadata": {},
   "outputs": [
    {
     "data": {
      "text/plain": [
       "<matplotlib.axes._subplots.AxesSubplot at 0x1a236f5048>"
      ]
     },
     "execution_count": 13,
     "metadata": {},
     "output_type": "execute_result"
    },
    {
     "data": {
      "image/png": "[encoded data removed]",
      "text/plain": [
       "<Figure size 1440x360 with 1 Axes>"
      ]
     },
     "metadata": {
      "needs_background": "light"
     },
     "output_type": "display_data"
    }
   ],
   "source": [
    "#Check the distribution of the profit column\n",
    "plt.figure(figsize = [20,5])\n",
    "sns.boxplot(df_season_revenue[\"Profit_US(%)\"])"
   ]
  },
  {
   "cell_type": "code",
   "execution_count": 14,
   "metadata": {
    "scrolled": true
   },
   "outputs": [
    {
     "data": {
      "text/plain": [
       "count    771.000000\n",
       "mean       1.206615\n",
       "std        8.641546\n",
       "min       -1.000000\n",
       "25%       -0.550000\n",
       "50%        0.060000\n",
       "75%        1.285000\n",
       "max      226.600000\n",
       "Name: Profit_US(%), dtype: float64"
      ]
     },
     "execution_count": 14,
     "metadata": {},
     "output_type": "execute_result"
    }
   ],
   "source": [
    "df_season_revenue[\"Profit_US(%)\"].describe()"
   ]
  },
  {
   "cell_type": "code",
   "execution_count": 15,
   "metadata": {},
   "outputs": [
    {
     "data": {
      "text/html": [
       "<div>\n",
       "<style scoped>\n",
       "    .dataframe tbody tr th:only-of-type {\n",
       "        vertical-align: middle;\n",
       "    }\n",
       "\n",
       "    .dataframe tbody tr th {\n",
       "        vertical-align: top;\n",
       "    }\n",
       "\n",
       "    .dataframe thead th {\n",
       "        text-align: right;\n",
       "    }\n",
       "</style>\n",
       "<table border=\"1\" class=\"dataframe\">\n",
       "  <thead>\n",
       "    <tr style=\"text-align: right;\">\n",
       "      <th></th>\n",
       "      <th>Title_ID</th>\n",
       "      <th>Release_Year</th>\n",
       "      <th>Released_Month</th>\n",
       "      <th>Title</th>\n",
       "      <th>Genre</th>\n",
       "      <th>Production</th>\n",
       "      <th>USA_Gross($)</th>\n",
       "      <th>Worldwide_Gross($)</th>\n",
       "      <th>Budget($)</th>\n",
       "      <th>Profit_US(%)</th>\n",
       "      <th>Profit_W(%)</th>\n",
       "      <th>Season</th>\n",
       "      <th>Season_</th>\n",
       "    </tr>\n",
       "  </thead>\n",
       "  <tbody>\n",
       "    <tr>\n",
       "      <td>171</td>\n",
       "      <td>tt5052448</td>\n",
       "      <td>2017</td>\n",
       "      <td>2.0</td>\n",
       "      <td>Get Out</td>\n",
       "      <td>Horror,Mystery,Thriller</td>\n",
       "      <td>Universal Pictures</td>\n",
       "      <td>176.04</td>\n",
       "      <td>255.41</td>\n",
       "      <td>4.50</td>\n",
       "      <td>38.12</td>\n",
       "      <td>55.76</td>\n",
       "      <td>1</td>\n",
       "      <td>1</td>\n",
       "    </tr>\n",
       "    <tr>\n",
       "      <td>260</td>\n",
       "      <td>tt2309260</td>\n",
       "      <td>2015</td>\n",
       "      <td>7.0</td>\n",
       "      <td>The Gallows</td>\n",
       "      <td>Horror,Mystery,Thriller</td>\n",
       "      <td>New Line Cinema</td>\n",
       "      <td>22.76</td>\n",
       "      <td>42.96</td>\n",
       "      <td>0.10</td>\n",
       "      <td>226.60</td>\n",
       "      <td>428.60</td>\n",
       "      <td>3</td>\n",
       "      <td>2</td>\n",
       "    </tr>\n",
       "    <tr>\n",
       "      <td>732</td>\n",
       "      <td>tt3832914</td>\n",
       "      <td>2015</td>\n",
       "      <td>8.0</td>\n",
       "      <td>War Room</td>\n",
       "      <td>Drama</td>\n",
       "      <td>Sony Pictures</td>\n",
       "      <td>67.79</td>\n",
       "      <td>73.26</td>\n",
       "      <td>3.00</td>\n",
       "      <td>21.60</td>\n",
       "      <td>23.42</td>\n",
       "      <td>3</td>\n",
       "      <td>2</td>\n",
       "    </tr>\n",
       "    <tr>\n",
       "      <td>767</td>\n",
       "      <td>tt7668870</td>\n",
       "      <td>2018</td>\n",
       "      <td>8.0</td>\n",
       "      <td>Searching</td>\n",
       "      <td>Drama,Mystery,Thriller</td>\n",
       "      <td>Screen Gems</td>\n",
       "      <td>26.02</td>\n",
       "      <td>75.46</td>\n",
       "      <td>0.88</td>\n",
       "      <td>28.57</td>\n",
       "      <td>84.75</td>\n",
       "      <td>3</td>\n",
       "      <td>2</td>\n",
       "    </tr>\n",
       "  </tbody>\n",
       "</table>\n",
       "</div>"
      ],
      "text/plain": [
       "      Title_ID  Release_Year  Released_Month        Title  \\\n",
       "171  tt5052448          2017             2.0      Get Out   \n",
       "260  tt2309260          2015             7.0  The Gallows   \n",
       "732  tt3832914          2015             8.0     War Room   \n",
       "767  tt7668870          2018             8.0    Searching   \n",
       "\n",
       "                       Genre          Production  USA_Gross($)  \\\n",
       "171  Horror,Mystery,Thriller  Universal Pictures        176.04   \n",
       "260  Horror,Mystery,Thriller     New Line Cinema         22.76   \n",
       "732                    Drama       Sony Pictures         67.79   \n",
       "767   Drama,Mystery,Thriller         Screen Gems         26.02   \n",
       "\n",
       "     Worldwide_Gross($)  Budget($)  Profit_US(%)  Profit_W(%)  Season  Season_  \n",
       "171              255.41       4.50         38.12        55.76       1        1  \n",
       "260               42.96       0.10        226.60       428.60       3        2  \n",
       "732               73.26       3.00         21.60        23.42       3        2  \n",
       "767               75.46       0.88         28.57        84.75       3        2  "
      ]
     },
     "execution_count": 15,
     "metadata": {},
     "output_type": "execute_result"
    }
   ],
   "source": [
    "#The above boxplot and table are showing 4 outliers above 15/20%\n",
    "#Remove the outliers profit > 15%\n",
    "df_season_outliers = df_season_revenue[df_season_revenue[\"Profit_US(%)\"] > 15]\n",
    "df_season_outliers"
   ]
  },
  {
   "cell_type": "code",
   "execution_count": 16,
   "metadata": {},
   "outputs": [
    {
     "data": {
      "text/html": [
       "<div>\n",
       "<style scoped>\n",
       "    .dataframe tbody tr th:only-of-type {\n",
       "        vertical-align: middle;\n",
       "    }\n",
       "\n",
       "    .dataframe tbody tr th {\n",
       "        vertical-align: top;\n",
       "    }\n",
       "\n",
       "    .dataframe thead th {\n",
       "        text-align: right;\n",
       "    }\n",
       "</style>\n",
       "<table border=\"1\" class=\"dataframe\">\n",
       "  <thead>\n",
       "    <tr style=\"text-align: right;\">\n",
       "      <th></th>\n",
       "      <th>Title_ID</th>\n",
       "      <th>Release_Year</th>\n",
       "      <th>Released_Month</th>\n",
       "      <th>Title</th>\n",
       "      <th>Genre</th>\n",
       "      <th>Production</th>\n",
       "      <th>USA_Gross($)</th>\n",
       "      <th>Worldwide_Gross($)</th>\n",
       "      <th>Budget($)</th>\n",
       "      <th>Profit_US(%)</th>\n",
       "      <th>Profit_W(%)</th>\n",
       "      <th>Season</th>\n",
       "      <th>Season_</th>\n",
       "    </tr>\n",
       "  </thead>\n",
       "  <tbody>\n",
       "    <tr>\n",
       "      <td>0</td>\n",
       "      <td>tt0369610</td>\n",
       "      <td>2015</td>\n",
       "      <td>6.0</td>\n",
       "      <td>Jurassic World</td>\n",
       "      <td>Action,Adventure,Sci-Fi</td>\n",
       "      <td>Universal Pictures</td>\n",
       "      <td>652.27</td>\n",
       "      <td>1670.40</td>\n",
       "      <td>150.0</td>\n",
       "      <td>3.35</td>\n",
       "      <td>10.14</td>\n",
       "      <td>3</td>\n",
       "      <td>2</td>\n",
       "    </tr>\n",
       "    <tr>\n",
       "      <td>1</td>\n",
       "      <td>tt0451279</td>\n",
       "      <td>2017</td>\n",
       "      <td>6.0</td>\n",
       "      <td>Wonder Woman</td>\n",
       "      <td>Action,Adventure,Fantasy</td>\n",
       "      <td>Warner Bros. Pictures</td>\n",
       "      <td>412.56</td>\n",
       "      <td>821.85</td>\n",
       "      <td>149.0</td>\n",
       "      <td>1.77</td>\n",
       "      <td>4.52</td>\n",
       "      <td>3</td>\n",
       "      <td>2</td>\n",
       "    </tr>\n",
       "    <tr>\n",
       "      <td>2</td>\n",
       "      <td>tt1124037</td>\n",
       "      <td>2016</td>\n",
       "      <td>6.0</td>\n",
       "      <td>Free State of Jones</td>\n",
       "      <td>Action,Biography,Drama</td>\n",
       "      <td>STX Entertainment</td>\n",
       "      <td>20.81</td>\n",
       "      <td>25.04</td>\n",
       "      <td>50.0</td>\n",
       "      <td>-0.58</td>\n",
       "      <td>-0.50</td>\n",
       "      <td>3</td>\n",
       "      <td>2</td>\n",
       "    </tr>\n",
       "    <tr>\n",
       "      <td>3</td>\n",
       "      <td>tt1489889</td>\n",
       "      <td>2016</td>\n",
       "      <td>6.0</td>\n",
       "      <td>Central Intelligence</td>\n",
       "      <td>Action,Comedy,Crime</td>\n",
       "      <td>Warner Bros. Pictures</td>\n",
       "      <td>127.44</td>\n",
       "      <td>216.97</td>\n",
       "      <td>50.0</td>\n",
       "      <td>1.55</td>\n",
       "      <td>3.34</td>\n",
       "      <td>3</td>\n",
       "      <td>2</td>\n",
       "    </tr>\n",
       "    <tr>\n",
       "      <td>4</td>\n",
       "      <td>tt1628841</td>\n",
       "      <td>2016</td>\n",
       "      <td>6.0</td>\n",
       "      <td>Independence Day: Resurgence</td>\n",
       "      <td>Action,Adventure,Sci-Fi</td>\n",
       "      <td>20th Century Fox</td>\n",
       "      <td>103.14</td>\n",
       "      <td>389.68</td>\n",
       "      <td>165.0</td>\n",
       "      <td>-0.37</td>\n",
       "      <td>1.36</td>\n",
       "      <td>3</td>\n",
       "      <td>2</td>\n",
       "    </tr>\n",
       "    <tr>\n",
       "      <td>...</td>\n",
       "      <td>...</td>\n",
       "      <td>...</td>\n",
       "      <td>...</td>\n",
       "      <td>...</td>\n",
       "      <td>...</td>\n",
       "      <td>...</td>\n",
       "      <td>...</td>\n",
       "      <td>...</td>\n",
       "      <td>...</td>\n",
       "      <td>...</td>\n",
       "      <td>...</td>\n",
       "      <td>...</td>\n",
       "      <td>...</td>\n",
       "    </tr>\n",
       "    <tr>\n",
       "      <td>765</td>\n",
       "      <td>tt7365604</td>\n",
       "      <td>2018</td>\n",
       "      <td>8.0</td>\n",
       "      <td>Dog Days</td>\n",
       "      <td>Comedy,Drama,Romance</td>\n",
       "      <td>LD Entertainment</td>\n",
       "      <td>6.81</td>\n",
       "      <td>6.82</td>\n",
       "      <td>10.0</td>\n",
       "      <td>-0.32</td>\n",
       "      <td>-0.32</td>\n",
       "      <td>3</td>\n",
       "      <td>2</td>\n",
       "    </tr>\n",
       "    <tr>\n",
       "      <td>766</td>\n",
       "      <td>tt7547410</td>\n",
       "      <td>2019</td>\n",
       "      <td>8.0</td>\n",
       "      <td>Dora and the Lost City of Gold</td>\n",
       "      <td>Adventure,Family</td>\n",
       "      <td>Paramount Pictures</td>\n",
       "      <td>60.48</td>\n",
       "      <td>116.55</td>\n",
       "      <td>49.0</td>\n",
       "      <td>0.23</td>\n",
       "      <td>1.38</td>\n",
       "      <td>3</td>\n",
       "      <td>2</td>\n",
       "    </tr>\n",
       "    <tr>\n",
       "      <td>768</td>\n",
       "      <td>tt7798634</td>\n",
       "      <td>2019</td>\n",
       "      <td>8.0</td>\n",
       "      <td>Ready or Not</td>\n",
       "      <td>Comedy,Horror,Mystery</td>\n",
       "      <td>Fox Searchlight Pictures</td>\n",
       "      <td>28.71</td>\n",
       "      <td>57.15</td>\n",
       "      <td>6.0</td>\n",
       "      <td>3.78</td>\n",
       "      <td>8.52</td>\n",
       "      <td>3</td>\n",
       "      <td>2</td>\n",
       "    </tr>\n",
       "    <tr>\n",
       "      <td>769</td>\n",
       "      <td>tt8186318</td>\n",
       "      <td>2019</td>\n",
       "      <td>8.0</td>\n",
       "      <td>Overcomer</td>\n",
       "      <td>Drama,Sport</td>\n",
       "      <td>Affirm Films</td>\n",
       "      <td>34.70</td>\n",
       "      <td>35.71</td>\n",
       "      <td>5.0</td>\n",
       "      <td>5.94</td>\n",
       "      <td>6.14</td>\n",
       "      <td>3</td>\n",
       "      <td>2</td>\n",
       "    </tr>\n",
       "    <tr>\n",
       "      <td>770</td>\n",
       "      <td>tt8266310</td>\n",
       "      <td>2019</td>\n",
       "      <td>8.0</td>\n",
       "      <td>Blinded by the Light</td>\n",
       "      <td>Comedy,Drama,Music</td>\n",
       "      <td>New Line Cinema</td>\n",
       "      <td>11.90</td>\n",
       "      <td>18.02</td>\n",
       "      <td>15.0</td>\n",
       "      <td>-0.21</td>\n",
       "      <td>0.20</td>\n",
       "      <td>3</td>\n",
       "      <td>2</td>\n",
       "    </tr>\n",
       "  </tbody>\n",
       "</table>\n",
       "<p>767 rows × 13 columns</p>\n",
       "</div>"
      ],
      "text/plain": [
       "      Title_ID  Release_Year  Released_Month                           Title  \\\n",
       "0    tt0369610          2015             6.0                  Jurassic World   \n",
       "1    tt0451279          2017             6.0                    Wonder Woman   \n",
       "2    tt1124037          2016             6.0             Free State of Jones   \n",
       "3    tt1489889          2016             6.0            Central Intelligence   \n",
       "4    tt1628841          2016             6.0    Independence Day: Resurgence   \n",
       "..         ...           ...             ...                             ...   \n",
       "765  tt7365604          2018             8.0                        Dog Days   \n",
       "766  tt7547410          2019             8.0  Dora and the Lost City of Gold   \n",
       "768  tt7798634          2019             8.0                    Ready or Not   \n",
       "769  tt8186318          2019             8.0                       Overcomer   \n",
       "770  tt8266310          2019             8.0            Blinded by the Light   \n",
       "\n",
       "                        Genre                Production  USA_Gross($)  \\\n",
       "0     Action,Adventure,Sci-Fi        Universal Pictures        652.27   \n",
       "1    Action,Adventure,Fantasy     Warner Bros. Pictures        412.56   \n",
       "2      Action,Biography,Drama         STX Entertainment         20.81   \n",
       "3         Action,Comedy,Crime     Warner Bros. Pictures        127.44   \n",
       "4     Action,Adventure,Sci-Fi          20th Century Fox        103.14   \n",
       "..                        ...                       ...           ...   \n",
       "765      Comedy,Drama,Romance          LD Entertainment          6.81   \n",
       "766          Adventure,Family        Paramount Pictures         60.48   \n",
       "768     Comedy,Horror,Mystery  Fox Searchlight Pictures         28.71   \n",
       "769               Drama,Sport              Affirm Films         34.70   \n",
       "770        Comedy,Drama,Music           New Line Cinema         11.90   \n",
       "\n",
       "     Worldwide_Gross($)  Budget($)  Profit_US(%)  Profit_W(%)  Season  Season_  \n",
       "0               1670.40      150.0          3.35        10.14       3        2  \n",
       "1                821.85      149.0          1.77         4.52       3        2  \n",
       "2                 25.04       50.0         -0.58        -0.50       3        2  \n",
       "3                216.97       50.0          1.55         3.34       3        2  \n",
       "4                389.68      165.0         -0.37         1.36       3        2  \n",
       "..                  ...        ...           ...          ...     ...      ...  \n",
       "765                6.82       10.0         -0.32        -0.32       3        2  \n",
       "766              116.55       49.0          0.23         1.38       3        2  \n",
       "768               57.15        6.0          3.78         8.52       3        2  \n",
       "769               35.71        5.0          5.94         6.14       3        2  \n",
       "770               18.02       15.0         -0.21         0.20       3        2  \n",
       "\n",
       "[767 rows x 13 columns]"
      ]
     },
     "execution_count": 16,
     "metadata": {},
     "output_type": "execute_result"
    }
   ],
   "source": [
    "df_season_revenue = df_season_revenue[df_season_revenue[\"Profit_US(%)\"] <= 15]\n",
    "df_season_revenue"
   ]
  },
  {
   "cell_type": "code",
   "execution_count": 17,
   "metadata": {},
   "outputs": [
    {
     "data": {
      "text/plain": [
       "<matplotlib.axes._subplots.AxesSubplot at 0x1a23b943c8>"
      ]
     },
     "execution_count": 17,
     "metadata": {},
     "output_type": "execute_result"
    },
    {
     "data": {
      "image/png": "[encoded data removed]",
      "text/plain": [
       "<Figure size 1440x360 with 1 Axes>"
      ]
     },
     "metadata": {
      "needs_background": "light"
     },
     "output_type": "display_data"
    }
   ],
   "source": [
    "plt.figure(figsize = [20,5])\n",
    "sns.boxplot(df_season_revenue[\"Profit_US(%)\"])"
   ]
  },
  {
   "cell_type": "code",
   "execution_count": 18,
   "metadata": {},
   "outputs": [
    {
     "data": {
      "text/plain": [
       "<matplotlib.axes._subplots.AxesSubplot at 0x1a24081080>"
      ]
     },
     "execution_count": 18,
     "metadata": {},
     "output_type": "execute_result"
    },
    {
     "data": {
      "image/png": "[encoded data removed]",
      "text/plain": [
       "<Figure size 432x288 with 1 Axes>"
      ]
     },
     "metadata": {
      "needs_background": "light"
     },
     "output_type": "display_data"
    }
   ],
   "source": [
    "sns.scatterplot(data = df_season_revenue, x = \"Budget($)\", y = \"USA_Gross($)\")"
   ]
  },
  {
   "cell_type": "code",
   "execution_count": 19,
   "metadata": {},
   "outputs": [
    {
     "data": {
      "text/plain": [
       "count    193.000000\n",
       "mean       0.697306\n",
       "std        1.944261\n",
       "min       -1.000000\n",
       "25%       -0.560000\n",
       "50%        0.130000\n",
       "75%        1.290000\n",
       "max       14.370000\n",
       "Name: Profit_US(%), dtype: float64"
      ]
     },
     "execution_count": 19,
     "metadata": {},
     "output_type": "execute_result"
    }
   ],
   "source": [
    "#Create a subset for winter movies\n",
    "df_winter = df_season_revenue[(df_season_revenue[\"Season\"] == 1)]\n",
    "df_winter[\"Profit_US(%)\"].describe()"
   ]
  },
  {
   "cell_type": "code",
   "execution_count": 20,
   "metadata": {
    "scrolled": true
   },
   "outputs": [
    {
     "data": {
      "text/plain": [
       "count    188.000000\n",
       "mean       1.043511\n",
       "std        2.392632\n",
       "min       -1.000000\n",
       "25%       -0.427500\n",
       "50%        0.310000\n",
       "75%        1.687500\n",
       "max       15.000000\n",
       "Name: Profit_US(%), dtype: float64"
      ]
     },
     "execution_count": 20,
     "metadata": {},
     "output_type": "execute_result"
    }
   ],
   "source": [
    "#Create a subset for summer movies which will be tested against winter movies\n",
    "df_summer = df_season_revenue[(df_season_revenue[\"Season\"] == 3)]\n",
    "df_summer[\"Profit_US(%)\"].describe()"
   ]
  },
  {
   "cell_type": "code",
   "execution_count": 21,
   "metadata": {},
   "outputs": [
    {
     "data": {
      "text/plain": [
       "<matplotlib.axes._subplots.AxesSubplot at 0x1a242405c0>"
      ]
     },
     "execution_count": 21,
     "metadata": {},
     "output_type": "execute_result"
    },
    {
     "data": {
      "image/png": "[encoded data removed]",
      "text/plain": [
       "<Figure size 432x288 with 1 Axes>"
      ]
     },
     "metadata": {
      "needs_background": "light"
     },
     "output_type": "display_data"
    }
   ],
   "source": [
    "#Check distribution\n",
    "sns.distplot(df_winter[\"Profit_US(%)\"])\n",
    "sns.distplot(df_summer[\"Profit_US(%)\"])"
   ]
  },
  {
   "cell_type": "markdown",
   "metadata": {},
   "source": [
    "#### For the above subsets, perform random sampling then compare sample variances and check for normality.\n",
    "\n",
    "H0: sample comes from a normal distribution\n",
    "\n",
    "HA: sample does not from a normal distribution"
   ]
  },
  {
   "cell_type": "code",
   "execution_count": 22,
   "metadata": {},
   "outputs": [],
   "source": [
    "#Below functions perform random sampling and calculate for sample variance\n",
    "def get_sample_mean(sample):\n",
    "    return sum(sample) / len(sample)\n",
    "def get_sample(data, n):\n",
    "    sample = []\n",
    "    while len(sample) != n:\n",
    "        x = np.random.choice(data)\n",
    "        sample.append(x)  \n",
    "    return sample\n",
    "def create_sample_distribution(data, dist_size=100, n=30):\n",
    "    sample_dist = []\n",
    "    while len(sample_dist) != dist_size:\n",
    "        sample = get_sample(data, n)\n",
    "        sample_mean = get_sample_mean(sample)\n",
    "        sample_dist.append(sample_mean)\n",
    "    return sample_dist\n",
    "def sample_variance(sample):\n",
    "    sample_mean = np.mean(sample)\n",
    "    return np.sum((sample - sample_mean) **2)/ (len(sample) -1)"
   ]
  },
  {
   "cell_type": "code",
   "execution_count": 23,
   "metadata": {
    "scrolled": true
   },
   "outputs": [
    {
     "data": {
      "text/plain": [
       "NormaltestResult(statistic=1.6050401827039047, pvalue=0.4481980396955242)"
      ]
     },
     "execution_count": 23,
     "metadata": {},
     "output_type": "execute_result"
    }
   ],
   "source": [
    "#Perfom random sampling and normality test on winter movies\n",
    "winter_sample = create_sample_distribution(df_winter[\"Profit_US(%)\"], dist_size=100, n=30)\n",
    "stats.normaltest(winter_sample)"
   ]
  },
  {
   "cell_type": "code",
   "execution_count": 24,
   "metadata": {
    "scrolled": true
   },
   "outputs": [
    {
     "data": {
      "text/plain": [
       "NormaltestResult(statistic=8.051918556194892, pvalue=0.017846296378241568)"
      ]
     },
     "execution_count": 24,
     "metadata": {},
     "output_type": "execute_result"
    }
   ],
   "source": [
    "#Perfom random sampling and normality test on summer movies\n",
    "summer_sample = create_sample_distribution(df_summer[\"Profit_US(%)\"], dist_size=100, n=30)\n",
    "stats.normaltest(summer_sample)"
   ]
  },
  {
   "cell_type": "code",
   "execution_count": 54,
   "metadata": {},
   "outputs": [
    {
     "data": {
      "image/png": "[encoded data removed]",
      "text/plain": [
       "<Figure size 432x288 with 1 Axes>"
      ]
     },
     "metadata": {
      "needs_background": "light"
     },
     "output_type": "display_data"
    }
   ],
   "source": [
    "sns.distplot(winter_sample, label = \"Winter Movies Ave Profit (%)\")\n",
    "sns.distplot(summer_sample, label = \"Summer Movies Ave Profit (%)\")\n",
    "plt.legend()\n",
    "plt.savefig(\"WinterSummer\", bbox_inches = \"tight\")\n",
    "plt.show()"
   ]
  },
  {
   "cell_type": "code",
   "execution_count": 26,
   "metadata": {},
   "outputs": [
    {
     "name": "stdout",
     "output_type": "stream",
     "text": [
      "winter sample mean is 0.6654733333333333\n",
      "winter sample variance is 0.12232010141414143\n"
     ]
    }
   ],
   "source": [
    "winter_variance = sample_variance(winter_sample)\n",
    "winter_mean = np.mean(winter_sample)\n",
    "print(\"winter sample mean is\", winter_mean)\n",
    "print(\"winter sample variance is\", winter_variance)"
   ]
  },
  {
   "cell_type": "code",
   "execution_count": 27,
   "metadata": {},
   "outputs": [
    {
     "name": "stdout",
     "output_type": "stream",
     "text": [
      "summer sample mean is 1.04269\n",
      "summer sample variance is 0.21416900618406287\n"
     ]
    }
   ],
   "source": [
    "summer_variance = sample_variance(summer_sample)\n",
    "summer_mean = np.mean(summer_sample)\n",
    "print(\"summer sample mean is\", summer_mean)\n",
    "print(\"summer sample variance is\", summer_variance)"
   ]
  },
  {
   "cell_type": "code",
   "execution_count": 28,
   "metadata": {},
   "outputs": [
    {
     "data": {
      "text/plain": [
       "-0.37721666666666664"
      ]
     },
     "execution_count": 28,
     "metadata": {},
     "output_type": "execute_result"
    }
   ],
   "source": [
    "winter_mean - summer_mean"
   ]
  },
  {
   "cell_type": "markdown",
   "metadata": {},
   "source": [
    " - p-values for the above normality tests are greater than the alpha = 0.05, H0 cannot be rejected then\n",
    "\n",
    " - winter and summer movie samples have similar variance"
   ]
  },
  {
   "cell_type": "markdown",
   "metadata": {},
   "source": [
    "#### Perform one-tailed and two-tailed t-tests (alpha = 0.05)\n",
    "\n",
    "H0: The mean profit difference between winter and summer movies is equal to zero (winter - summer = 0)\n",
    "\n",
    "HA1: The mean profit difference between winter and summer movies is not equal to zero (winter - summer != 0)\n",
    "\n",
    "HA2: The mean profit difference between winter and summer movies is greater than zero (winter - summer > 0)"
   ]
  },
  {
   "cell_type": "code",
   "execution_count": 29,
   "metadata": {},
   "outputs": [],
   "source": [
    "alpha = 0.05\n",
    "df = len(winter_sample) + len(summer_sample) - 2 #degrees of freedom\n",
    "t_stat, p_value = stats.ttest_ind(winter_sample, summer_sample)\n",
    "#t_crit = stats.t.ppf(1 - alpha, df) #same for all null and alternative hypotheses"
   ]
  },
  {
   "cell_type": "code",
   "execution_count": 30,
   "metadata": {},
   "outputs": [
    {
     "name": "stdout",
     "output_type": "stream",
     "text": [
      "t-statistic is  -6.502874429516654\n",
      "p-value is  6.283067644557132e-10\n",
      "\n",
      "\n",
      "p-value < alpha/2: we reject the null hypothesis at 5% significance level in support of the alternative\n"
     ]
    }
   ],
   "source": [
    "#HA1: The mean profit difference between winter and summer movies is not equal to zero (winter - summer != 0)\n",
    "\n",
    "print(\"t-statistic is \", t_stat)\n",
    "print(\"p-value is \", p_value)\n",
    "print(\"\\n\")\n",
    "if p_value < alpha/2:\n",
    "    print(\"p-value < alpha/2: we reject the null hypothesis at 5% significance level in support of the alternative\")\n",
    "else:\n",
    "    print(\"p-value > alpha/2: we do not the null hypothesis at 5% significance level in support of the alternative\")"
   ]
  },
  {
   "cell_type": "code",
   "execution_count": 31,
   "metadata": {},
   "outputs": [
    {
     "name": "stdout",
     "output_type": "stream",
     "text": [
      "t-statistic is  -6.502874429516654\n",
      "p-value is  6.283067644557132e-10\n",
      "\n",
      "\n",
      "p-value < alpha: we reject the null hypothesis at 5% significance level in support of the alternative\n"
     ]
    }
   ],
   "source": [
    "#HA2: The mean profit difference between winter and summer movies is greater than zero (winter - summer > 0)\n",
    "\n",
    "print(\"t-statistic is \", t_stat)\n",
    "print(\"p-value is \", p_value)\n",
    "print(\"\\n\")\n",
    "if p_value < alpha:\n",
    "    print(\"p-value < alpha: we reject the null hypothesis at 5% significance level in support of the alternative\")\n",
    "else:\n",
    "    print(\"p-value > alpha: we do not the null hypothesis at 5% significance level in support of the alternative\")"
   ]
  },
  {
   "cell_type": "markdown",
   "metadata": {},
   "source": [
    "### Are comedy movies more profitable than dramas?\n",
    "\n",
    "Test is focused on last 5 years English movies released in the US taken from IMDB.  Profitability will be measured using the budget (proxy for overall production cost converted into USD) and gross worldwide revenue (both in millions) scraped from each of the movie IMDB webpages. t-test will be performed on the mean profits of comedy and drama movies.\n",
    "\n",
    "#### Perform EDA on  the data taken from IMDB.\n",
    "\n",
    "Cleaned data *df_movie_revenue* will be used as a starting point."
   ]
  },
  {
   "cell_type": "code",
   "execution_count": 32,
   "metadata": {
    "scrolled": true
   },
   "outputs": [
    {
     "data": {
      "text/html": [
       "<div>\n",
       "<style scoped>\n",
       "    .dataframe tbody tr th:only-of-type {\n",
       "        vertical-align: middle;\n",
       "    }\n",
       "\n",
       "    .dataframe tbody tr th {\n",
       "        vertical-align: top;\n",
       "    }\n",
       "\n",
       "    .dataframe thead th {\n",
       "        text-align: right;\n",
       "    }\n",
       "</style>\n",
       "<table border=\"1\" class=\"dataframe\">\n",
       "  <thead>\n",
       "    <tr style=\"text-align: right;\">\n",
       "      <th></th>\n",
       "      <th>Title_ID</th>\n",
       "      <th>Release_Year</th>\n",
       "      <th>Released_Month</th>\n",
       "      <th>Title</th>\n",
       "      <th>Genre</th>\n",
       "      <th>Production</th>\n",
       "      <th>USA_Gross($)</th>\n",
       "      <th>Worldwide_Gross($)</th>\n",
       "      <th>Budget($)</th>\n",
       "      <th>Profit_US(%)</th>\n",
       "      <th>Profit_W(%)</th>\n",
       "    </tr>\n",
       "  </thead>\n",
       "  <tbody>\n",
       "    <tr>\n",
       "      <td>4</td>\n",
       "      <td>tt0369610</td>\n",
       "      <td>2015</td>\n",
       "      <td>6.0</td>\n",
       "      <td>Jurassic World</td>\n",
       "      <td>Action,Adventure,Sci-Fi</td>\n",
       "      <td>Universal Pictures</td>\n",
       "      <td>652.27</td>\n",
       "      <td>1670.40</td>\n",
       "      <td>150.0</td>\n",
       "      <td>3.35</td>\n",
       "      <td>10.14</td>\n",
       "    </tr>\n",
       "    <tr>\n",
       "      <td>6</td>\n",
       "      <td>tt0385887</td>\n",
       "      <td>2019</td>\n",
       "      <td>11.0</td>\n",
       "      <td>Motherless Brooklyn</td>\n",
       "      <td>Crime,Drama</td>\n",
       "      <td>Warner Bros. Pictures</td>\n",
       "      <td>7.33</td>\n",
       "      <td>7.48</td>\n",
       "      <td>26.0</td>\n",
       "      <td>-0.72</td>\n",
       "      <td>-0.71</td>\n",
       "    </tr>\n",
       "    <tr>\n",
       "      <td>8</td>\n",
       "      <td>tt0437086</td>\n",
       "      <td>2019</td>\n",
       "      <td>2.0</td>\n",
       "      <td>Alita: Battle Angel</td>\n",
       "      <td>Action,Adventure,Sci-Fi</td>\n",
       "      <td>20th Century Fox</td>\n",
       "      <td>85.71</td>\n",
       "      <td>404.85</td>\n",
       "      <td>170.0</td>\n",
       "      <td>-0.50</td>\n",
       "      <td>1.38</td>\n",
       "    </tr>\n",
       "    <tr>\n",
       "      <td>9</td>\n",
       "      <td>tt0448115</td>\n",
       "      <td>2019</td>\n",
       "      <td>4.0</td>\n",
       "      <td>Shazam!</td>\n",
       "      <td>Action,Adventure,Comedy</td>\n",
       "      <td>New Line Cinema</td>\n",
       "      <td>140.37</td>\n",
       "      <td>364.57</td>\n",
       "      <td>100.0</td>\n",
       "      <td>0.40</td>\n",
       "      <td>2.65</td>\n",
       "    </tr>\n",
       "    <tr>\n",
       "      <td>10</td>\n",
       "      <td>tt0451279</td>\n",
       "      <td>2017</td>\n",
       "      <td>6.0</td>\n",
       "      <td>Wonder Woman</td>\n",
       "      <td>Action,Adventure,Fantasy</td>\n",
       "      <td>Warner Bros. Pictures</td>\n",
       "      <td>412.56</td>\n",
       "      <td>821.85</td>\n",
       "      <td>149.0</td>\n",
       "      <td>1.77</td>\n",
       "      <td>4.52</td>\n",
       "    </tr>\n",
       "    <tr>\n",
       "      <td>...</td>\n",
       "      <td>...</td>\n",
       "      <td>...</td>\n",
       "      <td>...</td>\n",
       "      <td>...</td>\n",
       "      <td>...</td>\n",
       "      <td>...</td>\n",
       "      <td>...</td>\n",
       "      <td>...</td>\n",
       "      <td>...</td>\n",
       "      <td>...</td>\n",
       "      <td>...</td>\n",
       "    </tr>\n",
       "    <tr>\n",
       "      <td>1968</td>\n",
       "      <td>tt8385474</td>\n",
       "      <td>2019</td>\n",
       "      <td>5.0</td>\n",
       "      <td>A Dog's Journey</td>\n",
       "      <td>Comedy,Drama,Family</td>\n",
       "      <td>Universal Pictures</td>\n",
       "      <td>22.55</td>\n",
       "      <td>71.75</td>\n",
       "      <td>16.0</td>\n",
       "      <td>0.41</td>\n",
       "      <td>3.48</td>\n",
       "    </tr>\n",
       "    <tr>\n",
       "      <td>1979</td>\n",
       "      <td>tt8663516</td>\n",
       "      <td>2019</td>\n",
       "      <td>6.0</td>\n",
       "      <td>Child's Play</td>\n",
       "      <td>Horror</td>\n",
       "      <td>NaN</td>\n",
       "      <td>29.21</td>\n",
       "      <td>44.90</td>\n",
       "      <td>10.0</td>\n",
       "      <td>1.92</td>\n",
       "      <td>3.49</td>\n",
       "    </tr>\n",
       "    <tr>\n",
       "      <td>1988</td>\n",
       "      <td>tt8772262</td>\n",
       "      <td>2019</td>\n",
       "      <td>7.0</td>\n",
       "      <td>Midsommar</td>\n",
       "      <td>Drama,Horror,Mystery</td>\n",
       "      <td>A24</td>\n",
       "      <td>27.43</td>\n",
       "      <td>41.12</td>\n",
       "      <td>10.0</td>\n",
       "      <td>1.74</td>\n",
       "      <td>3.11</td>\n",
       "    </tr>\n",
       "    <tr>\n",
       "      <td>1997</td>\n",
       "      <td>tt9024106</td>\n",
       "      <td>2019</td>\n",
       "      <td>3.0</td>\n",
       "      <td>Unplanned</td>\n",
       "      <td>Biography,Drama</td>\n",
       "      <td>Pure Flix</td>\n",
       "      <td>19.01</td>\n",
       "      <td>19.32</td>\n",
       "      <td>6.0</td>\n",
       "      <td>2.17</td>\n",
       "      <td>2.22</td>\n",
       "    </tr>\n",
       "    <tr>\n",
       "      <td>2004</td>\n",
       "      <td>tt9354944</td>\n",
       "      <td>2019</td>\n",
       "      <td>10.0</td>\n",
       "      <td>Jexi</td>\n",
       "      <td>Comedy</td>\n",
       "      <td>Lionsgate</td>\n",
       "      <td>6.55</td>\n",
       "      <td>7.26</td>\n",
       "      <td>5.0</td>\n",
       "      <td>0.31</td>\n",
       "      <td>0.45</td>\n",
       "    </tr>\n",
       "  </tbody>\n",
       "</table>\n",
       "<p>771 rows × 11 columns</p>\n",
       "</div>"
      ],
      "text/plain": [
       "       Title_ID  Release_Year  Released_Month                Title  \\\n",
       "4     tt0369610          2015             6.0       Jurassic World   \n",
       "6     tt0385887          2019            11.0  Motherless Brooklyn   \n",
       "8     tt0437086          2019             2.0  Alita: Battle Angel   \n",
       "9     tt0448115          2019             4.0              Shazam!   \n",
       "10    tt0451279          2017             6.0         Wonder Woman   \n",
       "...         ...           ...             ...                  ...   \n",
       "1968  tt8385474          2019             5.0      A Dog's Journey   \n",
       "1979  tt8663516          2019             6.0         Child's Play   \n",
       "1988  tt8772262          2019             7.0            Midsommar   \n",
       "1997  tt9024106          2019             3.0            Unplanned   \n",
       "2004  tt9354944          2019            10.0                 Jexi   \n",
       "\n",
       "                         Genre             Production  USA_Gross($)  \\\n",
       "4      Action,Adventure,Sci-Fi     Universal Pictures        652.27   \n",
       "6                  Crime,Drama  Warner Bros. Pictures          7.33   \n",
       "8      Action,Adventure,Sci-Fi       20th Century Fox         85.71   \n",
       "9      Action,Adventure,Comedy        New Line Cinema        140.37   \n",
       "10    Action,Adventure,Fantasy  Warner Bros. Pictures        412.56   \n",
       "...                        ...                    ...           ...   \n",
       "1968       Comedy,Drama,Family     Universal Pictures         22.55   \n",
       "1979                    Horror                    NaN         29.21   \n",
       "1988      Drama,Horror,Mystery                    A24         27.43   \n",
       "1997           Biography,Drama              Pure Flix         19.01   \n",
       "2004                    Comedy              Lionsgate          6.55   \n",
       "\n",
       "      Worldwide_Gross($)  Budget($)  Profit_US(%)  Profit_W(%)  \n",
       "4                1670.40      150.0          3.35        10.14  \n",
       "6                   7.48       26.0         -0.72        -0.71  \n",
       "8                 404.85      170.0         -0.50         1.38  \n",
       "9                 364.57      100.0          0.40         2.65  \n",
       "10                821.85      149.0          1.77         4.52  \n",
       "...                  ...        ...           ...          ...  \n",
       "1968               71.75       16.0          0.41         3.48  \n",
       "1979               44.90       10.0          1.92         3.49  \n",
       "1988               41.12       10.0          1.74         3.11  \n",
       "1997               19.32        6.0          2.17         2.22  \n",
       "2004                7.26        5.0          0.31         0.45  \n",
       "\n",
       "[771 rows x 11 columns]"
      ]
     },
     "execution_count": 32,
     "metadata": {},
     "output_type": "execute_result"
    }
   ],
   "source": [
    "df_genre_revenue = df_movie_revenue.copy()\n",
    "df_genre_revenue"
   ]
  },
  {
   "cell_type": "code",
   "execution_count": 33,
   "metadata": {},
   "outputs": [
    {
     "data": {
      "image/png": "[encoded data removed]",
      "text/plain": [
       "<Figure size 720x360 with 1 Axes>"
      ]
     },
     "metadata": {
      "needs_background": "light"
     },
     "output_type": "display_data"
    }
   ],
   "source": [
    "plt.figure(figsize = [10,5])\n",
    "sns.scatterplot(data = df_genre_revenue, x = \"Budget($)\", y = \"Worldwide_Gross($)\")\n",
    "plt.savefig(\"BudgetvsWGross\")\n",
    "plt.show()"
   ]
  },
  {
   "cell_type": "code",
   "execution_count": 34,
   "metadata": {},
   "outputs": [
    {
     "name": "stdout",
     "output_type": "stream",
     "text": [
      "<class 'pandas.core.frame.DataFrame'>\n",
      "RangeIndex: 54 entries, 0 to 53\n",
      "Data columns (total 11 columns):\n",
      "Title_ID              54 non-null object\n",
      "Release_Year          54 non-null int64\n",
      "Released_Month        54 non-null float64\n",
      "Title                 54 non-null object\n",
      "Genre                 54 non-null object\n",
      "Production            52 non-null object\n",
      "USA_Gross($)          54 non-null float64\n",
      "Worldwide_Gross($)    54 non-null float64\n",
      "Budget($)             54 non-null float64\n",
      "Profit_US(%)          54 non-null float64\n",
      "Profit_W(%)           54 non-null float64\n",
      "dtypes: float64(6), int64(1), object(4)\n",
      "memory usage: 4.8+ KB\n"
     ]
    },
    {
     "data": {
      "text/plain": [
       "None"
      ]
     },
     "metadata": {},
     "output_type": "display_data"
    },
    {
     "data": {
      "text/html": [
       "<div>\n",
       "<style scoped>\n",
       "    .dataframe tbody tr th:only-of-type {\n",
       "        vertical-align: middle;\n",
       "    }\n",
       "\n",
       "    .dataframe tbody tr th {\n",
       "        vertical-align: top;\n",
       "    }\n",
       "\n",
       "    .dataframe thead th {\n",
       "        text-align: right;\n",
       "    }\n",
       "</style>\n",
       "<table border=\"1\" class=\"dataframe\">\n",
       "  <thead>\n",
       "    <tr style=\"text-align: right;\">\n",
       "      <th></th>\n",
       "      <th>Profit_W(%)</th>\n",
       "    </tr>\n",
       "    <tr>\n",
       "      <th>Genre</th>\n",
       "      <th></th>\n",
       "    </tr>\n",
       "  </thead>\n",
       "  <tbody>\n",
       "    <tr>\n",
       "      <td>Horror</td>\n",
       "      <td>5.954000</td>\n",
       "    </tr>\n",
       "    <tr>\n",
       "      <td>Drama</td>\n",
       "      <td>2.924545</td>\n",
       "    </tr>\n",
       "    <tr>\n",
       "      <td>Comedy</td>\n",
       "      <td>1.906538</td>\n",
       "    </tr>\n",
       "    <tr>\n",
       "      <td>Musical</td>\n",
       "      <td>0.270000</td>\n",
       "    </tr>\n",
       "  </tbody>\n",
       "</table>\n",
       "</div>"
      ],
      "text/plain": [
       "         Profit_W(%)\n",
       "Genre               \n",
       "Horror      5.954000\n",
       "Drama       2.924545\n",
       "Comedy      1.906538\n",
       "Musical     0.270000"
      ]
     },
     "execution_count": 34,
     "metadata": {},
     "output_type": "execute_result"
    }
   ],
   "source": [
    "#Check top genres excluding those movies under multiple genres\n",
    "q = \"\"\"SELECT * FROM df_genre_revenue WHERE Genre NOT LIKE \"%,%\";\"\"\"\n",
    "df_genre_ = pysqldf(q)\n",
    "display(df_genre_.info())\n",
    "df_genre_[[\"Genre\", \"Profit_W(%)\"]].groupby(\"Genre\").mean().sort_values(\"Profit_W(%)\", ascending = False)"
   ]
  },
  {
   "cell_type": "code",
   "execution_count": 35,
   "metadata": {},
   "outputs": [
    {
     "data": {
      "text/plain": [
       "<matplotlib.axes._subplots.AxesSubplot at 0x1a24698cc0>"
      ]
     },
     "execution_count": 35,
     "metadata": {},
     "output_type": "execute_result"
    },
    {
     "data": {
      "image/png": "[encoded data removed]",
      "text/plain": [
       "<Figure size 720x360 with 1 Axes>"
      ]
     },
     "metadata": {
      "needs_background": "light"
     },
     "output_type": "display_data"
    }
   ],
   "source": [
    "plt.figure(figsize = [10,5])\n",
    "sns.boxplot(data = df_genre_, x = df_genre_[\"Genre\"], y = df_genre_[\"Profit_W(%)\"])"
   ]
  },
  {
   "cell_type": "code",
   "execution_count": 36,
   "metadata": {},
   "outputs": [
    {
     "data": {
      "text/plain": [
       "count     5.00000\n",
       "mean      5.95400\n",
       "std       7.56309\n",
       "min      -0.24000\n",
       "25%       2.30000\n",
       "50%       3.49000\n",
       "75%       5.21000\n",
       "max      19.01000\n",
       "Name: Profit_W(%), dtype: float64"
      ]
     },
     "execution_count": 36,
     "metadata": {},
     "output_type": "execute_result"
    }
   ],
   "source": [
    "#Check drama stats\n",
    "df_genre_.query(\"Genre == 'Horror'\")[\"Profit_W(%)\"].describe()"
   ]
  },
  {
   "cell_type": "code",
   "execution_count": 37,
   "metadata": {},
   "outputs": [
    {
     "data": {
      "text/plain": [
       "count    26.000000\n",
       "mean      1.906538\n",
       "std       1.890460\n",
       "min      -0.930000\n",
       "25%       0.697500\n",
       "50%       1.950000\n",
       "75%       2.755000\n",
       "max       8.200000\n",
       "Name: Profit_W(%), dtype: float64"
      ]
     },
     "execution_count": 37,
     "metadata": {},
     "output_type": "execute_result"
    }
   ],
   "source": [
    "#Check comedy stats\n",
    "df_genre_.query(\"Genre == 'Comedy'\")[\"Profit_W(%)\"].describe()"
   ]
  },
  {
   "cell_type": "code",
   "execution_count": 38,
   "metadata": {},
   "outputs": [
    {
     "data": {
      "text/plain": [
       "count    22.000000\n",
       "mean      2.924545\n",
       "std       6.007583\n",
       "min      -0.950000\n",
       "25%      -0.772500\n",
       "50%       0.345000\n",
       "75%       4.342500\n",
       "max      23.420000\n",
       "Name: Profit_W(%), dtype: float64"
      ]
     },
     "execution_count": 38,
     "metadata": {},
     "output_type": "execute_result"
    }
   ],
   "source": [
    "#Check horror stats\n",
    "df_genre_.query(\"Genre == 'Drama'\")[\"Profit_W(%)\"].describe()"
   ]
  },
  {
   "cell_type": "code",
   "execution_count": 39,
   "metadata": {},
   "outputs": [],
   "source": [
    "#Create subsets for horror movies.  All movies under genre horror only.\n",
    "df_genre_comedy = df_genre_.query(\"Genre == 'Comedy'\")"
   ]
  },
  {
   "cell_type": "code",
   "execution_count": 40,
   "metadata": {},
   "outputs": [],
   "source": [
    "#Create subsets for comedy movies.  All movies under genre comedy only.\n",
    "df_genre_drama = df_genre_.query(\"Genre == 'Drama'\")"
   ]
  },
  {
   "cell_type": "code",
   "execution_count": 41,
   "metadata": {},
   "outputs": [
    {
     "data": {
      "text/plain": [
       "<matplotlib.axes._subplots.AxesSubplot at 0x1a24766c88>"
      ]
     },
     "execution_count": 41,
     "metadata": {},
     "output_type": "execute_result"
    },
    {
     "data": {
      "image/png": "[encoded data removed]",
      "text/plain": [
       "<Figure size 432x288 with 1 Axes>"
      ]
     },
     "metadata": {
      "needs_background": "light"
     },
     "output_type": "display_data"
    }
   ],
   "source": [
    "#Check distribution\n",
    "sns.distplot(df_genre_comedy[\"Profit_W(%)\"])\n",
    "sns.distplot(df_genre_drama[\"Profit_W(%)\"])"
   ]
  },
  {
   "cell_type": "markdown",
   "metadata": {},
   "source": [
    "#### For the above subsets, perform random sampling then compare sample variances and check for normality.\n",
    "\n",
    "H0: sample comes from a normal distribution\n",
    "\n",
    "HA: sample does not from a normal distribution"
   ]
  },
  {
   "cell_type": "code",
   "execution_count": 42,
   "metadata": {},
   "outputs": [
    {
     "data": {
      "text/plain": [
       "NormaltestResult(statistic=3.2341355086702035, pvalue=0.19847983829116334)"
      ]
     },
     "execution_count": 42,
     "metadata": {},
     "output_type": "execute_result"
    }
   ],
   "source": [
    "#Perfom random sampling and normality test on comedy movies\n",
    "comedy_sample = create_sample_distribution(df_genre_comedy[\"Profit_W(%)\"], dist_size=100, n=30)\n",
    "stats.normaltest(comedy_sample)"
   ]
  },
  {
   "cell_type": "code",
   "execution_count": 43,
   "metadata": {},
   "outputs": [
    {
     "data": {
      "text/plain": [
       "NormaltestResult(statistic=0.3186970495131137, pvalue=0.852699120421283)"
      ]
     },
     "execution_count": 43,
     "metadata": {},
     "output_type": "execute_result"
    }
   ],
   "source": [
    "#Perfom random sampling and normality test on comedy movies\n",
    "drama_sample = create_sample_distribution(df_genre_drama[\"Profit_W(%)\"], dist_size=100, n=30)\n",
    "stats.normaltest(drama_sample)"
   ]
  },
  {
   "cell_type": "code",
   "execution_count": 44,
   "metadata": {},
   "outputs": [
    {
     "data": {
      "image/png": "[encoded data removed]",
      "text/plain": [
       "<Figure size 432x288 with 1 Axes>"
      ]
     },
     "metadata": {
      "needs_background": "light"
     },
     "output_type": "display_data"
    }
   ],
   "source": [
    "sns.distplot(comedy_sample, label = \"Comedy Average Profit(%)\")\n",
    "sns.distplot(drama_sample, label = \"Drama Average Profit(%)\")\n",
    "plt.legend()\n",
    "plt.savefig(\"ComedyDrama\")\n",
    "plt.show()"
   ]
  },
  {
   "cell_type": "code",
   "execution_count": 45,
   "metadata": {},
   "outputs": [
    {
     "name": "stdout",
     "output_type": "stream",
     "text": [
      "comedy sample mean is 1.91006\n",
      "comedy sample variance is 0.10002939703703709\n"
     ]
    }
   ],
   "source": [
    "comedy_variance = sample_variance(comedy_sample)\n",
    "comedy_mean = np.mean(comedy_sample)\n",
    "print(\"comedy sample mean is\", comedy_mean)\n",
    "print(\"comedy sample variance is\", comedy_variance)"
   ]
  },
  {
   "cell_type": "code",
   "execution_count": 46,
   "metadata": {
    "scrolled": true
   },
   "outputs": [
    {
     "name": "stdout",
     "output_type": "stream",
     "text": [
      "drama sample mean is 2.8150100000000005\n",
      "drama sample variance is 1.0138231951851857\n"
     ]
    }
   ],
   "source": [
    "drama_variance = sample_variance(drama_sample)\n",
    "drama_mean = np.mean(drama_sample)\n",
    "print(\"drama sample mean is\", drama_mean)\n",
    "print(\"drama sample variance is\", drama_variance)"
   ]
  },
  {
   "cell_type": "code",
   "execution_count": 47,
   "metadata": {},
   "outputs": [
    {
     "data": {
      "text/plain": [
       "-0.9049500000000004"
      ]
     },
     "execution_count": 47,
     "metadata": {},
     "output_type": "execute_result"
    }
   ],
   "source": [
    "comedy_mean - drama_mean"
   ]
  },
  {
   "cell_type": "markdown",
   "metadata": {},
   "source": [
    " - p-values for the above normality tests are greater than the alpha = 0.05, H0 cannot be rejected then\n",
    "\n",
    " - comedy and drama movie sample variances are not very similar"
   ]
  },
  {
   "cell_type": "markdown",
   "metadata": {},
   "source": [
    "#### Perform one-tailed and two-tailed Welch's t-tests (alpha = 0.05)\n",
    "\n",
    "H0: The mean profit difference between drama and comedy movies is equal to zero (comedy - drama = 0)\n",
    "\n",
    "HA1: The mean profit difference between drama and comedy movies is not equal to zero (comedy - drama != 0)\n",
    "\n",
    "HA2: The mean profit difference between drama and comedy movies is greater than zero (comedy - drama > 0)"
   ]
  },
  {
   "cell_type": "code",
   "execution_count": 48,
   "metadata": {},
   "outputs": [],
   "source": [
    "alpha = 0.05\n",
    "df = len(drama_sample) + len(comedy_sample) - 2 #degrees of freedom\n",
    "t_stat, p_value = stats.ttest_ind(comedy_sample , drama_sample, equal_var=False) #two-tailed p-value\n",
    "#t_crit = stats.t.ppf(1 - alpha, df) #same for all null and alternative hypotheses"
   ]
  },
  {
   "cell_type": "code",
   "execution_count": 49,
   "metadata": {
    "scrolled": true
   },
   "outputs": [
    {
     "name": "stdout",
     "output_type": "stream",
     "text": [
      "t-statistic is  -8.574537902443938\n",
      "p-value is  4.4626117564021676e-14\n",
      "\n",
      "\n",
      "p-value < alpha/2: we reject the null hypothesis at 5% significance level in support of the alternative\n"
     ]
    }
   ],
   "source": [
    "#HA1: The mean profit difference between drama and comedy movies is not equal to zero (drama - comedy != 0)\n",
    "\n",
    "print(\"t-statistic is \", t_stat)\n",
    "print(\"p-value is \", p_value)\n",
    "print(\"\\n\")\n",
    "if p_value < alpha/2:\n",
    "    print(\"p-value < alpha/2: we reject the null hypothesis at 5% significance level in support of the alternative\")\n",
    "else:\n",
    "    print(\"p-value > alpha/2: we do not the null hypothesis at 5% significance level in support of the alternative\")"
   ]
  },
  {
   "cell_type": "code",
   "execution_count": 50,
   "metadata": {
    "scrolled": true
   },
   "outputs": [
    {
     "name": "stdout",
     "output_type": "stream",
     "text": [
      "t-statistic is  -8.574537902443938\n",
      "p-value is  4.4626117564021676e-14\n",
      "\n",
      "\n",
      "p-value < alpha: we reject the null hypothesis at 5% significance level in support of the alternative\n"
     ]
    }
   ],
   "source": [
    "#HA2: The mean profit difference between drama and comedy movies is greater than zero (drama - comedy > 0)\n",
    "\n",
    "print(\"t-statistic is \", t_stat)\n",
    "print(\"p-value is \", p_value)\n",
    "print(\"\\n\")\n",
    "if p_value < alpha:\n",
    "    print(\"p-value < alpha: we reject the null hypothesis at 5% significance level in support of the alternative\")\n",
    "else:\n",
    "    print(\"p-value > alpha: we do not the null hypothesis at 5% significance level in support of the alternative\")"
   ]
  },
  {
   "cell_type": "code",
   "execution_count": null,
   "metadata": {},
   "outputs": [],
   "source": []
  }
 ],
 "metadata": {
  "kernelspec": {
   "display_name": "Python [conda env:learn-env] *",
   "language": "python",
   "name": "conda-env-learn-env-py"
  },
  "language_info": {
   "codemirror_mode": {
    "name": "ipython",
    "version": 3
   },
   "file_extension": ".py",
   "mimetype": "text/x-python",
   "name": "python",
   "nbconvert_exporter": "python",
   "pygments_lexer": "ipython3",
   "version": "3.6.6"
  }
 },
 "nbformat": 4,
 "nbformat_minor": 4
}
