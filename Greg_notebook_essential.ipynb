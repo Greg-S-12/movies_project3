{
 "cells": [
  {
   "cell_type": "code",
   "execution_count": 540,
   "metadata": {},
   "outputs": [],
   "source": [
    "import math\n",
    "import pandas as pd\n",
    "import numpy as np\n",
    "import seaborn as sns\n",
    "import scipy\n",
    "import scipy.stats as st\n",
    "import CleaningFunctions as cf\n",
    "import matplotlib.pyplot as plt\n",
    "%matplotlib inline\n"
   ]
  },
  {
   "cell_type": "code",
   "execution_count": 481,
   "metadata": {},
   "outputs": [
    {
     "name": "stdout",
     "output_type": "stream",
     "text": [
      "The autoreload extension is already loaded. To reload it, use:\n",
      "  %reload_ext autoreload\n"
     ]
    }
   ],
   "source": [
    "%load_ext autoreload\n",
    "%autoreload 2"
   ]
  },
  {
   "cell_type": "markdown",
   "metadata": {},
   "source": [
    "## Reading in the data and begin cleaning"
   ]
  },
  {
   "cell_type": "code",
   "execution_count": 271,
   "metadata": {},
   "outputs": [
    {
     "name": "stdout",
     "output_type": "stream",
     "text": [
      "<class 'pandas.core.frame.DataFrame'>\n",
      "RangeIndex: 2015 entries, 0 to 2014\n",
      "Data columns (total 22 columns):\n",
      "tconst                      2015 non-null object\n",
      "titleType                   2015 non-null object\n",
      "primaryTitle                2015 non-null object\n",
      "originalTitle               2015 non-null object\n",
      "isAdult                     2015 non-null int64\n",
      "startYear                   2015 non-null int64\n",
      "endYear                     2015 non-null object\n",
      "runtimeMinutes              2015 non-null int64\n",
      "genres                      2015 non-null object\n",
      "title                       2015 non-null object\n",
      "check                       2015 non-null int64\n",
      "averageRating               2015 non-null float64\n",
      "numVotes                    2015 non-null int64\n",
      "budget_LCY                  1004 non-null object\n",
      "gross_USA_USD               1085 non-null float64\n",
      "cumm_worldwide_gross_USD    1386 non-null float64\n",
      "Released_Date               2005 non-null object\n",
      "Released_Month              2005 non-null float64\n",
      "Rotten_Tomatoes             1522 non-null float64\n",
      "Metascore                   1461 non-null float64\n",
      "Actors                      2015 non-null object\n",
      "Production                  1678 non-null object\n",
      "dtypes: float64(6), int64(5), object(11)\n",
      "memory usage: 346.4+ KB\n"
     ]
    }
   ],
   "source": [
    "# Read in data as pandas dataframe\n",
    "\n",
    "df=pd.read_csv(\"2016_2019_USmovies_API.csv\")\n",
    "df.head()\n",
    "\n",
    "# Check what our column titles are so we can rename/remove them\n",
    "df.columns\n",
    "\n",
    "df.info()"
   ]
  },
  {
   "cell_type": "code",
   "execution_count": 541,
   "metadata": {},
   "outputs": [
    {
     "data": {
      "text/html": [
       "<div>\n",
       "<style scoped>\n",
       "    .dataframe tbody tr th:only-of-type {\n",
       "        vertical-align: middle;\n",
       "    }\n",
       "\n",
       "    .dataframe tbody tr th {\n",
       "        vertical-align: top;\n",
       "    }\n",
       "\n",
       "    .dataframe thead th {\n",
       "        text-align: right;\n",
       "    }\n",
       "</style>\n",
       "<table border=\"1\" class=\"dataframe\">\n",
       "  <thead>\n",
       "    <tr style=\"text-align: right;\">\n",
       "      <th></th>\n",
       "      <th>Title_ID</th>\n",
       "      <th>Release_Year</th>\n",
       "      <th>Runtime(Minutes)</th>\n",
       "      <th>Genre</th>\n",
       "      <th>Title</th>\n",
       "      <th>Rating</th>\n",
       "      <th>Number_of_Votes</th>\n",
       "      <th>Budget(LCY)</th>\n",
       "      <th>USA_Gross($)</th>\n",
       "      <th>Worldwide_Gross($)</th>\n",
       "      <th>Released_Date</th>\n",
       "      <th>Released_Month</th>\n",
       "      <th>Rotten_Tomatoes</th>\n",
       "      <th>Metascore</th>\n",
       "      <th>Actors</th>\n",
       "      <th>Production</th>\n",
       "    </tr>\n",
       "  </thead>\n",
       "  <tbody>\n",
       "    <tr>\n",
       "      <th>0</th>\n",
       "      <td>tt0069049</td>\n",
       "      <td>2018</td>\n",
       "      <td>122</td>\n",
       "      <td>Drama</td>\n",
       "      <td>The Other Side of the Wind</td>\n",
       "      <td>6.9</td>\n",
       "      <td>4989</td>\n",
       "      <td>NaN</td>\n",
       "      <td>NaN</td>\n",
       "      <td>NaN</td>\n",
       "      <td>02 Nov 2018</td>\n",
       "      <td>11.0</td>\n",
       "      <td>83.0</td>\n",
       "      <td>78.0</td>\n",
       "      <td>John Huston, Oja Kodar, Peter Bogdanovich, Sus...</td>\n",
       "      <td>Netflix</td>\n",
       "    </tr>\n",
       "    <tr>\n",
       "      <th>1</th>\n",
       "      <td>tt0339736</td>\n",
       "      <td>2017</td>\n",
       "      <td>98</td>\n",
       "      <td>Horror</td>\n",
       "      <td>The Evil Within</td>\n",
       "      <td>5.5</td>\n",
       "      <td>2572</td>\n",
       "      <td>$6000000</td>\n",
       "      <td>NaN</td>\n",
       "      <td>NaN</td>\n",
       "      <td>30 Aug 2017</td>\n",
       "      <td>8.0</td>\n",
       "      <td>100.0</td>\n",
       "      <td>NaN</td>\n",
       "      <td>Sean Patrick Flanery, Dina Meyer, Frederick Ko...</td>\n",
       "      <td>NaN</td>\n",
       "    </tr>\n",
       "    <tr>\n",
       "      <th>2</th>\n",
       "      <td>tt0360556</td>\n",
       "      <td>2018</td>\n",
       "      <td>100</td>\n",
       "      <td>Drama,Sci-Fi,Thriller</td>\n",
       "      <td>Fahrenheit 451</td>\n",
       "      <td>4.9</td>\n",
       "      <td>15295</td>\n",
       "      <td>NaN</td>\n",
       "      <td>NaN</td>\n",
       "      <td>NaN</td>\n",
       "      <td>20 May 2018</td>\n",
       "      <td>5.0</td>\n",
       "      <td>32.0</td>\n",
       "      <td>NaN</td>\n",
       "      <td>Michael B. Jordan, Aaron Davis, Cindy Katz, Mi...</td>\n",
       "      <td>HBO Films</td>\n",
       "    </tr>\n",
       "  </tbody>\n",
       "</table>\n",
       "</div>"
      ],
      "text/plain": [
       "    Title_ID  Release_Year  Runtime(Minutes)                  Genre  \\\n",
       "0  tt0069049          2018               122                  Drama   \n",
       "1  tt0339736          2017                98                 Horror   \n",
       "2  tt0360556          2018               100  Drama,Sci-Fi,Thriller   \n",
       "\n",
       "                        Title  Rating  Number_of_Votes Budget(LCY)  \\\n",
       "0  The Other Side of the Wind     6.9             4989         NaN   \n",
       "1             The Evil Within     5.5             2572    $6000000   \n",
       "2              Fahrenheit 451     4.9            15295         NaN   \n",
       "\n",
       "   USA_Gross($)  Worldwide_Gross($) Released_Date  Released_Month  \\\n",
       "0           NaN                 NaN   02 Nov 2018            11.0   \n",
       "1           NaN                 NaN   30 Aug 2017             8.0   \n",
       "2           NaN                 NaN   20 May 2018             5.0   \n",
       "\n",
       "   Rotten_Tomatoes  Metascore  \\\n",
       "0             83.0       78.0   \n",
       "1            100.0        NaN   \n",
       "2             32.0        NaN   \n",
       "\n",
       "                                              Actors Production  \n",
       "0  John Huston, Oja Kodar, Peter Bogdanovich, Sus...    Netflix  \n",
       "1  Sean Patrick Flanery, Dina Meyer, Frederick Ko...        NaN  \n",
       "2  Michael B. Jordan, Aaron Davis, Cindy Katz, Mi...  HBO Films  "
      ]
     },
     "execution_count": 541,
     "metadata": {},
     "output_type": "execute_result"
    }
   ],
   "source": [
    "# Let's clean the data and rename columns so we know what we're looking at\n",
    "\n",
    "columns=[\"tconst\",\"title\",\"isAdult\",\"startYear\",\"runtimeMinutes\",\"check\",\"averageRating\",\"genres\",\"numVotes\",\n",
    "         \"budget_LCY\",\"gross_USA_USD\",\"cumm_worldwide_gross_USD\",]\n",
    "names=[\"Title_ID\",\"Title\",\"Adult\",\"Release_Year\",\"Runtime(Minutes)\",\"Check\",\"Rating\",\"Genre\",\"Number_of_Votes\",\n",
    "      \"Budget(LCY)\",\"USA_Gross($)\",\"Worldwide_Gross($)\"]\n",
    "\n",
    "for column,name in list(zip(columns,names)):\n",
    "    df.rename(columns={column:name},inplace=True)\n",
    "    \n",
    "df.head(3)"
   ]
  },
  {
   "cell_type": "code",
   "execution_count": 529,
   "metadata": {},
   "outputs": [
    {
     "data": {
      "text/plain": [
       "<matplotlib.axes._subplots.AxesSubplot at 0x1a21181cc0>"
      ]
     },
     "execution_count": 529,
     "metadata": {},
     "output_type": "execute_result"
    },
    {
     "data": {
      "image/png": "[encoded data removed]",
      "text/plain": [
       "<Figure size 432x288 with 1 Axes>"
      ]
     },
     "metadata": {
      "needs_background": "light"
     },
     "output_type": "display_data"
    }
   ],
   "source": [
    "df.columns\n",
    "sns.scatterplot(data=df,x=\"Runtime(Minutes)\",y=\"Rating\")"
   ]
  },
  {
   "cell_type": "code",
   "execution_count": 543,
   "metadata": {},
   "outputs": [
    {
     "data": {
      "text/plain": [
       "Index(['Title_ID', 'Release_Year', 'Runtime(Minutes)', 'Genre', 'Title',\n",
       "       'Rating', 'Number_of_Votes', 'Budget(LCY)', 'USA_Gross($)',\n",
       "       'Worldwide_Gross($)', 'Released_Date', 'Released_Month',\n",
       "       'Rotten_Tomatoes', 'Metascore', 'Actors', 'Production'],\n",
       "      dtype='object')"
      ]
     },
     "execution_count": 543,
     "metadata": {},
     "output_type": "execute_result"
    }
   ],
   "source": [
    "# Now to drop columns we aren't interested in or that hold irrelevant data\n",
    "\n",
    "df=df.drop(columns=[\"titleType\",\"primaryTitle\",\"originalTitle\",\"endYear\",\"Adult\",\"Check\"])\n",
    "\n",
    "df.columns\n",
    "\n",
    "# Save as csv\n",
    "# df.to_csv(\"Full_OMDB_Table.csv\",index=False)"
   ]
  },
  {
   "cell_type": "code",
   "execution_count": 275,
   "metadata": {},
   "outputs": [
    {
     "name": "stdout",
     "output_type": "stream",
     "text": [
      "       Release_Year  Runtime(Minutes)       Rating  Number_of_Votes  \\\n",
      "count   2015.000000       2015.000000  2015.000000      2015.000000   \n",
      "mean    2016.715633        101.181141     5.920447     42005.702233   \n",
      "std        1.355422         15.783114     1.051272     91376.330598   \n",
      "min     2014.000000         46.000000     1.400000       984.000000   \n",
      "25%     2016.000000         90.000000     5.300000      2377.500000   \n",
      "50%     2017.000000         98.000000     6.000000      7601.000000   \n",
      "75%     2018.000000        109.000000     6.600000     36685.500000   \n",
      "max     2019.000000        209.000000    10.000000    844981.000000   \n",
      "\n",
      "       USA_Gross($)  Worldwide_Gross($)  Released_Month  Rotten_Tomatoes  \\\n",
      "count   1085.000000         1386.000000     2005.000000      1522.000000   \n",
      "mean      46.304341           91.579856        6.684788        55.818660   \n",
      "std       91.560188          225.040751        3.378692        28.335085   \n",
      "min        0.000000            0.000000        1.000000         0.000000   \n",
      "25%        0.650000            0.260000        4.000000        31.000000   \n",
      "50%       11.960000            7.230000        7.000000        59.000000   \n",
      "75%       49.950000           72.265000       10.000000        82.000000   \n",
      "max      936.660000         2797.800000       12.000000       100.000000   \n",
      "\n",
      "         Metascore  \n",
      "count  1461.000000  \n",
      "mean     53.517454  \n",
      "std      17.309092  \n",
      "min       3.000000  \n",
      "25%      41.000000  \n",
      "50%      54.000000  \n",
      "75%      66.000000  \n",
      "max      99.000000  \n",
      "<class 'pandas.core.frame.DataFrame'>\n",
      "RangeIndex: 2015 entries, 0 to 2014\n",
      "Data columns (total 16 columns):\n",
      "Title_ID              2015 non-null object\n",
      "Release_Year          2015 non-null int64\n",
      "Runtime(Minutes)      2015 non-null int64\n",
      "Genre                 2015 non-null object\n",
      "Title                 2015 non-null object\n",
      "Rating                2015 non-null float64\n",
      "Number_of_Votes       2015 non-null int64\n",
      "Budget(LCY)           1004 non-null object\n",
      "USA_Gross($)          1085 non-null float64\n",
      "Worldwide_Gross($)    1386 non-null float64\n",
      "Released_Date         2005 non-null object\n",
      "Released_Month        2005 non-null float64\n",
      "Rotten_Tomatoes       1522 non-null float64\n",
      "Metascore             1461 non-null float64\n",
      "Actors                2015 non-null object\n",
      "Production            1678 non-null object\n",
      "dtypes: float64(6), int64(3), object(7)\n",
      "memory usage: 252.0+ KB\n",
      "None\n",
      "(2015, 16)\n"
     ]
    }
   ],
   "source": [
    "# Now to check our data makes sense and we have no nulls\n",
    "print(df.describe())\n",
    "print(df.info())\n",
    "print(df.shape)"
   ]
  },
  {
   "cell_type": "markdown",
   "metadata": {},
   "source": [
    "## Subset our data to what we're interested in.\n",
    "Since we will be looking at genres we want to see what different genres we have and split these into different categories. We will also be interested in the production company -> IE Netflix"
   ]
  },
  {
   "cell_type": "code",
   "execution_count": 505,
   "metadata": {},
   "outputs": [
    {
     "data": {
      "text/plain": [
       "Index(['Title_ID', 'Release_Year', 'Runtime(Minutes)', 'Genre', 'Title',\n",
       "       'Rating', 'Number_of_Votes', 'Budget(LCY)', 'USA_Gross($)',\n",
       "       'Worldwide_Gross($)', 'Released_Date', 'Released_Month',\n",
       "       'Rotten_Tomatoes', 'Metascore', 'Actors', 'Production'],\n",
       "      dtype='object')"
      ]
     },
     "execution_count": 505,
     "metadata": {},
     "output_type": "execute_result"
    }
   ],
   "source": [
    "df.columns"
   ]
  },
  {
   "cell_type": "code",
   "execution_count": 512,
   "metadata": {},
   "outputs": [],
   "source": [
    "# Drop columns which contain nulls as they aren't relevant to ratings and also average our 3 ratings\n",
    "# We will drop rotten tomatoes scores as the user base is far smaller than imdb and will skew our results.\n",
    "# Metascore is also not comparable as these are not user based scores they are weighted critic reviews\n",
    "# We will compare the scores for each of these platforms in another section\n",
    "\n",
    "df_ratings=df.drop(columns=[\"Released_Month\",\"Released_Date\",\"Rotten_Tomatoes\",\"Metascore\"])\n"
   ]
  },
  {
   "cell_type": "code",
   "execution_count": 513,
   "metadata": {},
   "outputs": [],
   "source": [
    "# Create binaries for the genres we're interested in for analysis later on"
   ]
  },
  {
   "cell_type": "code",
   "execution_count": 514,
   "metadata": {},
   "outputs": [
    {
     "name": "stdout",
     "output_type": "stream",
     "text": [
      "There are  112 Drama movies in this dataset\n",
      "There are  101 Comedy movies in this dataset\n",
      "There are  64  Horror movies in this dataset\n",
      "There are  7   Action movies in this dataset\n",
      "There are  4   Sci-Fi movies in this dataset\n",
      "There are  3   Romance movies in this dataset\n",
      "There are  0   Adventure movies in this dataset\n"
     ]
    }
   ],
   "source": [
    "# Now split into separate databases based on genre\n",
    "\n",
    "df_comedy=df_ratings.loc[df_ratings[\"Genre\"]==\"Comedy\",:]\n",
    "df_drama=df_ratings.loc[df_ratings[\"Genre\"]==\"Drama\",:]\n",
    "df_horror=df_ratings.loc[df_ratings[\"Genre\"]==\"Horror\",:]\n",
    "df_scifi=df_ratings.loc[df_ratings[\"Genre\"]==\"Sci-Fi\",:]\n",
    "df_action=df_ratings.loc[df_ratings[\"Genre\"]==\"Action\",:]\n",
    "df_romance=df_ratings.loc[df_ratings[\"Genre\"]==\"Romance\",:]\n",
    "df_adventure=df_ratings.loc[df_ratings[\"Genre\"]==\"Adventure\",:]\n",
    "\n",
    "\n",
    "# Print shape of dataframe so we know the sample sizes\n",
    "\n",
    "print(\"There are \",len(df_drama),\"Drama movies in this dataset\")\n",
    "print(\"There are \",len(df_comedy),\"Comedy movies in this dataset\")\n",
    "print(\"There are \",len(df_horror),\" Horror movies in this dataset\")\n",
    "print(\"There are \",len(df_action),\"  Action movies in this dataset\")\n",
    "print(\"There are \",len(df_scifi),\"  Sci-Fi movies in this dataset\")\n",
    "print(\"There are \",len(df_romance),\"  Romance movies in this dataset\")\n",
    "print(\"There are \",len(df_adventure),\"  Adventure movies in this dataset\")\n"
   ]
  },
  {
   "cell_type": "markdown",
   "metadata": {},
   "source": [
    "## Now we need to plot our data to check for normality"
   ]
  },
  {
   "cell_type": "code",
   "execution_count": 515,
   "metadata": {},
   "outputs": [
    {
     "name": "stderr",
     "output_type": "stream",
     "text": [
      "/Users/flatironschool/anaconda3/envs/learn-env/lib/python3.6/site-packages/scipy/stats/stats.py:1713: FutureWarning: Using a non-tuple sequence for multidimensional indexing is deprecated; use `arr[tuple(seq)]` instead of `arr[seq]`. In the future this will be interpreted as an array index, `arr[np.array(seq)]`, which will result either in an error or a different result.\n",
      "  return np.add.reduce(sorted[indexer] * weights, axis=axis) / sumval\n"
     ]
    },
    {
     "data": {
      "text/plain": [
       "<matplotlib.axes._subplots.AxesSubplot at 0x1a20981ba8>"
      ]
     },
     "execution_count": 515,
     "metadata": {},
     "output_type": "execute_result"
    },
    {
     "data": {
      "image/png": "[encoded data removed]",
      "text/plain": [
       "<Figure size 432x288 with 1 Axes>"
      ]
     },
     "metadata": {
      "needs_background": "light"
     },
     "output_type": "display_data"
    }
   ],
   "source": [
    "# We can see the above genres are statistically different from each other, so genres definatelyaffect the rating.\n",
    "# As drama has the highest rating, we now want to know if it statistically different from the population, thereby saying\n",
    "# drama films do garner a better rating, and can advise which is the genre most likely to be a success.\n",
    "\n",
    "\n",
    "# Remove our sample set from the population so it doesn't skew our mean and plot against each other.\n",
    "\n",
    "df_no_drama=df_ratings.loc[df_ratings[\"Genre\"]!=\"Drama\",:]\n",
    "\n",
    "sns.distplot(df_no_drama.Rating)\n",
    "sns.distplot(df_drama.Rating)\n",
    "\n",
    "# sns.distplot(df_comedy.Rating)\n",
    "# sns.distplot(df_horror.Rating)\n",
    "# sns.distplot(df_scifi.Rating)\n",
    "# sns.distplot(df_action.Rating)\n",
    "# sns.distplot(df_romance.Rating)"
   ]
  },
  {
   "cell_type": "code",
   "execution_count": 517,
   "metadata": {},
   "outputs": [
    {
     "name": "stdout",
     "output_type": "stream",
     "text": [
      "The drama movies sample set is not normal given:  NormaltestResult(statistic=15.285855141424646, pvalue=0.00047942285126625054) \n",
      " It has  112  values.\n",
      "The rest of the data is not normal given:  NormaltestResult(statistic=58.066922240332374, pvalue=2.459959997803095e-13) \n",
      " It has  1903  values.\n"
     ]
    }
   ],
   "source": [
    "print(\"The drama movies sample set is not normal given: \",st.normaltest(df_drama.Rating),\"\\n It has \",len(df_drama),\" values.\")\n",
    "print(\"The rest of the data is not normal given: \",st.normaltest(df_no_drama.Rating),\"\\n It has \",len(df_no_drama),\" values.\")"
   ]
  },
  {
   "cell_type": "markdown",
   "metadata": {},
   "source": [
    "## Improve our data set such that it is normal and we can perform our tests!"
   ]
  },
  {
   "cell_type": "code",
   "execution_count": 526,
   "metadata": {},
   "outputs": [
    {
     "name": "stdout",
     "output_type": "stream",
     "text": [
      "NormaltestResult(statistic=0.16480160810729755, pvalue=0.9209027831492602)\n"
     ]
    },
    {
     "name": "stderr",
     "output_type": "stream",
     "text": [
      "/Users/flatironschool/anaconda3/envs/learn-env/lib/python3.6/site-packages/scipy/stats/stats.py:1713: FutureWarning: Using a non-tuple sequence for multidimensional indexing is deprecated; use `arr[tuple(seq)]` instead of `arr[seq]`. In the future this will be interpreted as an array index, `arr[np.array(seq)]`, which will result either in an error or a different result.\n",
      "  return np.add.reduce(sorted[indexer] * weights, axis=axis) / sumval\n"
     ]
    },
    {
     "data": {
      "image/png": "[encoded data removed]",
      "text/plain": [
       "<Figure size 432x288 with 1 Axes>"
      ]
     },
     "metadata": {
      "needs_background": "light"
     },
     "output_type": "display_data"
    }
   ],
   "source": [
    "df_drama_normal=create_sample_distribution(df_drama.Rating,300,n=30)\n",
    "sns.distplot(df_drama_normal)\n",
    "print(st.normaltest(df_drama_normal))"
   ]
  },
  {
   "cell_type": "markdown",
   "metadata": {},
   "source": [
    "## Does the rating of each genre differ from each other?\n",
    "### What is the best genre to choose to maximise rating?\n",
    "\n",
    "In this section we will perform a simple one-way ANOVA just to see if our main 3 genres difference in rankings is statistically significant. From this and the accompanying visualization, we will then see if Drama (our highest ranking genre) garners a higher rating than the average movie (IE compared to the population of all genres other than Drama). The reason for this approach is so we can see which genre would be best to make a movie for.\n",
    "\n",
    "Our hypothesis is that there will be a signifcant difference between genres and that drama will be the best performing, such that the rating of drama films is higher than the average rating for the population.\n",
    "Our Null is that there is no difference."
   ]
  },
  {
   "cell_type": "code",
   "execution_count": null,
   "metadata": {},
   "outputs": [],
   "source": []
  },
  {
   "cell_type": "markdown",
   "metadata": {},
   "source": [
    "### Performing a simple one-way ANOVA for our 3 main genres...\n",
    "The aim of this is to see whether the difference in ratings between genres is signifcantly different.\n",
    "If so, we will we be interested in to see the how drama performs against the population."
   ]
  },
  {
   "cell_type": "code",
   "execution_count": 363,
   "metadata": {},
   "outputs": [],
   "source": [
    "# Can we perform an ANOVA on our data for 3 main title types to see if statistically different?\n",
    "# sample sizes vary between all genres so choosing the top 3 and will take n=50\n",
    "\n",
    "comedy=df_comedy.Rating.sample(n=50)\n",
    "drama=df_drama.Rating.sample(n=50)\n",
    "horror=df_horror.Rating.sample(n=50)\n",
    "\n",
    "# Concat tables together to plot boxplots on same graph\n",
    "df_cdh=df_ratings.loc[((df_ratings[\"Genre\"]==\"Comedy\")|(df_ratings[\"Genre\"]==\"Drama\")|(df_ratings[\"Genre\"]==\"Horror\")),:]"
   ]
  },
  {
   "cell_type": "code",
   "execution_count": 520,
   "metadata": {},
   "outputs": [
    {
     "name": "stdout",
     "output_type": "stream",
     "text": [
      "NormaltestResult(statistic=6.05835527266188, pvalue=0.04835538749348774)\n"
     ]
    },
    {
     "name": "stderr",
     "output_type": "stream",
     "text": [
      "/Users/flatironschool/anaconda3/envs/learn-env/lib/python3.6/site-packages/scipy/stats/stats.py:1713: FutureWarning: Using a non-tuple sequence for multidimensional indexing is deprecated; use `arr[tuple(seq)]` instead of `arr[seq]`. In the future this will be interpreted as an array index, `arr[np.array(seq)]`, which will result either in an error or a different result.\n",
      "  return np.add.reduce(sorted[indexer] * weights, axis=axis) / sumval\n"
     ]
    },
    {
     "data": {
      "image/png": "[encoded data removed]",
      "text/plain": [
       "<Figure size 432x288 with 1 Axes>"
      ]
     },
     "metadata": {
      "needs_background": "light"
     },
     "output_type": "display_data"
    }
   ],
   "source": [
    "sns.distplot(df_cdh.Rating)\n",
    "print(st.normaltest(df_cdh.Rating))"
   ]
  },
  {
   "cell_type": "code",
   "execution_count": 364,
   "metadata": {},
   "outputs": [
    {
     "data": {
      "text/plain": [
       "<matplotlib.axes._subplots.AxesSubplot at 0x1a1ccca550>"
      ]
     },
     "execution_count": 364,
     "metadata": {},
     "output_type": "execute_result"
    },
    {
     "data": {
      "image/png": "[encoded data removed]",
      "text/plain": [
       "<Figure size 432x288 with 1 Axes>"
      ]
     },
     "metadata": {
      "needs_background": "light"
     },
     "output_type": "display_data"
    }
   ],
   "source": [
    "# Let's plot the different sample sizes to observe the variance and mean values\n",
    "\n",
    "sns.boxplot(data=df_cdh,y=\"Rating\",x=\"Genre\")"
   ]
  },
  {
   "cell_type": "code",
   "execution_count": 521,
   "metadata": {},
   "outputs": [
    {
     "data": {
      "text/plain": [
       "F_onewayResult(statistic=14.135993042142003, pvalue=2.426357416750446e-06)"
      ]
     },
     "execution_count": 521,
     "metadata": {},
     "output_type": "execute_result"
    }
   ],
   "source": [
    "# Now perform a on-way ANOVA test for these random samples\n",
    "\n",
    "scipy.stats.f_oneway(comedy,drama,horror)     # Very small P-value and large F -> signifcant difference between genres"
   ]
  },
  {
   "cell_type": "code",
   "execution_count": 486,
   "metadata": {},
   "outputs": [],
   "source": [
    "def get_sample_mean(sample):\n",
    "    return sum(sample) / len(sample)\n",
    "\n",
    "def get_sample(data, n):\n",
    "    sample = []\n",
    "    while len(sample) != n:\n",
    "        x = np.random.choice(data)\n",
    "        sample.append(x)\n",
    "    return sample\n",
    "\n",
    "def create_sample_distribution(data, dist_size=100, n=30):\n",
    "    sample_dist = []\n",
    "    while len(sample_dist) != dist_size:\n",
    "        sample = get_sample(data, n)\n",
    "        sample_mean = get_sample_mean(sample)\n",
    "        sample_dist.append(sample_mean)\n",
    "    return sample_dist \n"
   ]
  },
  {
   "cell_type": "code",
   "execution_count": 500,
   "metadata": {},
   "outputs": [
    {
     "name": "stdout",
     "output_type": "stream",
     "text": [
      "For the population the standard deviation is: 1.055  with a median value of: 6.0  and a mean value of: 5.92\n",
      "For Comedy the standard deviation is: 0.959  with a median value of: 5.6  and a mean value of: 5.595\n",
      "For Drama the standard deviation is: 0.745  with a median value of: 6.45  and a mean value of: 6.356\n"
     ]
    }
   ],
   "source": [
    "print(\"For the population the standard deviation is:\",round(df_no_drama.Rating.std(),3),\" with a median value of:\",round(df_no_drama.Rating.median(),3),\" and a mean value of:\",round(df.Rating.mean(),3))\n",
    "\n",
    "print(\"For Comedy the standard deviation is:\",round(df_comedy.Rating.std(),3),\" with a median value of:\",round(df_comedy.Rating.median(),3),\" and a mean value of:\",round(df_comedy.Rating.mean(),3))\n",
    "\n",
    "print(\"For Drama the standard deviation is:\",round(df_drama.Rating.std(),3),\" with a median value of:\",round(df_drama.Rating.median(),3),\" and a mean value of:\",round(df_drama.Rating.mean(),3))\n"
   ]
  },
  {
   "cell_type": "markdown",
   "metadata": {},
   "source": [
    "Test 1: one sample z-test for Drama movies against the population."
   ]
  },
  {
   "cell_type": "code",
   "execution_count": 199,
   "metadata": {},
   "outputs": [
    {
     "data": {
      "text/plain": [
       "3.9292681057678576"
      ]
     },
     "execution_count": 199,
     "metadata": {},
     "output_type": "execute_result"
    }
   ],
   "source": [
    "# Performing z-test.\n",
    "\n",
    "x  = df_drama.Rating.mean()        # Our sample mean\n",
    "mu = df_no_drama.Rating.mean()     # The population mean (not including our sample)\n",
    "sigma = df_no_drama.Rating.std()   # The standard deviation of the population\n",
    "n = len(df_drama.Rating)-1         # The size of the sample, n being the number of items in the sample\n",
    "\n",
    "z = (x-mu)/(sigma/(n**0.5))        # The calculation for the z score\n",
    "z"
   ]
  },
  {
   "cell_type": "code",
   "execution_count": 200,
   "metadata": {},
   "outputs": [
    {
     "data": {
      "text/plain": [
       "0.9999573976002482"
      ]
     },
     "execution_count": 200,
     "metadata": {},
     "output_type": "execute_result"
    }
   ],
   "source": [
    "z_p=stats.norm.cdf(z)  # This calculates the related z-probability\n",
    "z_p                    # IE our value is 0.999, this is equivalent to 99.9% so we are saying that the area in our\n",
    "                       # distribution up to z is 99.9% such that our average value for Drama movies is greater than 99.9%\n",
    "                       # of the population"
   ]
  },
  {
   "cell_type": "code",
   "execution_count": 201,
   "metadata": {},
   "outputs": [
    {
     "data": {
      "text/plain": [
       "4.260239975184543e-05"
      ]
     },
     "execution_count": 201,
     "metadata": {},
     "output_type": "execute_result"
    }
   ],
   "source": [
    "p= 1-z_p               # This is our p value -> The chance that, given the null is true, we would \n",
    "p                      # see these results due to random chance."
   ]
  },
  {
   "cell_type": "code",
   "execution_count": 197,
   "metadata": {},
   "outputs": [],
   "source": [
    "# So we can say our result is signifcant as it has a very small p value and our z score gives a value of >99%"
   ]
  },
  {
   "cell_type": "code",
   "execution_count": 537,
   "metadata": {},
   "outputs": [
    {
     "data": {
      "image/png": "[encoded data removed]",
      "text/plain": [
       "<Figure size 576x396 with 1 Axes>"
      ]
     },
     "metadata": {},
     "output_type": "display_data"
    }
   ],
   "source": [
    "# Visualize the difference\n",
    "\n",
    "plt.style.use('seaborn')\n",
    "plt.fill_between(x=np.arange(-5,3.92,0.01),\n",
    "                 y1= stats.norm.pdf(np.arange(-5,3.92,0.01)),\n",
    "                 facecolor='green',\n",
    "                 alpha=0.35,\n",
    "                 label= 'Area below z-statistic'\n",
    "                 )\n",
    "\n",
    "plt.fill_between(x=np.arange(3.92,5,0.01), \n",
    "                 y1= stats.norm.pdf(np.arange(3.92,5,0.01)),\n",
    "                 facecolor='blue',\n",
    "                 alpha=0.35, \n",
    "                 label= 'Area above z-statistic')\n",
    "plt.legend()\n",
    "plt.title ('z-statistic = 3.92');"
   ]
  },
  {
   "cell_type": "code",
   "execution_count": 212,
   "metadata": {},
   "outputs": [
    {
     "data": {
      "text/plain": [
       "0.3980553128668524"
      ]
     },
     "execution_count": 212,
     "metadata": {},
     "output_type": "execute_result"
    }
   ],
   "source": [
    "# So what is the effect size? -> Cohen's d\n",
    "\n",
    "sd1 = df_no_drama.Rating.std()\n",
    "sd2 = df_drama.Rating.std()\n",
    "mu1 = df_no_drama.Rating.mean()\n",
    "mu2 = df_drama.Rating.mean()\n",
    "\n",
    "\n",
    "sigma_pooled = ((sd1**2 + sd2**2)/2)**0.5\n",
    "\n",
    "effect_size = (mu2-mu1)/(sigma_pooled)\n",
    "\n",
    "effect_size"
   ]
  },
  {
   "cell_type": "markdown",
   "metadata": {},
   "source": [
    "## How do Netflix films compare to the population?\n",
    "In this section we will use a Welch's T-Test as our variance in the Netflix subset and population do not have equal variance (as are not uniform) so this test will be more appropriate without having to normalise our dataset as we did previously. \n",
    "\n",
    "Our hypothesis is that Netflix films will perform better or worse than the population - IE they will differ in rating.\n",
    "Our null is that there is no difference between Netflix films and the population."
   ]
  },
  {
   "cell_type": "code",
   "execution_count": 420,
   "metadata": {},
   "outputs": [
    {
     "name": "stdout",
     "output_type": "stream",
     "text": [
      "Netflix has  122  films in total.\n",
      "Netflix has  10   Drama films.\n"
     ]
    }
   ],
   "source": [
    "# How many films does Netflix have here and how many are drama?\n",
    "print(\"Netflix has \",len(df_ratings.loc[df_ratings[\"Production\"]==\"Netflix\",:]),\" films in total.\")\n",
    "print(\"Netflix has \",len(df_ratings.loc[(df_ratings[\"Production\"]==\"Netflix\")&(df_ratings[\"Genre\"]==\"Drama\"),:]),\"  Drama films.\")"
   ]
  },
  {
   "cell_type": "code",
   "execution_count": 432,
   "metadata": {},
   "outputs": [
    {
     "name": "stdout",
     "output_type": "stream",
     "text": [
      "<class 'pandas.core.frame.DataFrame'>\n",
      "RangeIndex: 2015 entries, 0 to 2014\n",
      "Data columns (total 15 columns):\n",
      "Title_ID              2015 non-null object\n",
      "Release_Year          2015 non-null int64\n",
      "Runtime(Minutes)      2015 non-null int64\n",
      "Genre                 2015 non-null object\n",
      "Title                 2015 non-null object\n",
      "Rating                2015 non-null float64\n",
      "Number_of_Votes       2015 non-null int64\n",
      "Budget(LCY)           1004 non-null object\n",
      "USA_Gross($)          1085 non-null float64\n",
      "Worldwide_Gross($)    1386 non-null float64\n",
      "Released_Date         2005 non-null object\n",
      "Rotten_Tomatoes       1522 non-null float64\n",
      "Metascore             1461 non-null float64\n",
      "Actors                2015 non-null object\n",
      "Production            1678 non-null object\n",
      "dtypes: float64(5), int64(3), object(7)\n",
      "memory usage: 236.2+ KB\n"
     ]
    },
    {
     "data": {
      "text/plain": [
       "Index(['Title_ID', 'Release_Year', 'Runtime(Minutes)', 'Genre', 'Title',\n",
       "       'Rating', 'Number_of_Votes', 'Budget(LCY)', 'USA_Gross($)',\n",
       "       'Worldwide_Gross($)', 'Released_Date', 'Rotten_Tomatoes', 'Metascore',\n",
       "       'Actors', 'Production'],\n",
       "      dtype='object')"
      ]
     },
     "execution_count": 432,
     "metadata": {},
     "output_type": "execute_result"
    }
   ],
   "source": [
    "df_ratings.info()\n",
    "df_ratings.columns"
   ]
  },
  {
   "cell_type": "code",
   "execution_count": 452,
   "metadata": {},
   "outputs": [],
   "source": [
    "df_netflix = df_ratings.loc[df_ratings[\"Production\"]==\"Netflix\",:]\n",
    "df_rest    = df_ratings.loc[df_ratings[\"Production\"]!=\"Netflix\",:]"
   ]
  },
  {
   "cell_type": "code",
   "execution_count": 453,
   "metadata": {},
   "outputs": [
    {
     "name": "stderr",
     "output_type": "stream",
     "text": [
      "/Users/flatironschool/anaconda3/envs/learn-env/lib/python3.6/site-packages/scipy/stats/stats.py:1713: FutureWarning: Using a non-tuple sequence for multidimensional indexing is deprecated; use `arr[tuple(seq)]` instead of `arr[seq]`. In the future this will be interpreted as an array index, `arr[np.array(seq)]`, which will result either in an error or a different result.\n",
      "  return np.add.reduce(sorted[indexer] * weights, axis=axis) / sumval\n"
     ]
    },
    {
     "data": {
      "text/plain": [
       "<matplotlib.axes._subplots.AxesSubplot at 0x1a1fb99748>"
      ]
     },
     "execution_count": 453,
     "metadata": {},
     "output_type": "execute_result"
    },
    {
     "data": {
      "image/png": "[encoded data removed]",
      "text/plain": [
       "<Figure size 432x288 with 1 Axes>"
      ]
     },
     "metadata": {
      "needs_background": "light"
     },
     "output_type": "display_data"
    }
   ],
   "source": [
    "sns.distplot(df_netflix.Rating)\n",
    "sns.distplot(df_rest.Rating)"
   ]
  },
  {
   "cell_type": "code",
   "execution_count": 465,
   "metadata": {},
   "outputs": [
    {
     "name": "stdout",
     "output_type": "stream",
     "text": [
      "1.0629724003438397 5.911251980982567\n",
      "0.8400315637194714 6.06311475409836\n"
     ]
    }
   ],
   "source": [
    "print(df_rest.Rating.std(),df_rest.Rating.mean())\n",
    "print(df_netflix.Rating.std(),df_netflix.Rating.mean())\n"
   ]
  },
  {
   "cell_type": "code",
   "execution_count": 461,
   "metadata": {},
   "outputs": [
    {
     "data": {
      "text/plain": [
       "1.5715276367790647"
      ]
     },
     "execution_count": 461,
     "metadata": {},
     "output_type": "execute_result"
    }
   ],
   "source": [
    "x_netflix  = df_netflix.Rating.mean()      \n",
    "mu_not_netflix = df_rest.Rating.mean()     \n",
    "sigma_not_netflix = df_rest.Rating.std()   \n",
    "n_netflix = len(df_netflix.Rating)-1        \n",
    "\n",
    "z_netflix = (x_netflix-mu_not_netflix)/(sigma_not_netflix/(n_netflix**0.5))        \n",
    "z_netflix"
   ]
  },
  {
   "cell_type": "code",
   "execution_count": 455,
   "metadata": {},
   "outputs": [
    {
     "name": "stdout",
     "output_type": "stream",
     "text": [
      "The z score is 0.9999573976002482  and the corresponding probability is  4.260239975184543e-05 \n",
      "Therefore we can say that the difference is statistically significant\n"
     ]
    }
   ],
   "source": [
    "z_netflix_p = stats.norm.cdf(z) \n",
    "p_netflix   = 1-z_netflix_p\n",
    "\n",
    "print(\"The z score is\", z_netflix_p,\" and the corresponding probability is \", p_netflix,\"\\nTherefore we can say that the difference is statistically significant\")"
   ]
  },
  {
   "cell_type": "code",
   "execution_count": 467,
   "metadata": {},
   "outputs": [
    {
     "name": "stdout",
     "output_type": "stream",
     "text": [
      "This comes with an effect size of  0.16  which isn't tiny.\n"
     ]
    }
   ],
   "source": [
    "# So what is the effect size? -> Cohen's d\n",
    "\n",
    "sd_not_netflix = df_rest.Rating.std()\n",
    "sd_netflix = df_netflix.Rating.std()\n",
    "mu_not_netflix = df_rest.Rating.mean()\n",
    "mu_netflix = df_netflix.Rating.mean()\n",
    "\n",
    "\n",
    "sigma_pooled_netflix = ((sd_not_netflix**2 + sd_netflix**2)/2)**0.5\n",
    "\n",
    "effect_size_netflix = (mu_netflix-mu_not_netflix)/(sigma_pooled_netflix)\n",
    "\n",
    "print(\"This comes with an effect size of \", round(effect_size_netflix,2),\" which isn't tiny.\")"
   ]
  },
  {
   "cell_type": "code",
   "execution_count": null,
   "metadata": {},
   "outputs": [],
   "source": []
  }
 ],
 "metadata": {
  "kernelspec": {
   "display_name": "Python [conda env:learn-env] *",
   "language": "python",
   "name": "conda-env-learn-env-py"
  },
  "language_info": {
   "codemirror_mode": {
    "name": "ipython",
    "version": 3
   },
   "file_extension": ".py",
   "mimetype": "text/x-python",
   "name": "python",
   "nbconvert_exporter": "python",
   "pygments_lexer": "ipython3",
   "version": "3.6.6"
  }
 },
 "nbformat": 4,
 "nbformat_minor": 4
}
