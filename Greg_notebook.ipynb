{
 "cells": [
  {
   "cell_type": "code",
   "execution_count": 136,
   "metadata": {},
   "outputs": [],
   "source": [
    "import math\n",
    "import pandas as pd\n",
    "import numpy as np\n",
    "import seaborn as sns\n",
    "from CleaningFunctions import Clean\n"
   ]
  },
  {
   "cell_type": "code",
   "execution_count": 137,
   "metadata": {},
   "outputs": [
    {
     "name": "stdout",
     "output_type": "stream",
     "text": [
      "The autoreload extension is already loaded. To reload it, use:\n",
      "  %reload_ext autoreload\n"
     ]
    }
   ],
   "source": [
    "%load_ext autoreload\n",
    "%autoreload 2"
   ]
  },
  {
   "cell_type": "code",
   "execution_count": 138,
   "metadata": {},
   "outputs": [
    {
     "data": {
      "text/html": [
       "<div>\n",
       "<style scoped>\n",
       "    .dataframe tbody tr th:only-of-type {\n",
       "        vertical-align: middle;\n",
       "    }\n",
       "\n",
       "    .dataframe tbody tr th {\n",
       "        vertical-align: top;\n",
       "    }\n",
       "\n",
       "    .dataframe thead th {\n",
       "        text-align: right;\n",
       "    }\n",
       "</style>\n",
       "<table border=\"1\" class=\"dataframe\">\n",
       "  <thead>\n",
       "    <tr style=\"text-align: right;\">\n",
       "      <th></th>\n",
       "      <th>tconst</th>\n",
       "      <th>titleType</th>\n",
       "      <th>primaryTitle</th>\n",
       "      <th>originalTitle</th>\n",
       "      <th>isAdult</th>\n",
       "      <th>startYear</th>\n",
       "      <th>endYear</th>\n",
       "      <th>runtimeMinutes</th>\n",
       "      <th>genres</th>\n",
       "      <th>title</th>\n",
       "      <th>check</th>\n",
       "      <th>averageRating</th>\n",
       "      <th>numVotes</th>\n",
       "    </tr>\n",
       "  </thead>\n",
       "  <tbody>\n",
       "    <tr>\n",
       "      <th>0</th>\n",
       "      <td>tt0069049</td>\n",
       "      <td>movie</td>\n",
       "      <td>The Other Side of the Wind</td>\n",
       "      <td>The Other Side of the Wind</td>\n",
       "      <td>0</td>\n",
       "      <td>2018</td>\n",
       "      <td>\\N</td>\n",
       "      <td>122</td>\n",
       "      <td>Drama</td>\n",
       "      <td>The Other Side of the Wind</td>\n",
       "      <td>1</td>\n",
       "      <td>6.9</td>\n",
       "      <td>4989</td>\n",
       "    </tr>\n",
       "    <tr>\n",
       "      <th>1</th>\n",
       "      <td>tt0339736</td>\n",
       "      <td>movie</td>\n",
       "      <td>The Evil Within</td>\n",
       "      <td>The Evil Within</td>\n",
       "      <td>0</td>\n",
       "      <td>2017</td>\n",
       "      <td>\\N</td>\n",
       "      <td>98</td>\n",
       "      <td>Horror</td>\n",
       "      <td>The Evil Within</td>\n",
       "      <td>1</td>\n",
       "      <td>5.5</td>\n",
       "      <td>2572</td>\n",
       "    </tr>\n",
       "    <tr>\n",
       "      <th>2</th>\n",
       "      <td>tt0360556</td>\n",
       "      <td>movie</td>\n",
       "      <td>Fahrenheit 451</td>\n",
       "      <td>Fahrenheit 451</td>\n",
       "      <td>0</td>\n",
       "      <td>2018</td>\n",
       "      <td>\\N</td>\n",
       "      <td>100</td>\n",
       "      <td>Drama,Sci-Fi,Thriller</td>\n",
       "      <td>Fahrenheit 451</td>\n",
       "      <td>1</td>\n",
       "      <td>4.9</td>\n",
       "      <td>15295</td>\n",
       "    </tr>\n",
       "    <tr>\n",
       "      <th>3</th>\n",
       "      <td>tt0365545</td>\n",
       "      <td>movie</td>\n",
       "      <td>Nappily Ever After</td>\n",
       "      <td>Nappily Ever After</td>\n",
       "      <td>0</td>\n",
       "      <td>2018</td>\n",
       "      <td>\\N</td>\n",
       "      <td>98</td>\n",
       "      <td>Comedy,Drama,Romance</td>\n",
       "      <td>Nappily Ever After</td>\n",
       "      <td>1</td>\n",
       "      <td>6.4</td>\n",
       "      <td>6718</td>\n",
       "    </tr>\n",
       "    <tr>\n",
       "      <th>4</th>\n",
       "      <td>tt0369610</td>\n",
       "      <td>movie</td>\n",
       "      <td>Jurassic World</td>\n",
       "      <td>Jurassic World</td>\n",
       "      <td>0</td>\n",
       "      <td>2015</td>\n",
       "      <td>\\N</td>\n",
       "      <td>124</td>\n",
       "      <td>Action,Adventure,Sci-Fi</td>\n",
       "      <td>Jurassic World</td>\n",
       "      <td>1</td>\n",
       "      <td>7.0</td>\n",
       "      <td>549806</td>\n",
       "    </tr>\n",
       "  </tbody>\n",
       "</table>\n",
       "</div>"
      ],
      "text/plain": [
       "      tconst titleType                primaryTitle  \\\n",
       "0  tt0069049     movie  The Other Side of the Wind   \n",
       "1  tt0339736     movie             The Evil Within   \n",
       "2  tt0360556     movie              Fahrenheit 451   \n",
       "3  tt0365545     movie          Nappily Ever After   \n",
       "4  tt0369610     movie              Jurassic World   \n",
       "\n",
       "                originalTitle  isAdult  startYear endYear  runtimeMinutes  \\\n",
       "0  The Other Side of the Wind        0       2018      \\N             122   \n",
       "1             The Evil Within        0       2017      \\N              98   \n",
       "2              Fahrenheit 451        0       2018      \\N             100   \n",
       "3          Nappily Ever After        0       2018      \\N              98   \n",
       "4              Jurassic World        0       2015      \\N             124   \n",
       "\n",
       "                    genres                       title  check  averageRating  \\\n",
       "0                    Drama  The Other Side of the Wind      1            6.9   \n",
       "1                   Horror             The Evil Within      1            5.5   \n",
       "2    Drama,Sci-Fi,Thriller              Fahrenheit 451      1            4.9   \n",
       "3     Comedy,Drama,Romance          Nappily Ever After      1            6.4   \n",
       "4  Action,Adventure,Sci-Fi              Jurassic World      1            7.0   \n",
       "\n",
       "   numVotes  \n",
       "0      4989  \n",
       "1      2572  \n",
       "2     15295  \n",
       "3      6718  \n",
       "4    549806  "
      ]
     },
     "execution_count": 138,
     "metadata": {},
     "output_type": "execute_result"
    }
   ],
   "source": [
    "# Read in data as pandas dataframe\n",
    "\n",
    "df=pd.read_csv(\"2016_2019_USmovies.csv\")\n",
    "df.head()\n"
   ]
  },
  {
   "cell_type": "code",
   "execution_count": 139,
   "metadata": {},
   "outputs": [
    {
     "data": {
      "text/html": [
       "<div>\n",
       "<style scoped>\n",
       "    .dataframe tbody tr th:only-of-type {\n",
       "        vertical-align: middle;\n",
       "    }\n",
       "\n",
       "    .dataframe tbody tr th {\n",
       "        vertical-align: top;\n",
       "    }\n",
       "\n",
       "    .dataframe thead th {\n",
       "        text-align: right;\n",
       "    }\n",
       "</style>\n",
       "<table border=\"1\" class=\"dataframe\">\n",
       "  <thead>\n",
       "    <tr style=\"text-align: right;\">\n",
       "      <th></th>\n",
       "      <th>Title_ID</th>\n",
       "      <th>titleType</th>\n",
       "      <th>primaryTitle</th>\n",
       "      <th>originalTitle</th>\n",
       "      <th>Adult</th>\n",
       "      <th>Release_Year</th>\n",
       "      <th>endYear</th>\n",
       "      <th>Runtime(Minutes)</th>\n",
       "      <th>Genre</th>\n",
       "      <th>Title</th>\n",
       "      <th>Check</th>\n",
       "      <th>Rating</th>\n",
       "      <th>Number_of_Votes</th>\n",
       "    </tr>\n",
       "  </thead>\n",
       "  <tbody>\n",
       "    <tr>\n",
       "      <th>0</th>\n",
       "      <td>tt0069049</td>\n",
       "      <td>movie</td>\n",
       "      <td>The Other Side of the Wind</td>\n",
       "      <td>The Other Side of the Wind</td>\n",
       "      <td>0</td>\n",
       "      <td>2018</td>\n",
       "      <td>\\N</td>\n",
       "      <td>122</td>\n",
       "      <td>Drama</td>\n",
       "      <td>The Other Side of the Wind</td>\n",
       "      <td>1</td>\n",
       "      <td>6.9</td>\n",
       "      <td>4989</td>\n",
       "    </tr>\n",
       "    <tr>\n",
       "      <th>1</th>\n",
       "      <td>tt0339736</td>\n",
       "      <td>movie</td>\n",
       "      <td>The Evil Within</td>\n",
       "      <td>The Evil Within</td>\n",
       "      <td>0</td>\n",
       "      <td>2017</td>\n",
       "      <td>\\N</td>\n",
       "      <td>98</td>\n",
       "      <td>Horror</td>\n",
       "      <td>The Evil Within</td>\n",
       "      <td>1</td>\n",
       "      <td>5.5</td>\n",
       "      <td>2572</td>\n",
       "    </tr>\n",
       "    <tr>\n",
       "      <th>2</th>\n",
       "      <td>tt0360556</td>\n",
       "      <td>movie</td>\n",
       "      <td>Fahrenheit 451</td>\n",
       "      <td>Fahrenheit 451</td>\n",
       "      <td>0</td>\n",
       "      <td>2018</td>\n",
       "      <td>\\N</td>\n",
       "      <td>100</td>\n",
       "      <td>Drama,Sci-Fi,Thriller</td>\n",
       "      <td>Fahrenheit 451</td>\n",
       "      <td>1</td>\n",
       "      <td>4.9</td>\n",
       "      <td>15295</td>\n",
       "    </tr>\n",
       "    <tr>\n",
       "      <th>3</th>\n",
       "      <td>tt0365545</td>\n",
       "      <td>movie</td>\n",
       "      <td>Nappily Ever After</td>\n",
       "      <td>Nappily Ever After</td>\n",
       "      <td>0</td>\n",
       "      <td>2018</td>\n",
       "      <td>\\N</td>\n",
       "      <td>98</td>\n",
       "      <td>Comedy,Drama,Romance</td>\n",
       "      <td>Nappily Ever After</td>\n",
       "      <td>1</td>\n",
       "      <td>6.4</td>\n",
       "      <td>6718</td>\n",
       "    </tr>\n",
       "    <tr>\n",
       "      <th>4</th>\n",
       "      <td>tt0369610</td>\n",
       "      <td>movie</td>\n",
       "      <td>Jurassic World</td>\n",
       "      <td>Jurassic World</td>\n",
       "      <td>0</td>\n",
       "      <td>2015</td>\n",
       "      <td>\\N</td>\n",
       "      <td>124</td>\n",
       "      <td>Action,Adventure,Sci-Fi</td>\n",
       "      <td>Jurassic World</td>\n",
       "      <td>1</td>\n",
       "      <td>7.0</td>\n",
       "      <td>549806</td>\n",
       "    </tr>\n",
       "  </tbody>\n",
       "</table>\n",
       "</div>"
      ],
      "text/plain": [
       "    Title_ID titleType                primaryTitle  \\\n",
       "0  tt0069049     movie  The Other Side of the Wind   \n",
       "1  tt0339736     movie             The Evil Within   \n",
       "2  tt0360556     movie              Fahrenheit 451   \n",
       "3  tt0365545     movie          Nappily Ever After   \n",
       "4  tt0369610     movie              Jurassic World   \n",
       "\n",
       "                originalTitle  Adult  Release_Year endYear  Runtime(Minutes)  \\\n",
       "0  The Other Side of the Wind      0          2018      \\N               122   \n",
       "1             The Evil Within      0          2017      \\N                98   \n",
       "2              Fahrenheit 451      0          2018      \\N               100   \n",
       "3          Nappily Ever After      0          2018      \\N                98   \n",
       "4              Jurassic World      0          2015      \\N               124   \n",
       "\n",
       "                     Genre                       Title  Check  Rating  \\\n",
       "0                    Drama  The Other Side of the Wind      1     6.9   \n",
       "1                   Horror             The Evil Within      1     5.5   \n",
       "2    Drama,Sci-Fi,Thriller              Fahrenheit 451      1     4.9   \n",
       "3     Comedy,Drama,Romance          Nappily Ever After      1     6.4   \n",
       "4  Action,Adventure,Sci-Fi              Jurassic World      1     7.0   \n",
       "\n",
       "   Number_of_Votes  \n",
       "0             4989  \n",
       "1             2572  \n",
       "2            15295  \n",
       "3             6718  \n",
       "4           549806  "
      ]
     },
     "execution_count": 139,
     "metadata": {},
     "output_type": "execute_result"
    }
   ],
   "source": [
    "# Let's clean the data and rename columns so we know what we're looking at\n",
    "\n",
    "columns=[\"tconst\",\"title\",\"isAdult\",\"startYear\",\"runtimeMinutes\",\"check\",\"averageRating\",\"genres\",\"numVotes\"]\n",
    "names=[\"Title_ID\",\"Title\",\"Adult\",\"Release_Year\",\"Runtime(Minutes)\",\"Check\",\"Rating\",\"Genre\",\"Number_of_Votes\"]\n",
    "\n",
    "for column,name in list(zip(columns,names)):\n",
    "    df.rename(columns={column:name},inplace=True)\n",
    "    \n",
    "df.head()"
   ]
  },
  {
   "cell_type": "code",
   "execution_count": 140,
   "metadata": {},
   "outputs": [
    {
     "data": {
      "text/html": [
       "<div>\n",
       "<style scoped>\n",
       "    .dataframe tbody tr th:only-of-type {\n",
       "        vertical-align: middle;\n",
       "    }\n",
       "\n",
       "    .dataframe tbody tr th {\n",
       "        vertical-align: top;\n",
       "    }\n",
       "\n",
       "    .dataframe thead th {\n",
       "        text-align: right;\n",
       "    }\n",
       "</style>\n",
       "<table border=\"1\" class=\"dataframe\">\n",
       "  <thead>\n",
       "    <tr style=\"text-align: right;\">\n",
       "      <th></th>\n",
       "      <th>Title_ID</th>\n",
       "      <th>Release_Year</th>\n",
       "      <th>Runtime(Minutes)</th>\n",
       "      <th>Genre</th>\n",
       "      <th>Title</th>\n",
       "      <th>Rating</th>\n",
       "      <th>Number_of_Votes</th>\n",
       "    </tr>\n",
       "  </thead>\n",
       "  <tbody>\n",
       "    <tr>\n",
       "      <th>0</th>\n",
       "      <td>tt0069049</td>\n",
       "      <td>2018</td>\n",
       "      <td>122</td>\n",
       "      <td>Drama</td>\n",
       "      <td>The Other Side of the Wind</td>\n",
       "      <td>6.9</td>\n",
       "      <td>4989</td>\n",
       "    </tr>\n",
       "    <tr>\n",
       "      <th>1</th>\n",
       "      <td>tt0339736</td>\n",
       "      <td>2017</td>\n",
       "      <td>98</td>\n",
       "      <td>Horror</td>\n",
       "      <td>The Evil Within</td>\n",
       "      <td>5.5</td>\n",
       "      <td>2572</td>\n",
       "    </tr>\n",
       "    <tr>\n",
       "      <th>2</th>\n",
       "      <td>tt0360556</td>\n",
       "      <td>2018</td>\n",
       "      <td>100</td>\n",
       "      <td>Drama,Sci-Fi,Thriller</td>\n",
       "      <td>Fahrenheit 451</td>\n",
       "      <td>4.9</td>\n",
       "      <td>15295</td>\n",
       "    </tr>\n",
       "    <tr>\n",
       "      <th>3</th>\n",
       "      <td>tt0365545</td>\n",
       "      <td>2018</td>\n",
       "      <td>98</td>\n",
       "      <td>Comedy,Drama,Romance</td>\n",
       "      <td>Nappily Ever After</td>\n",
       "      <td>6.4</td>\n",
       "      <td>6718</td>\n",
       "    </tr>\n",
       "    <tr>\n",
       "      <th>4</th>\n",
       "      <td>tt0369610</td>\n",
       "      <td>2015</td>\n",
       "      <td>124</td>\n",
       "      <td>Action,Adventure,Sci-Fi</td>\n",
       "      <td>Jurassic World</td>\n",
       "      <td>7.0</td>\n",
       "      <td>549806</td>\n",
       "    </tr>\n",
       "  </tbody>\n",
       "</table>\n",
       "</div>"
      ],
      "text/plain": [
       "    Title_ID  Release_Year  Runtime(Minutes)                    Genre  \\\n",
       "0  tt0069049          2018               122                    Drama   \n",
       "1  tt0339736          2017                98                   Horror   \n",
       "2  tt0360556          2018               100    Drama,Sci-Fi,Thriller   \n",
       "3  tt0365545          2018                98     Comedy,Drama,Romance   \n",
       "4  tt0369610          2015               124  Action,Adventure,Sci-Fi   \n",
       "\n",
       "                        Title  Rating  Number_of_Votes  \n",
       "0  The Other Side of the Wind     6.9             4989  \n",
       "1             The Evil Within     5.5             2572  \n",
       "2              Fahrenheit 451     4.9            15295  \n",
       "3          Nappily Ever After     6.4             6718  \n",
       "4              Jurassic World     7.0           549806  "
      ]
     },
     "execution_count": 140,
     "metadata": {},
     "output_type": "execute_result"
    }
   ],
   "source": [
    "# Now to drop columns we aren't interested in or that hold irrelevant data\n",
    "\n",
    "df.drop(columns=[\"titleType\",\"primaryTitle\",\"originalTitle\",\"endYear\",\"Adult\",\"Check\"],inplace=True)\n",
    "\n",
    "df.head()"
   ]
  },
  {
   "cell_type": "code",
   "execution_count": null,
   "metadata": {},
   "outputs": [],
   "source": [
    "# Create binaries for the genres we're interested in for analysis later on"
   ]
  },
  {
   "cell_type": "code",
   "execution_count": 141,
   "metadata": {},
   "outputs": [
    {
     "name": "stdout",
     "output_type": "stream",
     "text": [
      "       Release_Year  Runtime(Minutes)       Rating  Number_of_Votes\n",
      "count   2015.000000       2015.000000  2015.000000      2015.000000\n",
      "mean    2016.715633        101.181141     5.920447     42005.702233\n",
      "std        1.355422         15.783114     1.051272     91376.330598\n",
      "min     2014.000000         46.000000     1.400000       984.000000\n",
      "25%     2016.000000         90.000000     5.300000      2377.500000\n",
      "50%     2017.000000         98.000000     6.000000      7601.000000\n",
      "75%     2018.000000        109.000000     6.600000     36685.500000\n",
      "max     2019.000000        209.000000    10.000000    844981.000000\n",
      "<class 'pandas.core.frame.DataFrame'>\n",
      "RangeIndex: 2015 entries, 0 to 2014\n",
      "Data columns (total 7 columns):\n",
      "Title_ID            2015 non-null object\n",
      "Release_Year        2015 non-null int64\n",
      "Runtime(Minutes)    2015 non-null int64\n",
      "Genre               2015 non-null object\n",
      "Title               2015 non-null object\n",
      "Rating              2015 non-null float64\n",
      "Number_of_Votes     2015 non-null int64\n",
      "dtypes: float64(1), int64(3), object(3)\n",
      "memory usage: 110.3+ KB\n",
      "None\n",
      "(2015, 7)\n"
     ]
    }
   ],
   "source": [
    "# Now to check our data makes sense and we have no nulls\n",
    "print(df.describe())\n",
    "print(df.info())\n",
    "print(df.shape)"
   ]
  },
  {
   "cell_type": "code",
   "execution_count": 142,
   "metadata": {},
   "outputs": [
    {
     "name": "stdout",
     "output_type": "stream",
     "text": [
      "df_comedy contains (101, 7) entries\n",
      "df_drama contains (112, 7) entries\n",
      "df_horror contains (64, 7) entries\n",
      "df_scifi contains (4, 7) entries\n",
      "df_action contains (7, 7) entries\n",
      "df_romance contains (3, 7) entries\n"
     ]
    }
   ],
   "source": [
    "# Now split into separate databases based on genre\n",
    "\n",
    "df_comedy=df.loc[df[\"Genre\"]==\"Comedy\",:]\n",
    "df_drama=df.loc[df[\"Genre\"]==\"Drama\",:]\n",
    "df_horror=df.loc[df[\"Genre\"]==\"Horror\",:]\n",
    "df_scifi=df.loc[df[\"Genre\"]==\"Sci-Fi\",:]\n",
    "df_action=df.loc[df[\"Genre\"]==\"Action\",:]\n",
    "df_romance=df.loc[df[\"Genre\"]==\"Romance\",:]\n",
    "\n",
    "\n",
    "# Print shape of dataframe so we know the sample sizes\n",
    "\n",
    "print(\"df_comedy contains\",df_comedy.shape,\"entries\")\n",
    "print(\"df_drama contains\",df_drama.shape,\"entries\")\n",
    "print(\"df_horror contains\",df_horror.shape,\"entries\")\n",
    "print(\"df_scifi contains\",df_scifi.shape,\"entries\")\n",
    "print(\"df_action contains\",df_action.shape,\"entries\")\n",
    "print(\"df_romance contains\",df_romance.shape,\"entries\")\n"
   ]
  },
  {
   "cell_type": "code",
   "execution_count": 144,
   "metadata": {},
   "outputs": [
    {
     "name": "stderr",
     "output_type": "stream",
     "text": [
      "/Users/flatironschool/anaconda3/envs/learn-env/lib/python3.6/site-packages/scipy/stats/stats.py:1713: FutureWarning: Using a non-tuple sequence for multidimensional indexing is deprecated; use `arr[tuple(seq)]` instead of `arr[seq]`. In the future this will be interpreted as an array index, `arr[np.array(seq)]`, which will result either in an error or a different result.\n",
      "  return np.add.reduce(sorted[indexer] * weights, axis=axis) / sumval\n"
     ]
    },
    {
     "data": {
      "text/plain": [
       "<matplotlib.axes._subplots.AxesSubplot at 0x1a1c188668>"
      ]
     },
     "execution_count": 144,
     "metadata": {},
     "output_type": "execute_result"
    },
    {
     "data": {
      "image/png": "[encoded data removed]",
      "text/plain": [
       "<Figure size 432x288 with 1 Axes>"
      ]
     },
     "metadata": {
      "needs_background": "light"
     },
     "output_type": "display_data"
    }
   ],
   "source": [
    "sns.distplot(df.Rating)\n",
    "sns.distplot(df_drama.Rating)\n",
    "# sns.distplot(df_horror.Rating)\n",
    "# sns.distplot(df_scifi.Rating)\n",
    "# sns.distplot(df_action.Rating)\n",
    "# sns.distplot(df_romance.Rating)"
   ]
  },
  {
   "cell_type": "code",
   "execution_count": 150,
   "metadata": {},
   "outputs": [
    {
     "name": "stderr",
     "output_type": "stream",
     "text": [
      "/Users/flatironschool/anaconda3/envs/learn-env/lib/python3.6/site-packages/scipy/stats/stats.py:1713: FutureWarning: Using a non-tuple sequence for multidimensional indexing is deprecated; use `arr[tuple(seq)]` instead of `arr[seq]`. In the future this will be interpreted as an array index, `arr[np.array(seq)]`, which will result either in an error or a different result.\n",
      "  return np.add.reduce(sorted[indexer] * weights, axis=axis) / sumval\n"
     ]
    },
    {
     "data": {
      "text/plain": [
       "<matplotlib.axes._subplots.AxesSubplot at 0x1a1c43ce48>"
      ]
     },
     "execution_count": 150,
     "metadata": {},
     "output_type": "execute_result"
    },
    {
     "data": {
      "image/png": "[encoded data removed]",
      "text/plain": [
       "<Figure size 432x288 with 1 Axes>"
      ]
     },
     "metadata": {
      "needs_background": "light"
     },
     "output_type": "display_data"
    }
   ],
   "source": [
    "sns.distplot(df.Rating)\n",
    "sns.distplot(df_comedy.Rating)\n",
    "sns.distplot(df_drama.Rating)"
   ]
  },
  {
   "cell_type": "code",
   "execution_count": 154,
   "metadata": {},
   "outputs": [
    {
     "name": "stdout",
     "output_type": "stream",
     "text": [
      "For the population the standard deviation is: 1.051271891981967  with a median value of: 6.0  and a mean value of: 5.92044665012407\n",
      "For Comedy the standard deviation is: 0.9587884268829868  with a median value of: 5.6  and a mean value of: 5.595049504950495\n",
      "For Drama the standard deviation is: 0.9169218376561092  with a median value of: 6.4  and a mean value of: 6.291964285714286\n"
     ]
    }
   ],
   "source": [
    "print(\"For the population the standard deviation is:\",df.Rating.std(),\" with a median value of:\",df.Rating.median(),\" and a mean value of:\",df.Rating.mean())\n",
    "\n",
    "print(\"For Comedy the standard deviation is:\",df_comedy.Rating.std(),\" with a median value of:\",df_comedy.Rating.median(),\" and a mean value of:\",df_comedy.Rating.mean())\n",
    "\n",
    "print(\"For Drama the standard deviation is:\",df_drama.Rating.std(),\" with a median value of:\",df_drama.Rating.median(),\" and a mean value of:\",df_drama.Rating.mean())\n"
   ]
  },
  {
   "cell_type": "code",
   "execution_count": null,
   "metadata": {},
   "outputs": [],
   "source": []
  }
 ],
 "metadata": {
  "kernelspec": {
   "display_name": "Python [conda env:learn-env] *",
   "language": "python",
   "name": "conda-env-learn-env-py"
  },
  "language_info": {
   "codemirror_mode": {
    "name": "ipython",
    "version": 3
   },
   "file_extension": ".py",
   "mimetype": "text/x-python",
   "name": "python",
   "nbconvert_exporter": "python",
   "pygments_lexer": "ipython3",
   "version": "3.6.6"
  }
 },
 "nbformat": 4,
 "nbformat_minor": 4
}
